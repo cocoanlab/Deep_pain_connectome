{
 "cells": [
  {
   "cell_type": "code",
   "execution_count": 1,
   "metadata": {},
   "outputs": [],
   "source": [
    "from file_listing import *\n",
    "import numpy as np\n",
    "import os"
   ]
  },
  {
   "cell_type": "code",
   "execution_count": 2,
   "metadata": {},
   "outputs": [],
   "source": [
    "basedir = '/media/cocoan-gpu1/wani8T/data/deeppain'"
   ]
  },
  {
   "cell_type": "code",
   "execution_count": 3,
   "metadata": {},
   "outputs": [],
   "source": [
    "in_condition_1 = ['study01_bmrk3', 'study02_bmrk4', 'study03_nsf', 'study04_ie', 'study05_exp', 'study06_ilcp']\n",
    "in_condition_2 = ['rating']\n",
    "out_conidtion = ['nopain']"
   ]
  },
  {
   "cell_type": "code",
   "execution_count": 4,
   "metadata": {},
   "outputs": [],
   "source": [
    "rating_full_path_list = rating_file_list(basedir, in_condition_1, \n",
    "                                    in_condition_2, out_conidtion=out_conidtion)"
   ]
  },
  {
   "cell_type": "code",
   "execution_count": 6,
   "metadata": {},
   "outputs": [
    {
     "data": {
      "text/plain": [
       "(183,)"
      ]
     },
     "execution_count": 6,
     "metadata": {},
     "output_type": "execute_result"
    }
   ],
   "source": [
    "rating_full_path_list.shape"
   ]
  },
  {
   "cell_type": "code",
   "execution_count": 8,
   "metadata": {},
   "outputs": [],
   "source": [
    "base_dir = '/media/cocoan-gpu1/wani8T/data/deeppain'\n",
    "for dirpath in rating_full_path_list:\n",
    "    \n",
    "    #dirpath example : '/media/cocoan-gpu1/wani8T/data/deeppain/study01_bmrk3/rating/study01_bmrk3_subject001_dat.npy'\n",
    "    file_name = os.path.split(dirpath)[-1]\n",
    "    \n",
    "    if 'npy' in file_name:\n",
    "        # file_name example : 'study01_bmrk3_subject001_dat.npy'\n",
    "        study_name = file_name.split('.')[0].split('_')[0] + '_' + file_name.split('.')[0].split('_')[1]\n",
    "        sub_name = file_name.split('.')[0].split('_')[-2]\n",
    "\n",
    "        folder_dir = os.path.join(base_dir, study_name)\n",
    "        if not os.path.exists(folder_dir):\n",
    "            os.mkdir(folder_dir) \n",
    "\n",
    "        rating_folder_dir = os.path.join(folder_dir, 'rating_standard')\n",
    "        if not os.path.exists(rating_folder_dir):\n",
    "            os.mkdir(rating_folder_dir)\n",
    "\n",
    "        temp_npy = np.load(dirpath)\n",
    "        rating_np_stand = (temp_npy-temp_npy.mean())/temp_npy.std()\n",
    "\n",
    "        save_file_name =  file_name.split('.')[0]\n",
    "        np.save(rating_folder_dir+'/'+save_file_name, rating_np_stand)"
   ]
  },
  {
   "cell_type": "code",
   "execution_count": null,
   "metadata": {},
   "outputs": [],
   "source": []
  }
 ],
 "metadata": {
  "kernelspec": {
   "display_name": "tf3",
   "language": "python",
   "name": "tf3"
  },
  "language_info": {
   "codemirror_mode": {
    "name": "ipython",
    "version": 3
   },
   "file_extension": ".py",
   "mimetype": "text/x-python",
   "name": "python",
   "nbconvert_exporter": "python",
   "pygments_lexer": "ipython3",
   "version": "3.6.8"
  }
 },
 "nbformat": 4,
 "nbformat_minor": 2
}
