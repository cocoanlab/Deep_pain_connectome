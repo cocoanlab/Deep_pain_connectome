{
 "cells": [
  {
   "cell_type": "code",
   "execution_count": 1,
   "metadata": {},
   "outputs": [],
   "source": [
    "import numpy as np\n",
    "import os\n",
    "import re\n",
    "import random"
   ]
  },
  {
   "cell_type": "code",
   "execution_count": 2,
   "metadata": {},
   "outputs": [],
   "source": [
    "def dir_search(basedir, in_condition_1=None, in_condition_2=None, in_condition_3=None, out_conidtion=None):\n",
    "    \n",
    "    search_list = []\n",
    "    if in_condition_1:\n",
    "            in_condition_1 = \"|\".join(in_condition_1).lower()\n",
    "    if in_condition_2:\n",
    "            in_condition_2 = \"|\".join(in_condition_2).lower()\n",
    "    if in_condition_3:\n",
    "            in_condition_3 = \"|\".join(in_condition_3).lower()\n",
    "    if out_conidtion:\n",
    "            out_conidtion = \"|\".join(out_conidtion).lower()\n",
    "    \n",
    "    for dirpath, dirnames, filenames in os.walk(basedir):\n",
    "        \n",
    "        if in_condition_1:\n",
    "            in_search_1 = re.search(in_condition_1, dirpath)\n",
    "            if not in_search_1: \n",
    "                continue\n",
    "        \n",
    "        if in_condition_2:\n",
    "            in_search_2 = re.search(in_condition_2, dirpath)\n",
    "            if not in_search_2: \n",
    "                continue\n",
    "                \n",
    "        if in_condition_3:\n",
    "            in_search_3 = re.search(in_condition_3, dirpath)\n",
    "            if not in_search_3: \n",
    "                continue\n",
    "\n",
    "        if out_conidtion:\n",
    "            out_search = re.search(out_conidtion, dirpath)    \n",
    "            if out_search:\n",
    "                continue\n",
    "\n",
    "        search_list.append(dirpath)\n",
    "        \n",
    "    search_list.sort()\n",
    "    search_list = np.array(search_list)\n",
    "    \n",
    "    return search_list"
   ]
  },
  {
   "cell_type": "code",
   "execution_count": 3,
   "metadata": {},
   "outputs": [],
   "source": [
    "def beta_file_list(search_dir, choice_num):\n",
    "    max_len = 0\n",
    "    min_len = 0\n",
    "    beta_full_path_list = []\n",
    "    \n",
    "    for dirpath in search_dir:\n",
    "        if max_len < len(os.listdir(dirpath)):\n",
    "            max_len = len(os.listdir(dirpath))\n",
    "\n",
    "        if min_len == 0 or min_len > len(os.listdir(dirpath)):\n",
    "            min_len = len(os.listdir(dirpath))\n",
    "\n",
    "    if choice_num > min_len:\n",
    "        raise ValueError(\"choice_num {} is larger than directory files minimum length {}\".format(choice_num, min_len))\n",
    "\n",
    "    for dirpath in search_dir:\n",
    "        rand = np.random.choice(len(os.listdir(dirpath)), choice_num, replace=False) + 1\n",
    "        file_name_list = []\n",
    "        for i in range(rand.shape[0]):\n",
    "            #name = 'beta{%d04}.npy'.format(rand[i])\n",
    "            if rand[i]<10:\n",
    "                name = 'beta000'+str(rand[i])\n",
    "            elif rand[i]<100:\n",
    "                name ='beta00'+str(rand[i])\n",
    "            elif rand[i]<1000:\n",
    "                name ='beta0'+str(rand[i])\n",
    "            else:\n",
    "                name = 'beta'+str(rand[i])\n",
    "\n",
    "            file_name = name + '.npy'\n",
    "            file_name_list.append(file_name)\n",
    "\n",
    "        for files in file_name_list:\n",
    "            beta_full_path_list.append(os.path.join(dirpath,files))\n",
    "    \n",
    "    beta_full_path_list = np.array(beta_full_path_list)\n",
    "    return beta_full_path_list"
   ]
  },
  {
   "cell_type": "code",
   "execution_count": 4,
   "metadata": {},
   "outputs": [],
   "source": [
    "def beta_file_dict(beta_full_path_list):\n",
    "    file_dict = {}\n",
    "    temp_list = []\n",
    "    for i in range(len(beta_full_path_list)):\n",
    "        split_name = beta_full_path_list[i].split('/')\n",
    "\n",
    "        if 'subject' in split_name[-2]:\n",
    "            dic_key = split_name[-2]\n",
    "\n",
    "        try:\n",
    "            file_dict[dic_key]\n",
    "        except:\n",
    "            file_dict[dic_key] = [beta_full_path_list[i]]\n",
    "\n",
    "        if file_dict[dic_key]:\n",
    "            file_dict[dic_key].append(beta_full_path_list[i])\n",
    "    return file_dict"
   ]
  },
  {
   "cell_type": "code",
   "execution_count": 5,
   "metadata": {},
   "outputs": [],
   "source": [
    "basedir = '/media/cocoan-gpu1/wani8T/data/deeppain'"
   ]
  },
  {
   "cell_type": "code",
   "execution_count": 6,
   "metadata": {},
   "outputs": [],
   "source": [
    "in_condition_1 = ['study01_bmrk3', 'study02_bmrk4', 'study03_nsf', 'study04_ie', 'study05_exp', 'study06_ilcp']\n",
    "in_condition_2 = ['subject']\n",
    "out_conidtion = ['nopain']"
   ]
  },
  {
   "cell_type": "code",
   "execution_count": 7,
   "metadata": {},
   "outputs": [],
   "source": [
    "search_list = dir_search(basedir=basedir, in_condition_1=in_condition_1, \n",
    "                         in_condition_2 = in_condition_2, \n",
    "                         out_conidtion=out_conidtion)"
   ]
  },
  {
   "cell_type": "code",
   "execution_count": 8,
   "metadata": {},
   "outputs": [
    {
     "data": {
      "text/plain": [
       "array(['/media/cocoan-gpu1/wani8T/data/deeppain/study01_bmrk3/subject001',\n",
       "       '/media/cocoan-gpu1/wani8T/data/deeppain/study01_bmrk3/subject002',\n",
       "       '/media/cocoan-gpu1/wani8T/data/deeppain/study01_bmrk3/subject003',\n",
       "       '/media/cocoan-gpu1/wani8T/data/deeppain/study01_bmrk3/subject004',\n",
       "       '/media/cocoan-gpu1/wani8T/data/deeppain/study01_bmrk3/subject005',\n",
       "       '/media/cocoan-gpu1/wani8T/data/deeppain/study01_bmrk3/subject006',\n",
       "       '/media/cocoan-gpu1/wani8T/data/deeppain/study01_bmrk3/subject007',\n",
       "       '/media/cocoan-gpu1/wani8T/data/deeppain/study01_bmrk3/subject008',\n",
       "       '/media/cocoan-gpu1/wani8T/data/deeppain/study01_bmrk3/subject009',\n",
       "       '/media/cocoan-gpu1/wani8T/data/deeppain/study01_bmrk3/subject010',\n",
       "       '/media/cocoan-gpu1/wani8T/data/deeppain/study01_bmrk3/subject011',\n",
       "       '/media/cocoan-gpu1/wani8T/data/deeppain/study01_bmrk3/subject012',\n",
       "       '/media/cocoan-gpu1/wani8T/data/deeppain/study01_bmrk3/subject013',\n",
       "       '/media/cocoan-gpu1/wani8T/data/deeppain/study01_bmrk3/subject014',\n",
       "       '/media/cocoan-gpu1/wani8T/data/deeppain/study01_bmrk3/subject015',\n",
       "       '/media/cocoan-gpu1/wani8T/data/deeppain/study01_bmrk3/subject016',\n",
       "       '/media/cocoan-gpu1/wani8T/data/deeppain/study01_bmrk3/subject017',\n",
       "       '/media/cocoan-gpu1/wani8T/data/deeppain/study01_bmrk3/subject018',\n",
       "       '/media/cocoan-gpu1/wani8T/data/deeppain/study01_bmrk3/subject019',\n",
       "       '/media/cocoan-gpu1/wani8T/data/deeppain/study01_bmrk3/subject020',\n",
       "       '/media/cocoan-gpu1/wani8T/data/deeppain/study01_bmrk3/subject021',\n",
       "       '/media/cocoan-gpu1/wani8T/data/deeppain/study01_bmrk3/subject022',\n",
       "       '/media/cocoan-gpu1/wani8T/data/deeppain/study01_bmrk3/subject023',\n",
       "       '/media/cocoan-gpu1/wani8T/data/deeppain/study01_bmrk3/subject024',\n",
       "       '/media/cocoan-gpu1/wani8T/data/deeppain/study01_bmrk3/subject025',\n",
       "       '/media/cocoan-gpu1/wani8T/data/deeppain/study01_bmrk3/subject026',\n",
       "       '/media/cocoan-gpu1/wani8T/data/deeppain/study01_bmrk3/subject027',\n",
       "       '/media/cocoan-gpu1/wani8T/data/deeppain/study01_bmrk3/subject028',\n",
       "       '/media/cocoan-gpu1/wani8T/data/deeppain/study01_bmrk3/subject029',\n",
       "       '/media/cocoan-gpu1/wani8T/data/deeppain/study01_bmrk3/subject030',\n",
       "       '/media/cocoan-gpu1/wani8T/data/deeppain/study01_bmrk3/subject031',\n",
       "       '/media/cocoan-gpu1/wani8T/data/deeppain/study01_bmrk3/subject032',\n",
       "       '/media/cocoan-gpu1/wani8T/data/deeppain/study01_bmrk3/subject033',\n",
       "       '/media/cocoan-gpu1/wani8T/data/deeppain/study02_bmrk4/subject034',\n",
       "       '/media/cocoan-gpu1/wani8T/data/deeppain/study02_bmrk4/subject035',\n",
       "       '/media/cocoan-gpu1/wani8T/data/deeppain/study02_bmrk4/subject036',\n",
       "       '/media/cocoan-gpu1/wani8T/data/deeppain/study02_bmrk4/subject037',\n",
       "       '/media/cocoan-gpu1/wani8T/data/deeppain/study02_bmrk4/subject038',\n",
       "       '/media/cocoan-gpu1/wani8T/data/deeppain/study02_bmrk4/subject039',\n",
       "       '/media/cocoan-gpu1/wani8T/data/deeppain/study02_bmrk4/subject040',\n",
       "       '/media/cocoan-gpu1/wani8T/data/deeppain/study02_bmrk4/subject041',\n",
       "       '/media/cocoan-gpu1/wani8T/data/deeppain/study02_bmrk4/subject042',\n",
       "       '/media/cocoan-gpu1/wani8T/data/deeppain/study02_bmrk4/subject043',\n",
       "       '/media/cocoan-gpu1/wani8T/data/deeppain/study02_bmrk4/subject044',\n",
       "       '/media/cocoan-gpu1/wani8T/data/deeppain/study02_bmrk4/subject045',\n",
       "       '/media/cocoan-gpu1/wani8T/data/deeppain/study02_bmrk4/subject046',\n",
       "       '/media/cocoan-gpu1/wani8T/data/deeppain/study02_bmrk4/subject047',\n",
       "       '/media/cocoan-gpu1/wani8T/data/deeppain/study02_bmrk4/subject048',\n",
       "       '/media/cocoan-gpu1/wani8T/data/deeppain/study02_bmrk4/subject049',\n",
       "       '/media/cocoan-gpu1/wani8T/data/deeppain/study02_bmrk4/subject050',\n",
       "       '/media/cocoan-gpu1/wani8T/data/deeppain/study02_bmrk4/subject051',\n",
       "       '/media/cocoan-gpu1/wani8T/data/deeppain/study02_bmrk4/subject052',\n",
       "       '/media/cocoan-gpu1/wani8T/data/deeppain/study02_bmrk4/subject053',\n",
       "       '/media/cocoan-gpu1/wani8T/data/deeppain/study02_bmrk4/subject054',\n",
       "       '/media/cocoan-gpu1/wani8T/data/deeppain/study02_bmrk4/subject055',\n",
       "       '/media/cocoan-gpu1/wani8T/data/deeppain/study02_bmrk4/subject056',\n",
       "       '/media/cocoan-gpu1/wani8T/data/deeppain/study02_bmrk4/subject057',\n",
       "       '/media/cocoan-gpu1/wani8T/data/deeppain/study02_bmrk4/subject058',\n",
       "       '/media/cocoan-gpu1/wani8T/data/deeppain/study02_bmrk4/subject059',\n",
       "       '/media/cocoan-gpu1/wani8T/data/deeppain/study02_bmrk4/subject060',\n",
       "       '/media/cocoan-gpu1/wani8T/data/deeppain/study02_bmrk4/subject061',\n",
       "       '/media/cocoan-gpu1/wani8T/data/deeppain/study03_nsf/subject062',\n",
       "       '/media/cocoan-gpu1/wani8T/data/deeppain/study03_nsf/subject063',\n",
       "       '/media/cocoan-gpu1/wani8T/data/deeppain/study03_nsf/subject064',\n",
       "       '/media/cocoan-gpu1/wani8T/data/deeppain/study03_nsf/subject065',\n",
       "       '/media/cocoan-gpu1/wani8T/data/deeppain/study03_nsf/subject066',\n",
       "       '/media/cocoan-gpu1/wani8T/data/deeppain/study03_nsf/subject067',\n",
       "       '/media/cocoan-gpu1/wani8T/data/deeppain/study03_nsf/subject068',\n",
       "       '/media/cocoan-gpu1/wani8T/data/deeppain/study03_nsf/subject069',\n",
       "       '/media/cocoan-gpu1/wani8T/data/deeppain/study03_nsf/subject070',\n",
       "       '/media/cocoan-gpu1/wani8T/data/deeppain/study03_nsf/subject071',\n",
       "       '/media/cocoan-gpu1/wani8T/data/deeppain/study03_nsf/subject072',\n",
       "       '/media/cocoan-gpu1/wani8T/data/deeppain/study03_nsf/subject073',\n",
       "       '/media/cocoan-gpu1/wani8T/data/deeppain/study03_nsf/subject074',\n",
       "       '/media/cocoan-gpu1/wani8T/data/deeppain/study03_nsf/subject075',\n",
       "       '/media/cocoan-gpu1/wani8T/data/deeppain/study03_nsf/subject076',\n",
       "       '/media/cocoan-gpu1/wani8T/data/deeppain/study03_nsf/subject077',\n",
       "       '/media/cocoan-gpu1/wani8T/data/deeppain/study03_nsf/subject078',\n",
       "       '/media/cocoan-gpu1/wani8T/data/deeppain/study03_nsf/subject079',\n",
       "       '/media/cocoan-gpu1/wani8T/data/deeppain/study03_nsf/subject080',\n",
       "       '/media/cocoan-gpu1/wani8T/data/deeppain/study03_nsf/subject081',\n",
       "       '/media/cocoan-gpu1/wani8T/data/deeppain/study03_nsf/subject082',\n",
       "       '/media/cocoan-gpu1/wani8T/data/deeppain/study03_nsf/subject083',\n",
       "       '/media/cocoan-gpu1/wani8T/data/deeppain/study03_nsf/subject084',\n",
       "       '/media/cocoan-gpu1/wani8T/data/deeppain/study03_nsf/subject085',\n",
       "       '/media/cocoan-gpu1/wani8T/data/deeppain/study03_nsf/subject086',\n",
       "       '/media/cocoan-gpu1/wani8T/data/deeppain/study03_nsf/subject087',\n",
       "       '/media/cocoan-gpu1/wani8T/data/deeppain/study04_ie/subject088',\n",
       "       '/media/cocoan-gpu1/wani8T/data/deeppain/study04_ie/subject089',\n",
       "       '/media/cocoan-gpu1/wani8T/data/deeppain/study04_ie/subject090',\n",
       "       '/media/cocoan-gpu1/wani8T/data/deeppain/study04_ie/subject091',\n",
       "       '/media/cocoan-gpu1/wani8T/data/deeppain/study04_ie/subject092',\n",
       "       '/media/cocoan-gpu1/wani8T/data/deeppain/study04_ie/subject093',\n",
       "       '/media/cocoan-gpu1/wani8T/data/deeppain/study04_ie/subject094',\n",
       "       '/media/cocoan-gpu1/wani8T/data/deeppain/study04_ie/subject095',\n",
       "       '/media/cocoan-gpu1/wani8T/data/deeppain/study04_ie/subject096',\n",
       "       '/media/cocoan-gpu1/wani8T/data/deeppain/study04_ie/subject097',\n",
       "       '/media/cocoan-gpu1/wani8T/data/deeppain/study04_ie/subject098',\n",
       "       '/media/cocoan-gpu1/wani8T/data/deeppain/study04_ie/subject099',\n",
       "       '/media/cocoan-gpu1/wani8T/data/deeppain/study04_ie/subject100',\n",
       "       '/media/cocoan-gpu1/wani8T/data/deeppain/study04_ie/subject101',\n",
       "       '/media/cocoan-gpu1/wani8T/data/deeppain/study04_ie/subject102',\n",
       "       '/media/cocoan-gpu1/wani8T/data/deeppain/study04_ie/subject103',\n",
       "       '/media/cocoan-gpu1/wani8T/data/deeppain/study04_ie/subject104',\n",
       "       '/media/cocoan-gpu1/wani8T/data/deeppain/study04_ie/subject105',\n",
       "       '/media/cocoan-gpu1/wani8T/data/deeppain/study04_ie/subject106',\n",
       "       '/media/cocoan-gpu1/wani8T/data/deeppain/study04_ie/subject107',\n",
       "       '/media/cocoan-gpu1/wani8T/data/deeppain/study04_ie/subject108',\n",
       "       '/media/cocoan-gpu1/wani8T/data/deeppain/study04_ie/subject109',\n",
       "       '/media/cocoan-gpu1/wani8T/data/deeppain/study04_ie/subject110',\n",
       "       '/media/cocoan-gpu1/wani8T/data/deeppain/study04_ie/subject111',\n",
       "       '/media/cocoan-gpu1/wani8T/data/deeppain/study04_ie/subject112',\n",
       "       '/media/cocoan-gpu1/wani8T/data/deeppain/study04_ie/subject113',\n",
       "       '/media/cocoan-gpu1/wani8T/data/deeppain/study04_ie/subject114',\n",
       "       '/media/cocoan-gpu1/wani8T/data/deeppain/study04_ie/subject115',\n",
       "       '/media/cocoan-gpu1/wani8T/data/deeppain/study04_ie/subject116',\n",
       "       '/media/cocoan-gpu1/wani8T/data/deeppain/study04_ie/subject117',\n",
       "       '/media/cocoan-gpu1/wani8T/data/deeppain/study04_ie/subject118',\n",
       "       '/media/cocoan-gpu1/wani8T/data/deeppain/study04_ie/subject119',\n",
       "       '/media/cocoan-gpu1/wani8T/data/deeppain/study04_ie/subject120',\n",
       "       '/media/cocoan-gpu1/wani8T/data/deeppain/study04_ie/subject121',\n",
       "       '/media/cocoan-gpu1/wani8T/data/deeppain/study04_ie/subject122',\n",
       "       '/media/cocoan-gpu1/wani8T/data/deeppain/study04_ie/subject123',\n",
       "       '/media/cocoan-gpu1/wani8T/data/deeppain/study04_ie/subject124',\n",
       "       '/media/cocoan-gpu1/wani8T/data/deeppain/study04_ie/subject125',\n",
       "       '/media/cocoan-gpu1/wani8T/data/deeppain/study04_ie/subject126',\n",
       "       '/media/cocoan-gpu1/wani8T/data/deeppain/study04_ie/subject127',\n",
       "       '/media/cocoan-gpu1/wani8T/data/deeppain/study04_ie/subject128',\n",
       "       '/media/cocoan-gpu1/wani8T/data/deeppain/study04_ie/subject129',\n",
       "       '/media/cocoan-gpu1/wani8T/data/deeppain/study04_ie/subject130',\n",
       "       '/media/cocoan-gpu1/wani8T/data/deeppain/study04_ie/subject131',\n",
       "       '/media/cocoan-gpu1/wani8T/data/deeppain/study04_ie/subject132',\n",
       "       '/media/cocoan-gpu1/wani8T/data/deeppain/study04_ie/subject133',\n",
       "       '/media/cocoan-gpu1/wani8T/data/deeppain/study04_ie/subject134',\n",
       "       '/media/cocoan-gpu1/wani8T/data/deeppain/study04_ie/subject135',\n",
       "       '/media/cocoan-gpu1/wani8T/data/deeppain/study04_ie/subject136',\n",
       "       '/media/cocoan-gpu1/wani8T/data/deeppain/study04_ie/subject137',\n",
       "       '/media/cocoan-gpu1/wani8T/data/deeppain/study05_exp/subject138',\n",
       "       '/media/cocoan-gpu1/wani8T/data/deeppain/study05_exp/subject139',\n",
       "       '/media/cocoan-gpu1/wani8T/data/deeppain/study05_exp/subject140',\n",
       "       '/media/cocoan-gpu1/wani8T/data/deeppain/study05_exp/subject141',\n",
       "       '/media/cocoan-gpu1/wani8T/data/deeppain/study05_exp/subject142',\n",
       "       '/media/cocoan-gpu1/wani8T/data/deeppain/study05_exp/subject143',\n",
       "       '/media/cocoan-gpu1/wani8T/data/deeppain/study05_exp/subject144',\n",
       "       '/media/cocoan-gpu1/wani8T/data/deeppain/study05_exp/subject145',\n",
       "       '/media/cocoan-gpu1/wani8T/data/deeppain/study05_exp/subject146',\n",
       "       '/media/cocoan-gpu1/wani8T/data/deeppain/study05_exp/subject147',\n",
       "       '/media/cocoan-gpu1/wani8T/data/deeppain/study05_exp/subject148',\n",
       "       '/media/cocoan-gpu1/wani8T/data/deeppain/study05_exp/subject149',\n",
       "       '/media/cocoan-gpu1/wani8T/data/deeppain/study05_exp/subject150',\n",
       "       '/media/cocoan-gpu1/wani8T/data/deeppain/study05_exp/subject151',\n",
       "       '/media/cocoan-gpu1/wani8T/data/deeppain/study05_exp/subject152',\n",
       "       '/media/cocoan-gpu1/wani8T/data/deeppain/study05_exp/subject153',\n",
       "       '/media/cocoan-gpu1/wani8T/data/deeppain/study05_exp/subject154',\n",
       "       '/media/cocoan-gpu1/wani8T/data/deeppain/study06_ilcp/subject155',\n",
       "       '/media/cocoan-gpu1/wani8T/data/deeppain/study06_ilcp/subject156',\n",
       "       '/media/cocoan-gpu1/wani8T/data/deeppain/study06_ilcp/subject157',\n",
       "       '/media/cocoan-gpu1/wani8T/data/deeppain/study06_ilcp/subject158',\n",
       "       '/media/cocoan-gpu1/wani8T/data/deeppain/study06_ilcp/subject159',\n",
       "       '/media/cocoan-gpu1/wani8T/data/deeppain/study06_ilcp/subject160',\n",
       "       '/media/cocoan-gpu1/wani8T/data/deeppain/study06_ilcp/subject161',\n",
       "       '/media/cocoan-gpu1/wani8T/data/deeppain/study06_ilcp/subject162',\n",
       "       '/media/cocoan-gpu1/wani8T/data/deeppain/study06_ilcp/subject163',\n",
       "       '/media/cocoan-gpu1/wani8T/data/deeppain/study06_ilcp/subject164',\n",
       "       '/media/cocoan-gpu1/wani8T/data/deeppain/study06_ilcp/subject165',\n",
       "       '/media/cocoan-gpu1/wani8T/data/deeppain/study06_ilcp/subject166',\n",
       "       '/media/cocoan-gpu1/wani8T/data/deeppain/study06_ilcp/subject167',\n",
       "       '/media/cocoan-gpu1/wani8T/data/deeppain/study06_ilcp/subject168',\n",
       "       '/media/cocoan-gpu1/wani8T/data/deeppain/study06_ilcp/subject169',\n",
       "       '/media/cocoan-gpu1/wani8T/data/deeppain/study06_ilcp/subject170',\n",
       "       '/media/cocoan-gpu1/wani8T/data/deeppain/study06_ilcp/subject171',\n",
       "       '/media/cocoan-gpu1/wani8T/data/deeppain/study06_ilcp/subject172',\n",
       "       '/media/cocoan-gpu1/wani8T/data/deeppain/study06_ilcp/subject173',\n",
       "       '/media/cocoan-gpu1/wani8T/data/deeppain/study06_ilcp/subject174',\n",
       "       '/media/cocoan-gpu1/wani8T/data/deeppain/study06_ilcp/subject175',\n",
       "       '/media/cocoan-gpu1/wani8T/data/deeppain/study06_ilcp/subject176',\n",
       "       '/media/cocoan-gpu1/wani8T/data/deeppain/study06_ilcp/subject177',\n",
       "       '/media/cocoan-gpu1/wani8T/data/deeppain/study06_ilcp/subject178',\n",
       "       '/media/cocoan-gpu1/wani8T/data/deeppain/study06_ilcp/subject179',\n",
       "       '/media/cocoan-gpu1/wani8T/data/deeppain/study06_ilcp/subject180',\n",
       "       '/media/cocoan-gpu1/wani8T/data/deeppain/study06_ilcp/subject181',\n",
       "       '/media/cocoan-gpu1/wani8T/data/deeppain/study06_ilcp/subject182',\n",
       "       '/media/cocoan-gpu1/wani8T/data/deeppain/study06_ilcp/subject183'],\n",
       "      dtype='<U64')"
      ]
     },
     "execution_count": 8,
     "metadata": {},
     "output_type": "execute_result"
    }
   ],
   "source": [
    "search_list"
   ]
  },
  {
   "cell_type": "code",
   "execution_count": 9,
   "metadata": {},
   "outputs": [
    {
     "data": {
      "text/plain": [
       "array(['/media/cocoan-gpu1/wani8T/data/deeppain/study01_bmrk3/subject001/beta0011.npy',\n",
       "       '/media/cocoan-gpu1/wani8T/data/deeppain/study01_bmrk3/subject001/beta0014.npy',\n",
       "       '/media/cocoan-gpu1/wani8T/data/deeppain/study01_bmrk3/subject001/beta0031.npy',\n",
       "       '/media/cocoan-gpu1/wani8T/data/deeppain/study01_bmrk3/subject001/beta0033.npy',\n",
       "       '/media/cocoan-gpu1/wani8T/data/deeppain/study01_bmrk3/subject001/beta0021.npy',\n",
       "       '/media/cocoan-gpu1/wani8T/data/deeppain/study01_bmrk3/subject001/beta0029.npy',\n",
       "       '/media/cocoan-gpu1/wani8T/data/deeppain/study01_bmrk3/subject001/beta0023.npy',\n",
       "       '/media/cocoan-gpu1/wani8T/data/deeppain/study01_bmrk3/subject001/beta0055.npy',\n",
       "       '/media/cocoan-gpu1/wani8T/data/deeppain/study01_bmrk3/subject001/beta0040.npy',\n",
       "       '/media/cocoan-gpu1/wani8T/data/deeppain/study01_bmrk3/subject001/beta0017.npy'],\n",
       "      dtype='<U77')"
      ]
     },
     "execution_count": 9,
     "metadata": {},
     "output_type": "execute_result"
    }
   ],
   "source": [
    "beta_full_path_list = beta_file_list(search_list, 15)\n",
    "beta_full_path_list[:10]"
   ]
  },
  {
   "cell_type": "code",
   "execution_count": 10,
   "metadata": {},
   "outputs": [
    {
     "data": {
      "text/plain": [
       "['/media/cocoan-gpu1/wani8T/data/deeppain/study01_bmrk3/subject001/beta0011.npy',\n",
       " '/media/cocoan-gpu1/wani8T/data/deeppain/study01_bmrk3/subject001/beta0011.npy',\n",
       " '/media/cocoan-gpu1/wani8T/data/deeppain/study01_bmrk3/subject001/beta0014.npy',\n",
       " '/media/cocoan-gpu1/wani8T/data/deeppain/study01_bmrk3/subject001/beta0031.npy',\n",
       " '/media/cocoan-gpu1/wani8T/data/deeppain/study01_bmrk3/subject001/beta0033.npy',\n",
       " '/media/cocoan-gpu1/wani8T/data/deeppain/study01_bmrk3/subject001/beta0021.npy',\n",
       " '/media/cocoan-gpu1/wani8T/data/deeppain/study01_bmrk3/subject001/beta0029.npy',\n",
       " '/media/cocoan-gpu1/wani8T/data/deeppain/study01_bmrk3/subject001/beta0023.npy',\n",
       " '/media/cocoan-gpu1/wani8T/data/deeppain/study01_bmrk3/subject001/beta0055.npy',\n",
       " '/media/cocoan-gpu1/wani8T/data/deeppain/study01_bmrk3/subject001/beta0040.npy',\n",
       " '/media/cocoan-gpu1/wani8T/data/deeppain/study01_bmrk3/subject001/beta0017.npy',\n",
       " '/media/cocoan-gpu1/wani8T/data/deeppain/study01_bmrk3/subject001/beta0047.npy',\n",
       " '/media/cocoan-gpu1/wani8T/data/deeppain/study01_bmrk3/subject001/beta0045.npy',\n",
       " '/media/cocoan-gpu1/wani8T/data/deeppain/study01_bmrk3/subject001/beta0036.npy',\n",
       " '/media/cocoan-gpu1/wani8T/data/deeppain/study01_bmrk3/subject001/beta0049.npy',\n",
       " '/media/cocoan-gpu1/wani8T/data/deeppain/study01_bmrk3/subject001/beta0050.npy']"
      ]
     },
     "execution_count": 10,
     "metadata": {},
     "output_type": "execute_result"
    }
   ],
   "source": [
    "file_dict = beta_file_dict(beta_full_path_list)\n",
    "file_dict['subject001']"
   ]
  },
  {
   "cell_type": "code",
   "execution_count": 10,
   "metadata": {},
   "outputs": [],
   "source": [
    "def rating_file_list(basedir, in_condition_1=None, in_condition_2=None, in_condition_3=None, out_conidtion=None):\n",
    "    search_list = dir_search(basedir=basedir, in_condition_1=in_condition_1, \n",
    "                     in_condition_2 = in_condition_2, \n",
    "                     out_conidtion=out_conidtion)\n",
    "\n",
    "    rating_full_path_list = []\n",
    "    for dirpath in search_list:\n",
    "        rating_files = os.listdir(dirpath)\n",
    "        rating_files.sort()\n",
    "\n",
    "        for file in rating_files:\n",
    "            rating_full_path_list.append(os.path.join(dirpath,file))\n",
    "    \n",
    "    rating_full_path_list = np.array(rating_full_path_list)\n",
    "    return rating_full_path_list"
   ]
  },
  {
   "cell_type": "code",
   "execution_count": 11,
   "metadata": {},
   "outputs": [],
   "source": [
    "def rating_index_dict(beta_full_path_list, rating_full_path_list):\n",
    "\n",
    "    index_dict = {}\n",
    "    index_dict['beta_full_path_list'] = beta_full_path_list\n",
    "\n",
    "    index_list = []\n",
    "    for dirpath in beta_full_path_list:\n",
    "        file_name = os.path.split(dirpath)[-1]\n",
    "        c = \"\"\n",
    "        for i in range(len(file_name)):\n",
    "            if file_name[i].isnumeric():\n",
    "                c = c+file_name[i]\n",
    "        index_list.append(int(c))\n",
    "    index_list_np = np.array(index_list) - 1\n",
    "\n",
    "    index_dict['index_list_np'] = index_list_np\n",
    "\n",
    "    return index_dict"
   ]
  },
  {
   "cell_type": "code",
   "execution_count": 12,
   "metadata": {},
   "outputs": [],
   "source": [
    "def rating_value_list(rating_full_path_list, index_dict):\n",
    "    if not len(index_dict['beta_full_path_list'])%len(rating_full_path_list) == 0:\n",
    "        raise ValueError(\"beta_full_path_list length({}) have to be multiple of rating_full_path_list length({})\".format(len(beta_full_path_list),len(rating_full_path_list)))\n",
    "    \n",
    "    if not len(index_dict['beta_full_path_list']) == len(index_dict['index_list_np']):\n",
    "        raise ValueError(\"beta_full_path_list length({}) have to be matched with index_list_np length({})\".format(len(beta_full_path_list), len(index_list_np)))\n",
    "    \n",
    "    index = 0\n",
    "    index_2 = 0\n",
    "    rating_list = []\n",
    "    for dirpath in rating_full_path_list:\n",
    "        rating_np = np.load(dirpath)  \n",
    "        \n",
    "        for i in range(int(len(index_dict['beta_full_path_list'])/len(rating_full_path_list))):\n",
    "            check_subj = False\n",
    "            for i in range(len(index_dict['beta_full_path_list'][index].split('/'))):\n",
    "                if 'subject' in index_dict['beta_full_path_list'][index].split('/')[i]:\n",
    "                    subj_name = index_dict['beta_full_path_list'][index].split('/')[i]\n",
    "                    check_subj = True\n",
    "\n",
    "            if not check_subj:\n",
    "                raise ValueError(\"Cannot find subject name in index\")\n",
    "\n",
    "            if not subj_name in rating_full_path_list[index_2]:\n",
    "                raise ValueError(\"index's subject name {} is not matched with rating_full_path_list's subject name {}\".format(subj_name, rating_full_path_list[index_2]))\n",
    "\n",
    "            rating_list.append(rating_np[index_dict['index_list_np'][index]])\n",
    "            \n",
    "            index += 1\n",
    "        index_2 += 1\n",
    "        \n",
    "    rating_list = np.array(rating_list)\n",
    "    return rating_list"
   ]
  },
  {
   "cell_type": "code",
   "execution_count": 13,
   "metadata": {},
   "outputs": [],
   "source": [
    "in_condition_1 = ['study01_bmrk3', 'study02_bmrk4', 'study03_nsf', 'study04_ie', 'study05_exp', 'study06_ilcp']\n",
    "in_condition_2 = ['rating']\n",
    "out_conidtion = ['nopain']"
   ]
  },
  {
   "cell_type": "code",
   "execution_count": 14,
   "metadata": {},
   "outputs": [],
   "source": [
    "rating_full_path_list = rating_file_list(basedir, in_condition_1, \n",
    "                                    in_condition_2, out_conidtion=out_conidtion)"
   ]
  },
  {
   "cell_type": "code",
   "execution_count": 15,
   "metadata": {},
   "outputs": [],
   "source": [
    "index_dict = rating_index_dict(beta_full_path_list, rating_full_path_list)"
   ]
  },
  {
   "cell_type": "code",
   "execution_count": 16,
   "metadata": {},
   "outputs": [
    {
     "data": {
      "text/plain": [
       "{'beta_full_path_list': array(['/media/cocoan-gpu1/wani8T/data/deeppain/study01_bmrk3/subject001/beta0018.npy',\n",
       "        '/media/cocoan-gpu1/wani8T/data/deeppain/study01_bmrk3/subject001/beta0043.npy',\n",
       "        '/media/cocoan-gpu1/wani8T/data/deeppain/study01_bmrk3/subject001/beta0022.npy',\n",
       "        ...,\n",
       "        '/media/cocoan-gpu1/wani8T/data/deeppain/study06_ilcp/subject183/beta0054.npy',\n",
       "        '/media/cocoan-gpu1/wani8T/data/deeppain/study06_ilcp/subject183/beta0018.npy',\n",
       "        '/media/cocoan-gpu1/wani8T/data/deeppain/study06_ilcp/subject183/beta0060.npy'],\n",
       "       dtype='<U77'), 'index_list_np': array([17, 42, 21, ..., 53, 17, 59])}"
      ]
     },
     "execution_count": 16,
     "metadata": {},
     "output_type": "execute_result"
    }
   ],
   "source": [
    "index_dict"
   ]
  },
  {
   "cell_type": "code",
   "execution_count": 17,
   "metadata": {},
   "outputs": [],
   "source": [
    "rating_list = rating_value_list(rating_full_path_list, index_dict)"
   ]
  },
  {
   "cell_type": "code",
   "execution_count": 18,
   "metadata": {},
   "outputs": [
    {
     "data": {
      "text/plain": [
       "array([150., 137., 109., ...,  45.,  42.,  14.])"
      ]
     },
     "execution_count": 18,
     "metadata": {},
     "output_type": "execute_result"
    }
   ],
   "source": [
    "rating_list"
   ]
  },
  {
   "cell_type": "code",
   "execution_count": 19,
   "metadata": {},
   "outputs": [
    {
     "data": {
      "text/plain": [
       "2745"
      ]
     },
     "execution_count": 19,
     "metadata": {},
     "output_type": "execute_result"
    }
   ],
   "source": [
    "len(rating_list)"
   ]
  }
 ],
 "metadata": {
  "kernelspec": {
   "display_name": "tf3",
   "language": "python",
   "name": "tf3"
  },
  "language_info": {
   "codemirror_mode": {
    "name": "ipython",
    "version": 3
   },
   "file_extension": ".py",
   "mimetype": "text/x-python",
   "name": "python",
   "nbconvert_exporter": "python",
   "pygments_lexer": "ipython3",
   "version": "3.6.8"
  }
 },
 "nbformat": 4,
 "nbformat_minor": 2
}
