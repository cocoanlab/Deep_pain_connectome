{
 "cells": [
  {
   "cell_type": "code",
   "execution_count": null,
   "metadata": {},
   "outputs": [],
   "source": [
    "import numpy as np\n",
    "import os\n",
    "import re\n",
    "import random"
   ]
  },
  {
   "cell_type": "code",
   "execution_count": null,
   "metadata": {},
   "outputs": [],
   "source": [
    "def dir_search(basedir, in_condition_1=None, in_condition_2=None, in_condition_3=None, out_conidtion=None):\n",
    "    \n",
    "    search_list = []\n",
    "    if in_condition_1:\n",
    "            in_condition_1 = \"|\".join(in_condition_1).lower()\n",
    "    if in_condition_2:\n",
    "            in_condition_2 = \"|\".join(in_condition_2).lower()\n",
    "    if in_condition_3:\n",
    "            in_condition_3 = \"|\".join(in_condition_3).lower()\n",
    "    if out_conidtion:\n",
    "            out_conidtion = \"|\".join(out_conidtion).lower()\n",
    "    \n",
    "    for dirpath, dirnames, filenames in os.walk(basedir):\n",
    "        if in_condition_1:\n",
    "            in_search_1 = re.search(in_condition_1, dirpath)\n",
    "            if not in_search_1: \n",
    "                continue\n",
    "        \n",
    "        if in_condition_2:\n",
    "            in_search_2 = re.search(in_condition_2, dirpath)\n",
    "            if not in_search_2: \n",
    "                continue\n",
    "                \n",
    "        if in_condition_3:\n",
    "            in_search_3 = re.search(in_condition_3, dirpath)\n",
    "            if not in_search_3: \n",
    "                continue\n",
    "\n",
    "        if out_conidtion:\n",
    "            out_search = re.search(out_conidtion, dirpath)    \n",
    "            if out_search:\n",
    "                continue\n",
    "\n",
    "        search_list.append(dirpath)\n",
    "        \n",
    "    search_list.sort()\n",
    "    search_list = np.array(search_list)\n",
    "    \n",
    "    return search_list"
   ]
  },
  {
   "cell_type": "code",
   "execution_count": null,
   "metadata": {},
   "outputs": [],
   "source": [
    "def beta_file_list(search_dir, choice_num):\n",
    "    max_len = 0\n",
    "    min_len = 0\n",
    "    beta_full_path_list = []\n",
    "    \n",
    "    for dirpath in search_dir:\n",
    "        if max_len < len(os.listdir(dirpath)):\n",
    "            max_len = len(os.listdir(dirpath))\n",
    "\n",
    "        if min_len == 0 or min_len > len(os.listdir(dirpath)):\n",
    "            min_len = len(os.listdir(dirpath))\n",
    "\n",
    "    if choice_num > min_len:\n",
    "        raise ValueError(\"choice_num {} is larger than directory files minimum length {}\".format(choice_num, min_len))\n",
    "\n",
    "    for dirpath in search_dir:\n",
    "        rand = np.random.choice(len(os.listdir(dirpath)), choice_num, replace=False) + 1\n",
    "        file_name_list = []\n",
    "        for i in range(rand.shape[0]):\n",
    "            if rand[i]<10:\n",
    "                name = 'beta000'+str(rand[i])\n",
    "            elif rand[i]<100:\n",
    "                name ='beta00'+str(rand[i])\n",
    "            elif rand[i]<1000:\n",
    "                name ='beta0'+str(rand[i])\n",
    "            else:\n",
    "                name = 'beta'+str(rand[i])\n",
    "\n",
    "            file_name = name + '.npy'\n",
    "            file_name_list.append(file_name)\n",
    "\n",
    "        for files in file_name_list:\n",
    "            beta_full_path_list.append(os.path.join(dirpath,files))\n",
    "    \n",
    "    beta_full_path_list = np.array(beta_full_path_list)\n",
    "    return beta_full_path_list"
   ]
  },
  {
   "cell_type": "code",
   "execution_count": null,
   "metadata": {},
   "outputs": [],
   "source": [
    "def beta_file_dict(beta_full_path_list):\n",
    "    file_dict = {}\n",
    "    temp_list = []\n",
    "    for i in range(len(beta_full_path_list)):\n",
    "        split_name = beta_full_path_list[i].split('/')\n",
    "\n",
    "        if 'subject' in split_name[-2]:\n",
    "            dic_key = split_name[-2]\n",
    "\n",
    "        try:\n",
    "            file_dict[dic_key]\n",
    "        except:\n",
    "            file_dict[dic_key] = [beta_full_path_list[i]]\n",
    "\n",
    "        if file_dict[dic_key]:\n",
    "            file_dict[dic_key].append(beta_full_path_list[i])\n",
    "    return file_dict"
   ]
  },
  {
   "cell_type": "code",
   "execution_count": null,
   "metadata": {},
   "outputs": [],
   "source": [
    "basedir = '/media/cocoan-gpu1/wani8T/data/deeppain'"
   ]
  },
  {
   "cell_type": "code",
   "execution_count": null,
   "metadata": {},
   "outputs": [],
   "source": [
    "in_condition_1 = ['study01_bmrk3', 'study02_bmrk4', 'study03_nsf', 'study04_ie', 'study05_exp', 'study06_ilcp']\n",
    "in_condition_2 = ['subject']\n",
    "out_conidtion = ['nopain']"
   ]
  },
  {
   "cell_type": "code",
   "execution_count": null,
   "metadata": {},
   "outputs": [],
   "source": [
    "search_list = dir_search(basedir=basedir, in_condition_1=in_condition_1, \n",
    "                         in_condition_2 = in_condition_2, \n",
    "                         out_conidtion=out_conidtion)"
   ]
  },
  {
   "cell_type": "code",
   "execution_count": null,
   "metadata": {},
   "outputs": [],
   "source": [
    "beta_full_path_list = beta_file_list(search_list, 15)\n",
    "beta_full_path_list[:10]"
   ]
  },
  {
   "cell_type": "code",
   "execution_count": null,
   "metadata": {},
   "outputs": [],
   "source": [
    "file_dict = beta_file_dict(beta_full_path_list)\n",
    "file_dict['subject001']"
   ]
  },
  {
   "cell_type": "code",
   "execution_count": null,
   "metadata": {},
   "outputs": [],
   "source": [
    "def rating_file_list(basedir, in_condition_1=None, in_condition_2=None, in_condition_3=None, out_conidtion=None):\n",
    "    search_list = dir_search(basedir=basedir, in_condition_1=in_condition_1, \n",
    "                     in_condition_2 = in_condition_2, \n",
    "                     out_conidtion=out_conidtion)\n",
    "\n",
    "    rating_full_path_list = []\n",
    "    for dirpath in search_list:\n",
    "        rating_files = os.listdir(dirpath)\n",
    "        rating_files.sort()\n",
    "\n",
    "        for file in rating_files:\n",
    "            rating_full_path_list.append(os.path.join(dirpath,file))\n",
    "    \n",
    "    rating_full_path_list = np.array(rating_full_path_list)\n",
    "    return rating_full_path_list"
   ]
  },
  {
   "cell_type": "code",
   "execution_count": null,
   "metadata": {},
   "outputs": [],
   "source": [
    "def rating_index_dict(beta_full_path_list, rating_full_path_list):\n",
    "\n",
    "    index_dict = {}\n",
    "    index_dict['beta_full_path_list'] = beta_full_path_list\n",
    "\n",
    "    index_list = []\n",
    "    for dirpath in beta_full_path_list:\n",
    "        file_name = os.path.split(dirpath)[-1]\n",
    "        c = \"\"\n",
    "        for i in range(len(file_name)):\n",
    "            if file_name[i].isnumeric():\n",
    "                c = c+file_name[i]\n",
    "        index_list.append(int(c))\n",
    "    index_list_np = np.array(index_list) - 1\n",
    "\n",
    "    index_dict['index_list_np'] = index_list_np\n",
    "\n",
    "    return index_dict"
   ]
  },
  {
   "cell_type": "code",
   "execution_count": null,
   "metadata": {},
   "outputs": [],
   "source": [
    "def rating_value_list(rating_full_path_list, index_dict):\n",
    "    if not len(index_dict['beta_full_path_list'])%len(rating_full_path_list) == 0:\n",
    "        raise ValueError(\"beta_full_path_list length({}) have to be multiple of rating_full_path_list length({})\".format(len(beta_full_path_list),len(rating_full_path_list)))\n",
    "    \n",
    "    if not len(index_dict['beta_full_path_list']) == len(index_dict['index_list_np']):\n",
    "        raise ValueError(\"beta_full_path_list length({}) have to be matched with index_list_np length({})\".format(len(beta_full_path_list), len(index_list_np)))\n",
    "    \n",
    "    index = 0\n",
    "    index_2 = 0\n",
    "    rating_list = []\n",
    "    for dirpath in rating_full_path_list:\n",
    "        rating_np = np.load(dirpath)  \n",
    "        \n",
    "        for i in range(int(len(index_dict['beta_full_path_list'])/len(rating_full_path_list))):\n",
    "            check_subj = False\n",
    "            for i in range(len(index_dict['beta_full_path_list'][index].split('/'))):\n",
    "                if 'subject' in index_dict['beta_full_path_list'][index].split('/')[i]:\n",
    "                    subj_name = index_dict['beta_full_path_list'][index].split('/')[i]\n",
    "                    check_subj = True\n",
    "\n",
    "            if not check_subj:\n",
    "                raise ValueError(\"Cannot find subject name in index\")\n",
    "\n",
    "            if not subj_name in rating_full_path_list[index_2]:\n",
    "                raise ValueError(\"index's subject name {} is not matched with rating_full_path_list's subject name {}\".format(subj_name, rating_full_path_list[index_2]))\n",
    "\n",
    "            rating_list.append(rating_np[index_dict['index_list_np'][index]])\n",
    "            \n",
    "            index += 1\n",
    "        index_2 += 1\n",
    "        \n",
    "    rating_list = np.array(rating_list)\n",
    "    return rating_list"
   ]
  },
  {
   "cell_type": "code",
   "execution_count": null,
   "metadata": {},
   "outputs": [],
   "source": [
    "in_condition_1 = ['study01_bmrk3', 'study02_bmrk4', 'study03_nsf', 'study04_ie', 'study05_exp', 'study06_ilcp']\n",
    "in_condition_2 = ['rating']\n",
    "out_conidtion = ['nopain']"
   ]
  },
  {
   "cell_type": "code",
   "execution_count": null,
   "metadata": {},
   "outputs": [],
   "source": [
    "rating_full_path_list = rating_file_list(basedir, in_condition_1, \n",
    "                                    in_condition_2, out_conidtion=out_conidtion)"
   ]
  },
  {
   "cell_type": "code",
   "execution_count": null,
   "metadata": {},
   "outputs": [],
   "source": [
    "index_dict = rating_index_dict(beta_full_path_list, rating_full_path_list)"
   ]
  },
  {
   "cell_type": "code",
   "execution_count": null,
   "metadata": {},
   "outputs": [],
   "source": [
    "index_dict"
   ]
  },
  {
   "cell_type": "code",
   "execution_count": null,
   "metadata": {},
   "outputs": [],
   "source": [
    "rating_list = rating_value_list(rating_full_path_list, index_dict)"
   ]
  },
  {
   "cell_type": "code",
   "execution_count": null,
   "metadata": {},
   "outputs": [],
   "source": [
    "rating_list"
   ]
  },
  {
   "cell_type": "code",
   "execution_count": null,
   "metadata": {},
   "outputs": [],
   "source": [
    "len(rating_list)"
   ]
  }
 ],
 "metadata": {
  "kernelspec": {
   "display_name": "tf3",
   "language": "python",
   "name": "tf3"
  },
  "language_info": {
   "codemirror_mode": {
    "name": "ipython",
    "version": 3
   },
   "file_extension": ".py",
   "mimetype": "text/x-python",
   "name": "python",
   "nbconvert_exporter": "python",
   "pygments_lexer": "ipython3",
   "version": "3.6.8"
  }
 },
 "nbformat": 4,
 "nbformat_minor": 2
}
