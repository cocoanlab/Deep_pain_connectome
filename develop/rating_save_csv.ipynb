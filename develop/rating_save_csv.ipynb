{
 "cells": [
  {
   "cell_type": "code",
   "execution_count": 1,
   "metadata": {},
   "outputs": [],
   "source": [
    "from file_listing import *\n",
    "import numpy as np\n",
    "import os\n",
    "import pandas as pd\n",
    "import matplotlib.pyplot as plt\n",
    "import seaborn as sns\n",
    "sns.set()\n",
    "\n",
    "%matplotlib inline"
   ]
  },
  {
   "cell_type": "markdown",
   "metadata": {},
   "source": [
    "# Save standard npy"
   ]
  },
  {
   "cell_type": "code",
   "execution_count": 2,
   "metadata": {},
   "outputs": [],
   "source": [
    "base_dir = '/media/cocoan-gpu1/wani8T/data/deeppain'"
   ]
  },
  {
   "cell_type": "code",
   "execution_count": null,
   "metadata": {},
   "outputs": [],
   "source": [
    "in_condition_1 = ['study01_bmrk3', 'study02_bmrk4', 'study03_nsf', 'study04_ie', 'study05_exp', 'study06_ilcp']\n",
    "in_condition_2 = ['rating']\n",
    "out_conidtion = ['nopain','rating_standard']"
   ]
  },
  {
   "cell_type": "code",
   "execution_count": null,
   "metadata": {},
   "outputs": [],
   "source": [
    "rating_full_path_list = rating_file_list(base_dir, in_condition_1, \n",
    "                                    in_condition_2, out_conidtion=out_conidtion)"
   ]
  },
  {
   "cell_type": "code",
   "execution_count": null,
   "metadata": {},
   "outputs": [],
   "source": [
    "for dirpath in rating_full_path_list:\n",
    "    \n",
    "    #dirpath example : '/media/cocoan-gpu1/wani8T/data/deeppain/study01_bmrk3/rating/study01_bmrk3_subject001_dat.npy'\n",
    "    file_name = os.path.split(dirpath)[-1]\n",
    "    \n",
    "    if 'npy' in file_name:\n",
    "        # file_name example : 'study01_bmrk3_subject001_dat.npy'\n",
    "        study_name = file_name.split('.')[0].split('_')[0] + '_' + file_name.split('.')[0].split('_')[1]\n",
    "        sub_name = file_name.split('.')[0].split('_')[-2]\n",
    "\n",
    "        folder_dir = os.path.join(base_dir, study_name)\n",
    "        if not os.path.exists(folder_dir):\n",
    "            os.mkdir(folder_dir) \n",
    "\n",
    "        rating_folder_dir = os.path.join(folder_dir, 'rating_standard')\n",
    "        if not os.path.exists(rating_folder_dir):\n",
    "            os.mkdir(rating_folder_dir)\n",
    "\n",
    "        temp_npy = np.load(dirpath)\n",
    "        rating_np_stand = (temp_npy-temp_npy.mean())/temp_npy.std()\n",
    "\n",
    "        save_file_name =  file_name.split('.')[0]\n",
    "        np.save(rating_folder_dir+'/'+save_file_name, rating_np_stand)"
   ]
  },
  {
   "cell_type": "markdown",
   "metadata": {},
   "source": [
    "# Save CSV"
   ]
  },
  {
   "cell_type": "code",
   "execution_count": null,
   "metadata": {},
   "outputs": [],
   "source": [
    "base_dir = '/media/cocoan-gpu1/wani8T/data/deeppain'"
   ]
  },
  {
   "cell_type": "code",
   "execution_count": 19,
   "metadata": {},
   "outputs": [],
   "source": [
    "in_condition_1 = ['study06_ilcp']\n",
    "in_condition_2 = ['rating']\n",
    "out_conidtion = ['nopain','rating_standard']"
   ]
  },
  {
   "cell_type": "code",
   "execution_count": 20,
   "metadata": {},
   "outputs": [],
   "source": [
    "rating_full_path_list = rating_file_list(base_dir, in_condition_1, \n",
    "                                    in_condition_2, out_conidtion=out_conidtion)"
   ]
  },
  {
   "cell_type": "code",
   "execution_count": 21,
   "metadata": {},
   "outputs": [
    {
     "data": {
      "text/plain": [
       "(1826,)"
      ]
     },
     "execution_count": 21,
     "metadata": {},
     "output_type": "execute_result"
    }
   ],
   "source": [
    "rating_shape = []\n",
    "for i in range(len(rating_full_path_list)):\n",
    "    temp_list = np.load(rating_full_path_list[i])\n",
    "    \n",
    "    if i == 0:\n",
    "        study_rating_list = temp_list\n",
    "    else:\n",
    "        study_rating_list = np.concatenate((study_rating_list, temp_list))\n",
    "        \n",
    "    rating_shape.append(temp_list.shape)\n",
    "\n",
    "study_rating_standard = (study_rating_list-study_rating_list.mean())/study_rating_list.std()\n",
    "\n",
    "study_rating_standard.shape"
   ]
  },
  {
   "cell_type": "code",
   "execution_count": 22,
   "metadata": {},
   "outputs": [
    {
     "data": {
      "text/plain": [
       "29"
      ]
     },
     "execution_count": 22,
     "metadata": {},
     "output_type": "execute_result"
    }
   ],
   "source": [
    "df_list = []\n",
    "index = 0\n",
    "for i, dirpath in enumerate(rating_full_path_list):\n",
    "    temp_npy = np.load(dirpath)\n",
    "    \n",
    "    df = pd.DataFrame()\n",
    "    df['rating_original'] = temp_npy\n",
    "    df.index = ['bata{:04d}.npy'.format(i+1) for i in range(df.shape[0])]\n",
    "    df.index.name='beta_index'\n",
    "    \n",
    "    df['rating_standard_bt_sub'] = (temp_npy-temp_npy.mean())/temp_npy.std()\n",
    "    \n",
    "    if i == 0:\n",
    "        index = rating_shape[i][0]\n",
    "        df['rating_standard_bt_study'] = study_rating_standard[:index]\n",
    "    else:\n",
    "        index2 = index + rating_shape[i][0]\n",
    "        df['rating_standard_bt_study'] = study_rating_standard[index:index2]\n",
    "        index += rating_shape[i][0]\n",
    "        \n",
    "    df_list.append(df)\n",
    "len(df_list)"
   ]
  },
  {
   "cell_type": "code",
   "execution_count": 23,
   "metadata": {},
   "outputs": [
    {
     "name": "stdout",
     "output_type": "stream",
     "text": [
      "/media/cocoan-gpu1/wani8T/data/deeppain/study06_ilcp/rating_csv/study06_ilcp_subject155_dat.csv\n",
      "/media/cocoan-gpu1/wani8T/data/deeppain/study06_ilcp/rating_csv/study06_ilcp_subject156_dat.csv\n",
      "/media/cocoan-gpu1/wani8T/data/deeppain/study06_ilcp/rating_csv/study06_ilcp_subject157_dat.csv\n",
      "/media/cocoan-gpu1/wani8T/data/deeppain/study06_ilcp/rating_csv/study06_ilcp_subject158_dat.csv\n",
      "/media/cocoan-gpu1/wani8T/data/deeppain/study06_ilcp/rating_csv/study06_ilcp_subject159_dat.csv\n",
      "/media/cocoan-gpu1/wani8T/data/deeppain/study06_ilcp/rating_csv/study06_ilcp_subject160_dat.csv\n",
      "/media/cocoan-gpu1/wani8T/data/deeppain/study06_ilcp/rating_csv/study06_ilcp_subject161_dat.csv\n",
      "/media/cocoan-gpu1/wani8T/data/deeppain/study06_ilcp/rating_csv/study06_ilcp_subject162_dat.csv\n",
      "/media/cocoan-gpu1/wani8T/data/deeppain/study06_ilcp/rating_csv/study06_ilcp_subject163_dat.csv\n",
      "/media/cocoan-gpu1/wani8T/data/deeppain/study06_ilcp/rating_csv/study06_ilcp_subject164_dat.csv\n",
      "/media/cocoan-gpu1/wani8T/data/deeppain/study06_ilcp/rating_csv/study06_ilcp_subject165_dat.csv\n",
      "/media/cocoan-gpu1/wani8T/data/deeppain/study06_ilcp/rating_csv/study06_ilcp_subject166_dat.csv\n",
      "/media/cocoan-gpu1/wani8T/data/deeppain/study06_ilcp/rating_csv/study06_ilcp_subject167_dat.csv\n",
      "/media/cocoan-gpu1/wani8T/data/deeppain/study06_ilcp/rating_csv/study06_ilcp_subject168_dat.csv\n",
      "/media/cocoan-gpu1/wani8T/data/deeppain/study06_ilcp/rating_csv/study06_ilcp_subject169_dat.csv\n",
      "/media/cocoan-gpu1/wani8T/data/deeppain/study06_ilcp/rating_csv/study06_ilcp_subject170_dat.csv\n",
      "/media/cocoan-gpu1/wani8T/data/deeppain/study06_ilcp/rating_csv/study06_ilcp_subject171_dat.csv\n",
      "/media/cocoan-gpu1/wani8T/data/deeppain/study06_ilcp/rating_csv/study06_ilcp_subject172_dat.csv\n",
      "/media/cocoan-gpu1/wani8T/data/deeppain/study06_ilcp/rating_csv/study06_ilcp_subject173_dat.csv\n",
      "/media/cocoan-gpu1/wani8T/data/deeppain/study06_ilcp/rating_csv/study06_ilcp_subject174_dat.csv\n",
      "/media/cocoan-gpu1/wani8T/data/deeppain/study06_ilcp/rating_csv/study06_ilcp_subject175_dat.csv\n",
      "/media/cocoan-gpu1/wani8T/data/deeppain/study06_ilcp/rating_csv/study06_ilcp_subject176_dat.csv\n",
      "/media/cocoan-gpu1/wani8T/data/deeppain/study06_ilcp/rating_csv/study06_ilcp_subject177_dat.csv\n",
      "/media/cocoan-gpu1/wani8T/data/deeppain/study06_ilcp/rating_csv/study06_ilcp_subject178_dat.csv\n",
      "/media/cocoan-gpu1/wani8T/data/deeppain/study06_ilcp/rating_csv/study06_ilcp_subject179_dat.csv\n",
      "/media/cocoan-gpu1/wani8T/data/deeppain/study06_ilcp/rating_csv/study06_ilcp_subject180_dat.csv\n",
      "/media/cocoan-gpu1/wani8T/data/deeppain/study06_ilcp/rating_csv/study06_ilcp_subject181_dat.csv\n",
      "/media/cocoan-gpu1/wani8T/data/deeppain/study06_ilcp/rating_csv/study06_ilcp_subject182_dat.csv\n",
      "/media/cocoan-gpu1/wani8T/data/deeppain/study06_ilcp/rating_csv/study06_ilcp_subject183_dat.csv\n"
     ]
    }
   ],
   "source": [
    "for i, dirpath in enumerate(rating_full_path_list):\n",
    "    \n",
    "    #dirpath example : '/media/cocoan-gpu1/wani8T/data/deeppain/study01_bmrk3/rating/study01_bmrk3_subject001_dat.npy'\n",
    "    file_name = os.path.split(dirpath)[-1]\n",
    "    \n",
    "    if 'npy' in file_name:\n",
    "        # file_name example : 'study01_bmrk3_subject001_dat.npy'\n",
    "        study_name = file_name.split('.')[0].split('_')[0] + '_' + file_name.split('.')[0].split('_')[1]\n",
    "        sub_name = file_name.split('.')[0].split('_')[-2]\n",
    "\n",
    "        folder_dir = os.path.join(base_dir, study_name)\n",
    "        if not os.path.exists(folder_dir):\n",
    "            os.mkdir(folder_dir) \n",
    "\n",
    "        rating_folder_dir = os.path.join(folder_dir, 'rating_csv')\n",
    "        if not os.path.exists(rating_folder_dir):\n",
    "            os.mkdir(rating_folder_dir)\n",
    "\n",
    "        temp_npy = np.load(dirpath)\n",
    "        rating_np_stand = (temp_npy-temp_npy.mean())/temp_npy.std()\n",
    "\n",
    "        save_file_name =  file_name.split('.')[0]\n",
    "        save_path = rating_folder_dir+'/'+save_file_name+'.csv'\n",
    "\n",
    "        df_list[i].to_csv(save_path, mode='w')\n",
    "        print(save_path)"
   ]
  },
  {
   "cell_type": "code",
   "execution_count": 24,
   "metadata": {},
   "outputs": [],
   "source": [
    "test_df = pd.read_csv('/media/cocoan-gpu1/wani8T/data/deeppain/study06_ilcp/rating_csv/study06_ilcp_subject176_dat.csv')"
   ]
  },
  {
   "cell_type": "code",
   "execution_count": 26,
   "metadata": {},
   "outputs": [
    {
     "data": {
      "text/html": [
       "<div>\n",
       "<style scoped>\n",
       "    .dataframe tbody tr th:only-of-type {\n",
       "        vertical-align: middle;\n",
       "    }\n",
       "\n",
       "    .dataframe tbody tr th {\n",
       "        vertical-align: top;\n",
       "    }\n",
       "\n",
       "    .dataframe thead th {\n",
       "        text-align: right;\n",
       "    }\n",
       "</style>\n",
       "<table border=\"1\" class=\"dataframe\">\n",
       "  <thead>\n",
       "    <tr style=\"text-align: right;\">\n",
       "      <th></th>\n",
       "      <th>beta_index</th>\n",
       "      <th>rating_original</th>\n",
       "      <th>rating_standard_bt_sub</th>\n",
       "      <th>rating_standard_bt_study</th>\n",
       "    </tr>\n",
       "  </thead>\n",
       "  <tbody>\n",
       "    <tr>\n",
       "      <th>0</th>\n",
       "      <td>bata0001.npy</td>\n",
       "      <td>32</td>\n",
       "      <td>-0.181629</td>\n",
       "      <td>-0.171629</td>\n",
       "    </tr>\n",
       "    <tr>\n",
       "      <th>1</th>\n",
       "      <td>bata0002.npy</td>\n",
       "      <td>29</td>\n",
       "      <td>-0.366142</td>\n",
       "      <td>-0.320629</td>\n",
       "    </tr>\n",
       "    <tr>\n",
       "      <th>2</th>\n",
       "      <td>bata0003.npy</td>\n",
       "      <td>15</td>\n",
       "      <td>-1.227200</td>\n",
       "      <td>-1.015959</td>\n",
       "    </tr>\n",
       "    <tr>\n",
       "      <th>3</th>\n",
       "      <td>bata0004.npy</td>\n",
       "      <td>9</td>\n",
       "      <td>-1.596225</td>\n",
       "      <td>-1.313958</td>\n",
       "    </tr>\n",
       "    <tr>\n",
       "      <th>4</th>\n",
       "      <td>bata0005.npy</td>\n",
       "      <td>29</td>\n",
       "      <td>-0.366142</td>\n",
       "      <td>-0.320629</td>\n",
       "    </tr>\n",
       "  </tbody>\n",
       "</table>\n",
       "</div>"
      ],
      "text/plain": [
       "     beta_index  rating_original  rating_standard_bt_sub  \\\n",
       "0  bata0001.npy               32               -0.181629   \n",
       "1  bata0002.npy               29               -0.366142   \n",
       "2  bata0003.npy               15               -1.227200   \n",
       "3  bata0004.npy                9               -1.596225   \n",
       "4  bata0005.npy               29               -0.366142   \n",
       "\n",
       "   rating_standard_bt_study  \n",
       "0                 -0.171629  \n",
       "1                 -0.320629  \n",
       "2                 -1.015959  \n",
       "3                 -1.313958  \n",
       "4                 -0.320629  "
      ]
     },
     "execution_count": 26,
     "metadata": {},
     "output_type": "execute_result"
    }
   ],
   "source": [
    "test_df.head()"
   ]
  }
 ],
 "metadata": {
  "kernelspec": {
   "display_name": "tf3",
   "language": "python",
   "name": "tf3"
  },
  "language_info": {
   "codemirror_mode": {
    "name": "ipython",
    "version": 3
   },
   "file_extension": ".py",
   "mimetype": "text/x-python",
   "name": "python",
   "nbconvert_exporter": "python",
   "pygments_lexer": "ipython3",
   "version": "3.6.8"
  }
 },
 "nbformat": 4,
 "nbformat_minor": 2
}
