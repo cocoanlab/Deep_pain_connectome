{
 "cells": [
  {
   "cell_type": "code",
   "execution_count": 1,
   "metadata": {},
   "outputs": [],
   "source": [
    "import numpy as np\n",
    "import os\n",
    "import re\n",
    "import random"
   ]
  },
  {
   "cell_type": "code",
   "execution_count": 2,
   "metadata": {},
   "outputs": [],
   "source": [
    "def dir_search(basedir, in_condition_1=None, in_condition_2=None, in_condition_3=None, out_conidtion=None):\n",
    "    \n",
    "    search_dir = []\n",
    "    if in_condition_1:\n",
    "            in_condition_1 = \"|\".join(in_condition_1).lower()\n",
    "    if in_condition_2:\n",
    "            in_condition_2 = \"|\".join(in_condition_2).lower()\n",
    "    if in_condition_3:\n",
    "            in_condition_3 = \"|\".join(in_condition_3).lower()\n",
    "    if out_conidtion:\n",
    "            out_conidtion = \"|\".join(out_conidtion).lower()\n",
    "    \n",
    "    for dirpath, dirnames, filenames in os.walk(basedir):\n",
    "        if in_condition_1:\n",
    "            in_search_1 = re.search(in_condition_1, dirpath)\n",
    "            if not in_search_1: \n",
    "                continue\n",
    "        \n",
    "        if in_condition_2:\n",
    "            in_search_2 = re.search(in_condition_2, dirpath)\n",
    "            if not in_search_2: \n",
    "                continue\n",
    "                \n",
    "        if in_condition_3:\n",
    "            in_search_3 = re.search(in_condition_3, dirpath)\n",
    "            if not in_search_3: \n",
    "                continue\n",
    "\n",
    "        if out_conidtion:\n",
    "            out_search = re.search(out_conidtion, dirpath)    \n",
    "            if out_search:\n",
    "                continue\n",
    "\n",
    "        search_dir.append(dirpath)\n",
    "        \n",
    "    search_dir.sort()\n",
    "    return search_dir"
   ]
  },
  {
   "cell_type": "code",
   "execution_count": 3,
   "metadata": {},
   "outputs": [],
   "source": [
    "def file_list(search_dir, choice_num):\n",
    "    max_len = 0\n",
    "    min_len = 0\n",
    "    beta_full_path_list = []\n",
    "    \n",
    "    for dirpath in search_dir:\n",
    "        if max_len < len(os.listdir(dirpath)):\n",
    "            max_len = len(os.listdir(dirpath))\n",
    "\n",
    "        if min_len == 0 or min_len > len(os.listdir(dirpath)):\n",
    "            min_len = len(os.listdir(dirpath))\n",
    "\n",
    "    if choice_num > min_len:\n",
    "        raise ValueError(\"choice_num {} is larger than directory files minimum length {}\".format(choice_num, min_len))\n",
    "\n",
    "    for dirpath in search_dir:\n",
    "        rand = np.random.choice(len(os.listdir(dirpath)), choice_num, replace=False) + 1\n",
    "        file_name_list = []\n",
    "        for i in range(rand.shape[0]):\n",
    "            if rand[i]<10:\n",
    "                name = 'beta000'+str(rand[i])\n",
    "            elif rand[i]<100:\n",
    "                name ='beta00'+str(rand[i])\n",
    "            elif rand[i]<1000:\n",
    "                name ='beta0'+str(rand[i])\n",
    "            else:\n",
    "                name = 'beta'+str(rand[i])\n",
    "\n",
    "            file_name = name + '.npy'\n",
    "            file_name_list.append(file_name)\n",
    "\n",
    "        for files in file_name_list:\n",
    "            beta_full_path_list.append(os.path.join(dirpath,files))\n",
    "            \n",
    "    return beta_full_path_list"
   ]
  },
  {
   "cell_type": "code",
   "execution_count": 4,
   "metadata": {},
   "outputs": [],
   "source": [
    "def file_dict(full_path_list):\n",
    "    file_dict = {}\n",
    "    temp_list = []\n",
    "    for i in range(len(full_path_list)):\n",
    "        split_name = full_path_list[i].split('/')\n",
    "\n",
    "        if 'subject' in split_name[-2]:\n",
    "            dic_key = split_name[-2]\n",
    "\n",
    "        try:\n",
    "            file_dict[dic_key]\n",
    "        except:\n",
    "            file_dict[dic_key] = [full_path_list[i]]\n",
    "\n",
    "        if file_dict[dic_key]:\n",
    "            file_dict[dic_key].append(full_path_list[i])\n",
    "    return file_dict"
   ]
  },
  {
   "cell_type": "code",
   "execution_count": 5,
   "metadata": {},
   "outputs": [],
   "source": [
    "basedir = '/media/cocoan-gpu1/wani8T/data/deeppain'"
   ]
  },
  {
   "cell_type": "code",
   "execution_count": 6,
   "metadata": {},
   "outputs": [],
   "source": [
    "in_condition_1 = ['study01_bmrk3', 'study02_bmrk4', 'study03_nsf', 'study04_ie', 'study05_exp', 'study06_ilcp']\n",
    "in_condition_2 = ['subject']\n",
    "out_conidtion = ['nopain']"
   ]
  },
  {
   "cell_type": "code",
   "execution_count": 7,
   "metadata": {},
   "outputs": [],
   "source": [
    "search_dir = dir_search(basedir=basedir, in_condition_1=in_condition_1, \n",
    "                         in_condition_2 = in_condition_2, \n",
    "                         out_conidtion=out_conidtion)"
   ]
  },
  {
   "cell_type": "code",
   "execution_count": 8,
   "metadata": {},
   "outputs": [
    {
     "data": {
      "text/plain": [
       "['/media/cocoan-gpu1/wani8T/data/deeppain/study01_bmrk3/subject001/beta0032.npy',\n",
       " '/media/cocoan-gpu1/wani8T/data/deeppain/study01_bmrk3/subject001/beta0037.npy',\n",
       " '/media/cocoan-gpu1/wani8T/data/deeppain/study01_bmrk3/subject001/beta0043.npy',\n",
       " '/media/cocoan-gpu1/wani8T/data/deeppain/study01_bmrk3/subject002/beta0010.npy',\n",
       " '/media/cocoan-gpu1/wani8T/data/deeppain/study01_bmrk3/subject002/beta0007.npy',\n",
       " '/media/cocoan-gpu1/wani8T/data/deeppain/study01_bmrk3/subject002/beta0004.npy',\n",
       " '/media/cocoan-gpu1/wani8T/data/deeppain/study01_bmrk3/subject003/beta0034.npy',\n",
       " '/media/cocoan-gpu1/wani8T/data/deeppain/study01_bmrk3/subject003/beta0007.npy',\n",
       " '/media/cocoan-gpu1/wani8T/data/deeppain/study01_bmrk3/subject003/beta0027.npy',\n",
       " '/media/cocoan-gpu1/wani8T/data/deeppain/study01_bmrk3/subject004/beta0011.npy']"
      ]
     },
     "execution_count": 8,
     "metadata": {},
     "output_type": "execute_result"
    }
   ],
   "source": [
    "beta_full_path_list = file_list(search_dir, 3)\n",
    "beta_full_path_list[:10]"
   ]
  },
  {
   "cell_type": "code",
   "execution_count": 9,
   "metadata": {},
   "outputs": [
    {
     "data": {
      "text/plain": [
       "['/media/cocoan-gpu1/wani8T/data/deeppain/study01_bmrk3/subject001/beta0032.npy',\n",
       " '/media/cocoan-gpu1/wani8T/data/deeppain/study01_bmrk3/subject001/beta0032.npy',\n",
       " '/media/cocoan-gpu1/wani8T/data/deeppain/study01_bmrk3/subject001/beta0037.npy',\n",
       " '/media/cocoan-gpu1/wani8T/data/deeppain/study01_bmrk3/subject001/beta0043.npy']"
      ]
     },
     "execution_count": 9,
     "metadata": {},
     "output_type": "execute_result"
    }
   ],
   "source": [
    "file_dict = file_dict(beta_full_path_list)\n",
    "file_dict['subject001']"
   ]
  },
  {
   "cell_type": "code",
   "execution_count": 10,
   "metadata": {},
   "outputs": [],
   "source": [
    "def rating_list(basedir, in_condition_1=None, in_condition_2=None, in_condition_3=None, out_conidtion=None):\n",
    "    search_dir = dir_search(basedir=basedir, in_condition_1=in_condition_1, \n",
    "                     in_condition_2 = in_condition_2, \n",
    "                     out_conidtion=out_conidtion)\n",
    "\n",
    "    rating_full_path_list = []\n",
    "    for dirpath in search_dir:\n",
    "        rating_files = os.listdir(dirpath)\n",
    "        rating_files.sort()\n",
    "\n",
    "        for file in rating_files:\n",
    "            rating_full_path_list.append(os.path.join(dirpath,file))\n",
    "    \n",
    "    return rating_full_path_list"
   ]
  },
  {
   "cell_type": "code",
   "execution_count": 11,
   "metadata": {},
   "outputs": [],
   "source": [
    "def rating_index(beta_full_path_list, rating_full_path_list):\n",
    "\n",
    "    index_list = []\n",
    "    for dirpath in beta_full_path_list:\n",
    "        file_name = os.path.split(dirpath)[-1]\n",
    "        c = \"\"\n",
    "        for i in range(len(file_name)):\n",
    "            if file_name[i].isnumeric():\n",
    "                c = c+file_name[i]\n",
    "        index_list.append(int(c))\n",
    "    index_list_np = np.array(index_list) - 1\n",
    "    \n",
    "    return index_list_np"
   ]
  },
  {
   "cell_type": "code",
   "execution_count": 12,
   "metadata": {},
   "outputs": [],
   "source": [
    "def load_rating(beta_full_path_list, rating_full_path_list, index_list_np):\n",
    "    index = 0\n",
    "    rating_list = []\n",
    "    for dirpath in rating_full_path_list:\n",
    "        rating_np = np.load(dirpath)\n",
    "        for i in range(int(len(beta_full_path_list)/len(rating_full_path_list))):\n",
    "            rating_list.append(rating_np[index_list_np[index]])\n",
    "            index += 1\n",
    "    \n",
    "    return rating_list"
   ]
  },
  {
   "cell_type": "code",
   "execution_count": 33,
   "metadata": {},
   "outputs": [],
   "source": [
    "in_condition_1 = ['study01_bmrk3', 'study02_bmrk4', 'study03_nsf', 'study04_ie', 'study05_exp', 'study06_ilcp']\n",
    "in_condition_2 = ['rating']\n",
    "out_conidtion = ['nopain']"
   ]
  },
  {
   "cell_type": "code",
   "execution_count": 34,
   "metadata": {},
   "outputs": [],
   "source": [
    "rating_full_path_list = rating_list(basedir, in_condition_1=in_condition_1, \n",
    "                                    in_condition_2=in_condition_2, out_conidtion=out_conidtion)"
   ]
  },
  {
   "cell_type": "code",
   "execution_count": 37,
   "metadata": {},
   "outputs": [],
   "source": [
    "index_list_np = rating_index(beta_full_path_list, rating_full_path_list)"
   ]
  },
  {
   "cell_type": "code",
   "execution_count": 38,
   "metadata": {},
   "outputs": [],
   "source": [
    "rating_list = load_rating(beta_full_path_list, rating_full_path_list, index_list_np)"
   ]
  },
  {
   "cell_type": "code",
   "execution_count": 41,
   "metadata": {},
   "outputs": [
    {
     "data": {
      "text/plain": [
       "549"
      ]
     },
     "execution_count": 41,
     "metadata": {},
     "output_type": "execute_result"
    }
   ],
   "source": [
    "len(rating_list)"
   ]
  },
  {
   "cell_type": "code",
   "execution_count": null,
   "metadata": {},
   "outputs": [],
   "source": []
  }
 ],
 "metadata": {
  "kernelspec": {
   "display_name": "tf3",
   "language": "python",
   "name": "tf3"
  },
  "language_info": {
   "codemirror_mode": {
    "name": "ipython",
    "version": 3
   },
   "file_extension": ".py",
   "mimetype": "text/x-python",
   "name": "python",
   "nbconvert_exporter": "python",
   "pygments_lexer": "ipython3",
   "version": "3.6.8"
  }
 },
 "nbformat": 4,
 "nbformat_minor": 2
}
