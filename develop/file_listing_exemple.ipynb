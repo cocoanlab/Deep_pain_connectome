{
 "cells": [
  {
   "cell_type": "code",
   "execution_count": 1,
   "metadata": {},
   "outputs": [],
   "source": [
    "import numpy as np\n",
    "from file_listing import *"
   ]
  },
  {
   "cell_type": "code",
   "execution_count": 2,
   "metadata": {},
   "outputs": [],
   "source": [
    "basedir = '/media/cocoan-gpu1/wani8T/data/deeppain'"
   ]
  },
  {
   "cell_type": "markdown",
   "metadata": {},
   "source": [
    "# Making Beta list"
   ]
  },
  {
   "cell_type": "code",
   "execution_count": 3,
   "metadata": {},
   "outputs": [],
   "source": [
    "in_condition_1 = ['study01_bmrk3', 'study02_bmrk4', 'study03_nsf', 'study04_ie', 'study05_exp', 'study06_ilcp']\n",
    "in_condition_2 = ['subject']\n",
    "out_conidtion = ['nopain']"
   ]
  },
  {
   "cell_type": "code",
   "execution_count": 4,
   "metadata": {},
   "outputs": [],
   "source": [
    "search_list = dir_search(basedir=basedir, in_condition_1=in_condition_1, \n",
    "                         in_condition_2 = in_condition_2, \n",
    "                         out_conidtion=out_conidtion)"
   ]
  },
  {
   "cell_type": "code",
   "execution_count": 5,
   "metadata": {},
   "outputs": [
    {
     "data": {
      "text/plain": [
       "array(['/media/cocoan-gpu1/wani8T/data/deeppain/study01_bmrk3/subject001/beta0037.npy',\n",
       "       '/media/cocoan-gpu1/wani8T/data/deeppain/study01_bmrk3/subject001/beta0026.npy',\n",
       "       '/media/cocoan-gpu1/wani8T/data/deeppain/study01_bmrk3/subject001/beta0042.npy',\n",
       "       '/media/cocoan-gpu1/wani8T/data/deeppain/study01_bmrk3/subject001/beta0032.npy',\n",
       "       '/media/cocoan-gpu1/wani8T/data/deeppain/study01_bmrk3/subject001/beta0019.npy',\n",
       "       '/media/cocoan-gpu1/wani8T/data/deeppain/study01_bmrk3/subject001/beta0027.npy',\n",
       "       '/media/cocoan-gpu1/wani8T/data/deeppain/study01_bmrk3/subject001/beta0005.npy',\n",
       "       '/media/cocoan-gpu1/wani8T/data/deeppain/study01_bmrk3/subject001/beta0051.npy',\n",
       "       '/media/cocoan-gpu1/wani8T/data/deeppain/study01_bmrk3/subject001/beta0044.npy',\n",
       "       '/media/cocoan-gpu1/wani8T/data/deeppain/study01_bmrk3/subject001/beta0015.npy'],\n",
       "      dtype='<U77')"
      ]
     },
     "execution_count": 5,
     "metadata": {},
     "output_type": "execute_result"
    }
   ],
   "source": [
    "beta_full_path_list = beta_file_list(search_list, 15)\n",
    "beta_full_path_list[:10]"
   ]
  },
  {
   "cell_type": "code",
   "execution_count": 6,
   "metadata": {},
   "outputs": [
    {
     "data": {
      "text/plain": [
       "(2745,)"
      ]
     },
     "execution_count": 6,
     "metadata": {},
     "output_type": "execute_result"
    }
   ],
   "source": [
    "beta_full_path_list.shape"
   ]
  },
  {
   "cell_type": "code",
   "execution_count": 7,
   "metadata": {},
   "outputs": [
    {
     "data": {
      "text/plain": [
       "['/media/cocoan-gpu1/wani8T/data/deeppain/study01_bmrk3/subject001/beta0037.npy',\n",
       " '/media/cocoan-gpu1/wani8T/data/deeppain/study01_bmrk3/subject001/beta0037.npy',\n",
       " '/media/cocoan-gpu1/wani8T/data/deeppain/study01_bmrk3/subject001/beta0026.npy',\n",
       " '/media/cocoan-gpu1/wani8T/data/deeppain/study01_bmrk3/subject001/beta0042.npy',\n",
       " '/media/cocoan-gpu1/wani8T/data/deeppain/study01_bmrk3/subject001/beta0032.npy',\n",
       " '/media/cocoan-gpu1/wani8T/data/deeppain/study01_bmrk3/subject001/beta0019.npy',\n",
       " '/media/cocoan-gpu1/wani8T/data/deeppain/study01_bmrk3/subject001/beta0027.npy',\n",
       " '/media/cocoan-gpu1/wani8T/data/deeppain/study01_bmrk3/subject001/beta0005.npy',\n",
       " '/media/cocoan-gpu1/wani8T/data/deeppain/study01_bmrk3/subject001/beta0051.npy',\n",
       " '/media/cocoan-gpu1/wani8T/data/deeppain/study01_bmrk3/subject001/beta0044.npy',\n",
       " '/media/cocoan-gpu1/wani8T/data/deeppain/study01_bmrk3/subject001/beta0015.npy',\n",
       " '/media/cocoan-gpu1/wani8T/data/deeppain/study01_bmrk3/subject001/beta0036.npy',\n",
       " '/media/cocoan-gpu1/wani8T/data/deeppain/study01_bmrk3/subject001/beta0062.npy',\n",
       " '/media/cocoan-gpu1/wani8T/data/deeppain/study01_bmrk3/subject001/beta0006.npy',\n",
       " '/media/cocoan-gpu1/wani8T/data/deeppain/study01_bmrk3/subject001/beta0048.npy',\n",
       " '/media/cocoan-gpu1/wani8T/data/deeppain/study01_bmrk3/subject001/beta0010.npy']"
      ]
     },
     "execution_count": 7,
     "metadata": {},
     "output_type": "execute_result"
    }
   ],
   "source": [
    "file_dict = beta_file_dict(beta_full_path_list)\n",
    "file_dict['subject001']"
   ]
  },
  {
   "cell_type": "markdown",
   "metadata": {},
   "source": [
    "# Making Rating list"
   ]
  },
  {
   "cell_type": "code",
   "execution_count": 8,
   "metadata": {},
   "outputs": [],
   "source": [
    "in_condition_1 = ['study01_bmrk3', 'study02_bmrk4', 'study03_nsf', 'study04_ie', 'study05_exp', 'study06_ilcp']\n",
    "in_condition_2 = ['rating']\n",
    "out_conidtion = ['nopain']"
   ]
  },
  {
   "cell_type": "code",
   "execution_count": 9,
   "metadata": {},
   "outputs": [],
   "source": [
    "rating_full_path_list = rating_file_list(basedir, in_condition_1, \n",
    "                                    in_condition_2, out_conidtion=out_conidtion)"
   ]
  },
  {
   "cell_type": "code",
   "execution_count": 10,
   "metadata": {},
   "outputs": [
    {
     "data": {
      "text/plain": [
       "array(['/media/cocoan-gpu1/wani8T/data/deeppain/study01_bmrk3/rating/study01_bmrk3_subject001_dat.npy',\n",
       "       '/media/cocoan-gpu1/wani8T/data/deeppain/study01_bmrk3/rating/study01_bmrk3_subject002_dat.npy',\n",
       "       '/media/cocoan-gpu1/wani8T/data/deeppain/study01_bmrk3/rating/study01_bmrk3_subject003_dat.npy',\n",
       "       '/media/cocoan-gpu1/wani8T/data/deeppain/study01_bmrk3/rating/study01_bmrk3_subject004_dat.npy',\n",
       "       '/media/cocoan-gpu1/wani8T/data/deeppain/study01_bmrk3/rating/study01_bmrk3_subject005_dat.npy',\n",
       "       '/media/cocoan-gpu1/wani8T/data/deeppain/study01_bmrk3/rating/study01_bmrk3_subject006_dat.npy',\n",
       "       '/media/cocoan-gpu1/wani8T/data/deeppain/study01_bmrk3/rating/study01_bmrk3_subject007_dat.npy',\n",
       "       '/media/cocoan-gpu1/wani8T/data/deeppain/study01_bmrk3/rating/study01_bmrk3_subject008_dat.npy',\n",
       "       '/media/cocoan-gpu1/wani8T/data/deeppain/study01_bmrk3/rating/study01_bmrk3_subject009_dat.npy',\n",
       "       '/media/cocoan-gpu1/wani8T/data/deeppain/study01_bmrk3/rating/study01_bmrk3_subject010_dat.npy'],\n",
       "      dtype='<U93')"
      ]
     },
     "execution_count": 10,
     "metadata": {},
     "output_type": "execute_result"
    }
   ],
   "source": [
    "rating_full_path_list[:10]"
   ]
  },
  {
   "cell_type": "code",
   "execution_count": 11,
   "metadata": {},
   "outputs": [],
   "source": [
    "index_dict = rating_index_dict(beta_full_path_list, rating_full_path_list)"
   ]
  },
  {
   "cell_type": "code",
   "execution_count": 12,
   "metadata": {},
   "outputs": [
    {
     "data": {
      "text/plain": [
       "{'beta_full_path_list': array(['/media/cocoan-gpu1/wani8T/data/deeppain/study01_bmrk3/subject001/beta0037.npy',\n",
       "        '/media/cocoan-gpu1/wani8T/data/deeppain/study01_bmrk3/subject001/beta0026.npy',\n",
       "        '/media/cocoan-gpu1/wani8T/data/deeppain/study01_bmrk3/subject001/beta0042.npy',\n",
       "        ...,\n",
       "        '/media/cocoan-gpu1/wani8T/data/deeppain/study06_ilcp/subject183/beta0009.npy',\n",
       "        '/media/cocoan-gpu1/wani8T/data/deeppain/study06_ilcp/subject183/beta0053.npy',\n",
       "        '/media/cocoan-gpu1/wani8T/data/deeppain/study06_ilcp/subject183/beta0027.npy'],\n",
       "       dtype='<U77'), 'index_list_np': array([36, 25, 41, ...,  8, 52, 26])}"
      ]
     },
     "execution_count": 12,
     "metadata": {},
     "output_type": "execute_result"
    }
   ],
   "source": [
    "index_dict"
   ]
  },
  {
   "cell_type": "code",
   "execution_count": 13,
   "metadata": {},
   "outputs": [],
   "source": [
    "rating_list = rating_value_list(rating_full_path_list, index_dict)"
   ]
  },
  {
   "cell_type": "code",
   "execution_count": 14,
   "metadata": {},
   "outputs": [
    {
     "data": {
      "text/plain": [
       "array([123., 120., 108., ...,  30.,  72.,  49.])"
      ]
     },
     "execution_count": 14,
     "metadata": {},
     "output_type": "execute_result"
    }
   ],
   "source": [
    "rating_list"
   ]
  },
  {
   "cell_type": "code",
   "execution_count": 15,
   "metadata": {},
   "outputs": [
    {
     "data": {
      "text/plain": [
       "(2745,)"
      ]
     },
     "execution_count": 15,
     "metadata": {},
     "output_type": "execute_result"
    }
   ],
   "source": [
    "rating_list.shape"
   ]
  }
 ],
 "metadata": {
  "kernelspec": {
   "display_name": "tf3",
   "language": "python",
   "name": "tf3"
  },
  "language_info": {
   "codemirror_mode": {
    "name": "ipython",
    "version": 3
   },
   "file_extension": ".py",
   "mimetype": "text/x-python",
   "name": "python",
   "nbconvert_exporter": "python",
   "pygments_lexer": "ipython3",
   "version": "3.6.8"
  }
 },
 "nbformat": 4,
 "nbformat_minor": 2
}
