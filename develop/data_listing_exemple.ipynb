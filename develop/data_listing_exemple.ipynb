{
 "cells": [
  {
   "cell_type": "code",
   "execution_count": 1,
   "metadata": {},
   "outputs": [],
   "source": [
    "import numpy as np\n",
    "import os\n",
    "import re\n",
    "import random"
   ]
  },
  {
   "cell_type": "code",
   "execution_count": 2,
   "metadata": {},
   "outputs": [],
   "source": [
    "basedir = '/media/cocoan-gpu1/wani8T/data/deeppain'"
   ]
  },
  {
   "cell_type": "code",
   "execution_count": 3,
   "metadata": {},
   "outputs": [],
   "source": [
    "in_condition_1 = ['study01_bmrk3', 'study02_bmrk4', 'study03_nsf', 'study04_ie', 'study05_exp', 'study06_ilcp']\n",
    "in_condition_1 = \"|\".join(in_condition_1).lower()\n",
    "\n",
    "in_condition_2 = ['subject']\n",
    "in_condition_2 = \"|\".join(in_condition_2).lower()\n",
    "\n",
    "out_conidtion = ['nopain']\n",
    "out_conidtion = \"|\".join(out_conidtion).lower()"
   ]
  },
  {
   "cell_type": "code",
   "execution_count": 4,
   "metadata": {},
   "outputs": [],
   "source": [
    "def dir_search(basedir, in_condition_1=None, in_condition_2=None, in_condition_3=None, out_conidtion=None):\n",
    "    \n",
    "    search_dir = []\n",
    "    \n",
    "    for dirpath, dirnames, filenames in os.walk(basedir):\n",
    "        if in_condition_1:\n",
    "            in_search_1 = re.search(in_condition_1, dirpath)\n",
    "            if not in_search_1: \n",
    "                continue\n",
    "        \n",
    "        if in_condition_2:\n",
    "            in_search_2 = re.search(in_condition_2, dirpath)\n",
    "            if not in_search_2: \n",
    "                continue\n",
    "                \n",
    "        if in_condition_3:\n",
    "            in_search_3 = re.search(in_condition_3, dirpath)\n",
    "            if not in_search_3: \n",
    "                continue\n",
    "\n",
    "        if out_conidtion:\n",
    "            out_search = re.search(out_conidtion, dirpath)    \n",
    "            if out_search:\n",
    "                continue\n",
    "\n",
    "        search_dir.append(dirpath)\n",
    "        \n",
    "    search_dir.sort()\n",
    "    return search_dir"
   ]
  },
  {
   "cell_type": "code",
   "execution_count": 5,
   "metadata": {},
   "outputs": [],
   "source": [
    "def file_list(search_dir, choice_num):\n",
    "    max_len = 0\n",
    "    min_len = 0\n",
    "    full_path_list = []\n",
    "    \n",
    "    for dirpath in search_dir:\n",
    "        if max_len < len(os.listdir(dirpath)):\n",
    "            max_len = len(os.listdir(dirpath))\n",
    "\n",
    "        if min_len == 0 or min_len > len(os.listdir(dirpath)):\n",
    "            min_len = len(os.listdir(dirpath))\n",
    "\n",
    "    if choice_num > min_len:\n",
    "        raise ValueError(\"choice_num {} is larger than directory files minimum length {}\".format(choice_num, min_len))\n",
    "\n",
    "        \n",
    "    for dirpath in search_dir:\n",
    "        rand = np.random.choice(len(os.listdir(dirpath)), choice_num, replace=False) + 1\n",
    "        file_name_list = []\n",
    "        for i in range(rand.shape[0]):\n",
    "            if rand[i]<10:\n",
    "                name = 'beta000'+str(rand[i])\n",
    "            elif rand[i]<100:\n",
    "                name ='beta00'+str(rand[i])\n",
    "            elif rand[i]<1000:\n",
    "                name ='beta0'+str(rand[i])\n",
    "            else:\n",
    "                name = 'beta'+str(rand[i])\n",
    "\n",
    "            file_name = name + '.npy'\n",
    "            file_name_list.append(file_name)\n",
    "\n",
    "        for files in file_name_list:\n",
    "            full_path_list.append(os.path.join(dirpath,files))\n",
    "            \n",
    "    return full_path_list"
   ]
  },
  {
   "cell_type": "code",
   "execution_count": 6,
   "metadata": {},
   "outputs": [],
   "source": [
    "def file_dict(full_path_list):\n",
    "    file_dict = {}\n",
    "    temp_list = []\n",
    "    for i in range(len(full_path_list)):\n",
    "        split_name = full_path_list[i].split('/')\n",
    "\n",
    "        if 'subject' in split_name[-2]:\n",
    "            dic_key = split_name[-2]\n",
    "\n",
    "        try:\n",
    "            file_dict[dic_key]\n",
    "        except:\n",
    "            file_dict[dic_key] = [full_path_list[i]]\n",
    "\n",
    "        if file_dict[dic_key]:\n",
    "            file_dict[dic_key].append(full_path_list[i])\n",
    "    return file_dict"
   ]
  },
  {
   "cell_type": "code",
   "execution_count": 7,
   "metadata": {},
   "outputs": [],
   "source": [
    "search_dir = dir_search(basedir=basedir, in_condition_1=in_condition_1, \n",
    "                        in_condition_2=in_condition_2, out_conidtion=out_conidtion)"
   ]
  },
  {
   "cell_type": "code",
   "execution_count": 8,
   "metadata": {},
   "outputs": [],
   "source": [
    "full_path_list = file_list(search_dir, 10)"
   ]
  },
  {
   "cell_type": "code",
   "execution_count": 9,
   "metadata": {},
   "outputs": [],
   "source": [
    "file_dict = file_dict(full_path_list)"
   ]
  },
  {
   "cell_type": "code",
   "execution_count": 10,
   "metadata": {},
   "outputs": [
    {
     "data": {
      "text/plain": [
       "['/media/cocoan-gpu1/wani8T/data/deeppain/study01_bmrk3/subject001/beta0013.npy',\n",
       " '/media/cocoan-gpu1/wani8T/data/deeppain/study01_bmrk3/subject001/beta0013.npy',\n",
       " '/media/cocoan-gpu1/wani8T/data/deeppain/study01_bmrk3/subject001/beta0050.npy',\n",
       " '/media/cocoan-gpu1/wani8T/data/deeppain/study01_bmrk3/subject001/beta0024.npy',\n",
       " '/media/cocoan-gpu1/wani8T/data/deeppain/study01_bmrk3/subject001/beta0036.npy',\n",
       " '/media/cocoan-gpu1/wani8T/data/deeppain/study01_bmrk3/subject001/beta0054.npy',\n",
       " '/media/cocoan-gpu1/wani8T/data/deeppain/study01_bmrk3/subject001/beta0029.npy',\n",
       " '/media/cocoan-gpu1/wani8T/data/deeppain/study01_bmrk3/subject001/beta0037.npy',\n",
       " '/media/cocoan-gpu1/wani8T/data/deeppain/study01_bmrk3/subject001/beta0028.npy',\n",
       " '/media/cocoan-gpu1/wani8T/data/deeppain/study01_bmrk3/subject001/beta0040.npy',\n",
       " '/media/cocoan-gpu1/wani8T/data/deeppain/study01_bmrk3/subject001/beta0023.npy']"
      ]
     },
     "execution_count": 10,
     "metadata": {},
     "output_type": "execute_result"
    }
   ],
   "source": [
    "file_dict['subject001']"
   ]
  }
 ],
 "metadata": {
  "kernelspec": {
   "display_name": "tf3",
   "language": "python",
   "name": "tf3"
  },
  "language_info": {
   "codemirror_mode": {
    "name": "ipython",
    "version": 3
   },
   "file_extension": ".py",
   "mimetype": "text/x-python",
   "name": "python",
   "nbconvert_exporter": "python",
   "pygments_lexer": "ipython3",
   "version": "3.6.8"
  }
 },
 "nbformat": 4,
 "nbformat_minor": 2
}
