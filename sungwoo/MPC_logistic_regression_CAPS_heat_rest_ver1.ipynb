{
 "cells": [
  {
   "cell_type": "code",
   "execution_count": null,
   "metadata": {},
   "outputs": [],
   "source": [
    "import os\n",
    "import numpy as np\n",
    "import pandas as pd\n",
    "import matplotlib.pyplot as plt\n",
    "import seaborn as sns\n",
    "import nibabel as nib\n",
    "import timeit\n",
    "\n",
    "from sklearn.model_selection import train_test_split\n",
    "from sklearn.linear_model import LogisticRegression\n",
    "from sklearn.metrics import classification_report\n",
    "from sklearn.metrics import confusion_matrix\n",
    "\n",
    "from MPC_tools import *\n",
    "\n",
    "%matplotlib inline"
   ]
  },
  {
   "cell_type": "code",
   "execution_count": 2,
   "metadata": {},
   "outputs": [],
   "source": [
    "base_dir = '/home/cocoan-gpu1/Documents/Jupyter_notebook/MPC/data/CAPS'\n",
    "project_type = 'caps'\n",
    "type1 = 'caps'\n",
    "type2 = 'rest'"
   ]
  },
  {
   "cell_type": "code",
   "execution_count": 3,
   "metadata": {},
   "outputs": [],
   "source": [
    "dir_path_list, filenames_list = making_file_path(base_dir, project_type, type1, type2)"
   ]
  },
  {
   "cell_type": "code",
   "execution_count": 4,
   "metadata": {},
   "outputs": [
    {
     "name": "stdout",
     "output_type": "stream",
     "text": [
      "(3,)\n",
      "['/home/cocoan-gpu1/Documents/Jupyter_notebook/MPC/data/CAPS'\n",
      " '/home/cocoan-gpu1/Documents/Jupyter_notebook/MPC/data/CAPS/stim'\n",
      " '/home/cocoan-gpu1/Documents/Jupyter_notebook/MPC/data/CAPS/control']\n"
     ]
    }
   ],
   "source": [
    "print(dir_path_list.shape)\n",
    "print(dir_path_list)"
   ]
  },
  {
   "cell_type": "code",
   "execution_count": 13,
   "metadata": {},
   "outputs": [
    {
     "data": {
      "text/plain": [
       "array([list([]),\n",
       "       list(['wnidcrsub-caps002_task-CAPS_run-04_bold.nii', 'wnidcrsub-caps001_task-CAPS_run-01_bold.nii', 'wnidcrsub-caps003_task-CAPS_run-03_bold.nii']),\n",
       "       list(['wnidcrsub-caps003_task-REST_run-01_bold.nii', 'wnidcrsub-caps002_task-REST_run-02_bold.nii', 'wnidcrsub-caps001_task-REST_run-03_bold.nii'])],\n",
       "      dtype=object)"
      ]
     },
     "execution_count": 13,
     "metadata": {},
     "output_type": "execute_result"
    }
   ],
   "source": [
    "filenames_list"
   ]
  },
  {
   "cell_type": "code",
   "execution_count": 10,
   "metadata": {},
   "outputs": [],
   "source": [
    "full_path_list = making_full_path_list(dir_path_list, filenames_list)"
   ]
  },
  {
   "cell_type": "code",
   "execution_count": 14,
   "metadata": {},
   "outputs": [
    {
     "data": {
      "text/plain": [
       "'/home/cocoan-gpu1/Documents/Jupyter_notebook/MPC/data/CAPS/stim/wnidcrsub-caps002_task-CAPS_run-04_bold.nii'"
      ]
     },
     "execution_count": 14,
     "metadata": {},
     "output_type": "execute_result"
    }
   ],
   "source": [
    "full_path_list[1][0]"
   ]
  },
  {
   "cell_type": "code",
   "execution_count": 15,
   "metadata": {},
   "outputs": [],
   "source": [
    "load_index = [1,2]"
   ]
  },
  {
   "cell_type": "code",
   "execution_count": null,
   "metadata": {},
   "outputs": [],
   "source": [
    "np.ara"
   ]
  },
  {
   "cell_type": "code",
   "execution_count": null,
   "metadata": {},
   "outputs": [],
   "source": [
    "data_num = [0]"
   ]
  },
  {
   "cell_type": "code",
   "execution_count": null,
   "metadata": {},
   "outputs": [
    {
     "name": "stdout",
     "output_type": "stream",
     "text": [
      "***  Finished Loading 1th Nii File In /home/cocoan-gpu1/Documents/Jupyter_notebook/MPC/data/CAPS/stim  ***\n",
      "\n",
      "\n",
      "##########################################\n",
      "###  Duration Time  : 17.767195287000504  ###\n",
      "###  Excecuted Time : 2019-04-10 12:42:37.118585  ###\n",
      "##########################################\n",
      "\n",
      "\n",
      "***  Finished Loading 1th Nii File In /home/cocoan-gpu1/Documents/Jupyter_notebook/MPC/data/CAPS/control  ***\n",
      "\n",
      "\n",
      "##########################################\n",
      "###  Duration Time  : 41.69594233200041  ###\n",
      "###  Excecuted Time : 2019-04-10 12:43:01.047332  ###\n",
      "##########################################\n",
      "\n",
      "\n"
     ]
    }
   ],
   "source": [
    "X, Y = load_nii(project_type,load_index, full_path_list, 1)"
   ]
  },
  {
   "cell_type": "code",
   "execution_count": null,
   "metadata": {},
   "outputs": [],
   "source": [
    "X = flatten_nii(X)"
   ]
  },
  {
   "cell_type": "code",
   "execution_count": null,
   "metadata": {},
   "outputs": [],
   "source": [
    "y = pd.DataFrame(data=Y, dtype=np.float32)"
   ]
  },
  {
   "cell_type": "markdown",
   "metadata": {},
   "source": [
    "# Logistic Regression Model"
   ]
  },
  {
   "cell_type": "code",
   "execution_count": null,
   "metadata": {},
   "outputs": [],
   "source": [
    "X_train, X_test, y_train, y_test = train_test_split(X, y, test_size=0.3, random_state=101)"
   ]
  },
  {
   "cell_type": "code",
   "execution_count": null,
   "metadata": {},
   "outputs": [],
   "source": [
    "logmodel = LogisticRegression()\n",
    "logmodel.fit(X_train,y_train)\n",
    "predictions = logmodel.predict(X_test)\n",
    "print(classification_report(y_test, predictions))"
   ]
  },
  {
   "cell_type": "code",
   "execution_count": null,
   "metadata": {},
   "outputs": [],
   "source": [
    "conf_mat = confusion_matrix(y_test, predictions)\n",
    "print(conf_mat)\n",
    "acc = (conf_mat[0,0]+conf_mat[1,1])/conf_mat.sum()\n",
    "print(acc)"
   ]
  },
  {
   "cell_type": "markdown",
   "metadata": {},
   "source": [
    "# Load new data"
   ]
  },
  {
   "cell_type": "code",
   "execution_count": null,
   "metadata": {},
   "outputs": [],
   "source": [
    "load_new_index=[55,56,57,58,114,115,116,117]\n",
    "new_X, new_Y = load_nii(load_new_index, full_path_list, 50)\n",
    "new_X = flatten_nii(new_X)"
   ]
  },
  {
   "cell_type": "code",
   "execution_count": null,
   "metadata": {},
   "outputs": [],
   "source": [
    "new_Y = pd.DataFrame(data=new_Y, dtype=np.float32)"
   ]
  },
  {
   "cell_type": "code",
   "execution_count": null,
   "metadata": {},
   "outputs": [],
   "source": [
    "predictions_new = logmodel.predict(new_X)\n",
    "print(classification_report(y_new, predictions_new))"
   ]
  },
  {
   "cell_type": "code",
   "execution_count": null,
   "metadata": {},
   "outputs": [],
   "source": [
    "conf_mat_new = confusion_matrix(y_new, predictions_new)\n",
    "print(conf_mat_new)"
   ]
  },
  {
   "cell_type": "code",
   "execution_count": null,
   "metadata": {},
   "outputs": [],
   "source": [
    "acc_new = (conf_mat_new[0,0]+conf_mat_new[1,1])/conf_mat_new.sum()\n",
    "print(acc_new)"
   ]
  }
 ],
 "metadata": {
  "kernelspec": {
   "display_name": "tf3",
   "language": "python",
   "name": "tf3"
  },
  "language_info": {
   "codemirror_mode": {
    "name": "ipython",
    "version": 3
   },
   "file_extension": ".py",
   "mimetype": "text/x-python",
   "name": "python",
   "nbconvert_exporter": "python",
   "pygments_lexer": "ipython3",
   "version": "3.6.8"
  }
 },
 "nbformat": 4,
 "nbformat_minor": 2
}
