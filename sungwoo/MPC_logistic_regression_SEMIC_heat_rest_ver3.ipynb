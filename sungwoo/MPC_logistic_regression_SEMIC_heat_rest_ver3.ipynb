{
 "cells": [
  {
   "cell_type": "code",
   "execution_count": 1,
   "metadata": {},
   "outputs": [],
   "source": [
    "import os\n",
    "import numpy as np\n",
    "import pandas as pd\n",
    "import matplotlib.pyplot as plt\n",
    "import seaborn as sns\n",
    "import nibabel as nib\n",
    "import timeit\n",
    "\n",
    "from sklearn.model_selection import train_test_split\n",
    "from sklearn.linear_model import LogisticRegression\n",
    "from sklearn.metrics import classification_report\n",
    "from sklearn.metrics import confusion_matrix\n",
    "\n",
    "from MPC_tools import *\n",
    "\n",
    "%matplotlib inline"
   ]
  },
  {
   "cell_type": "code",
   "execution_count": 2,
   "metadata": {},
   "outputs": [],
   "source": [
    "base_dir = '/media/cocoan-gpu1/wani_8T/data/SEMIC'"
   ]
  },
  {
   "cell_type": "code",
   "execution_count": 3,
   "metadata": {},
   "outputs": [],
   "source": [
    "dir_path_list, filenames_list = making_file_path(base_dir)"
   ]
  },
  {
   "cell_type": "code",
   "execution_count": 4,
   "metadata": {},
   "outputs": [
    {
     "name": "stdout",
     "output_type": "stream",
     "text": [
      "(118,)\n",
      "['/media/cocoan-gpu1/wani_8T/data/SEMIC/model02_FIR_SPM_SINGLE_TRIAL/sub-semic001'\n",
      " '/media/cocoan-gpu1/wani_8T/data/SEMIC/model02_FIR_SPM_SINGLE_TRIAL/sub-semic002'\n",
      " '/media/cocoan-gpu1/wani_8T/data/SEMIC/model02_FIR_SPM_SINGLE_TRIAL/sub-semic003'\n",
      " '/media/cocoan-gpu1/wani_8T/data/SEMIC/model02_FIR_SPM_SINGLE_TRIAL/sub-semic004'\n",
      " '/media/cocoan-gpu1/wani_8T/data/SEMIC/model02_FIR_SPM_SINGLE_TRIAL/sub-semic005'\n",
      " '/media/cocoan-gpu1/wani_8T/data/SEMIC/model02_FIR_SPM_SINGLE_TRIAL/sub-semic006'\n",
      " '/media/cocoan-gpu1/wani_8T/data/SEMIC/model02_FIR_SPM_SINGLE_TRIAL/sub-semic007'\n",
      " '/media/cocoan-gpu1/wani_8T/data/SEMIC/model02_FIR_SPM_SINGLE_TRIAL/sub-semic008'\n",
      " '/media/cocoan-gpu1/wani_8T/data/SEMIC/model02_FIR_SPM_SINGLE_TRIAL/sub-semic009'\n",
      " '/media/cocoan-gpu1/wani_8T/data/SEMIC/model02_FIR_SPM_SINGLE_TRIAL/sub-semic010'\n",
      " '/media/cocoan-gpu1/wani_8T/data/SEMIC/model02_FIR_SPM_SINGLE_TRIAL/sub-semic011'\n",
      " '/media/cocoan-gpu1/wani_8T/data/SEMIC/model02_FIR_SPM_SINGLE_TRIAL/sub-semic012'\n",
      " '/media/cocoan-gpu1/wani_8T/data/SEMIC/model02_FIR_SPM_SINGLE_TRIAL/sub-semic013'\n",
      " '/media/cocoan-gpu1/wani_8T/data/SEMIC/model02_FIR_SPM_SINGLE_TRIAL/sub-semic014'\n",
      " '/media/cocoan-gpu1/wani_8T/data/SEMIC/model02_FIR_SPM_SINGLE_TRIAL/sub-semic015'\n",
      " '/media/cocoan-gpu1/wani_8T/data/SEMIC/model02_FIR_SPM_SINGLE_TRIAL/sub-semic016'\n",
      " '/media/cocoan-gpu1/wani_8T/data/SEMIC/model02_FIR_SPM_SINGLE_TRIAL/sub-semic017'\n",
      " '/media/cocoan-gpu1/wani_8T/data/SEMIC/model02_FIR_SPM_SINGLE_TRIAL/sub-semic018'\n",
      " '/media/cocoan-gpu1/wani_8T/data/SEMIC/model02_FIR_SPM_SINGLE_TRIAL/sub-semic019'\n",
      " '/media/cocoan-gpu1/wani_8T/data/SEMIC/model02_FIR_SPM_SINGLE_TRIAL/sub-semic020'\n",
      " '/media/cocoan-gpu1/wani_8T/data/SEMIC/model02_FIR_SPM_SINGLE_TRIAL/sub-semic021'\n",
      " '/media/cocoan-gpu1/wani_8T/data/SEMIC/model02_FIR_SPM_SINGLE_TRIAL/sub-semic022'\n",
      " '/media/cocoan-gpu1/wani_8T/data/SEMIC/model02_FIR_SPM_SINGLE_TRIAL/sub-semic023'\n",
      " '/media/cocoan-gpu1/wani_8T/data/SEMIC/model02_FIR_SPM_SINGLE_TRIAL/sub-semic024'\n",
      " '/media/cocoan-gpu1/wani_8T/data/SEMIC/model02_FIR_SPM_SINGLE_TRIAL/sub-semic025'\n",
      " '/media/cocoan-gpu1/wani_8T/data/SEMIC/model02_FIR_SPM_SINGLE_TRIAL/sub-semic026'\n",
      " '/media/cocoan-gpu1/wani_8T/data/SEMIC/model02_FIR_SPM_SINGLE_TRIAL/sub-semic027'\n",
      " '/media/cocoan-gpu1/wani_8T/data/SEMIC/model02_FIR_SPM_SINGLE_TRIAL/sub-semic028'\n",
      " '/media/cocoan-gpu1/wani_8T/data/SEMIC/model02_FIR_SPM_SINGLE_TRIAL/sub-semic029'\n",
      " '/media/cocoan-gpu1/wani_8T/data/SEMIC/model02_FIR_SPM_SINGLE_TRIAL/sub-semic030'\n",
      " '/media/cocoan-gpu1/wani_8T/data/SEMIC/model02_FIR_SPM_SINGLE_TRIAL/sub-semic031'\n",
      " '/media/cocoan-gpu1/wani_8T/data/SEMIC/model02_FIR_SPM_SINGLE_TRIAL/sub-semic032'\n",
      " '/media/cocoan-gpu1/wani_8T/data/SEMIC/model02_FIR_SPM_SINGLE_TRIAL/sub-semic033'\n",
      " '/media/cocoan-gpu1/wani_8T/data/SEMIC/model02_FIR_SPM_SINGLE_TRIAL/sub-semic034'\n",
      " '/media/cocoan-gpu1/wani_8T/data/SEMIC/model02_FIR_SPM_SINGLE_TRIAL/sub-semic035'\n",
      " '/media/cocoan-gpu1/wani_8T/data/SEMIC/model02_FIR_SPM_SINGLE_TRIAL/sub-semic036'\n",
      " '/media/cocoan-gpu1/wani_8T/data/SEMIC/model02_FIR_SPM_SINGLE_TRIAL/sub-semic037'\n",
      " '/media/cocoan-gpu1/wani_8T/data/SEMIC/model02_FIR_SPM_SINGLE_TRIAL/sub-semic038'\n",
      " '/media/cocoan-gpu1/wani_8T/data/SEMIC/model02_FIR_SPM_SINGLE_TRIAL/sub-semic039'\n",
      " '/media/cocoan-gpu1/wani_8T/data/SEMIC/model02_FIR_SPM_SINGLE_TRIAL/sub-semic040'\n",
      " '/media/cocoan-gpu1/wani_8T/data/SEMIC/model02_FIR_SPM_SINGLE_TRIAL/sub-semic041'\n",
      " '/media/cocoan-gpu1/wani_8T/data/SEMIC/model02_FIR_SPM_SINGLE_TRIAL/sub-semic042'\n",
      " '/media/cocoan-gpu1/wani_8T/data/SEMIC/model02_FIR_SPM_SINGLE_TRIAL/sub-semic043'\n",
      " '/media/cocoan-gpu1/wani_8T/data/SEMIC/model02_FIR_SPM_SINGLE_TRIAL/sub-semic044'\n",
      " '/media/cocoan-gpu1/wani_8T/data/SEMIC/model02_FIR_SPM_SINGLE_TRIAL/sub-semic045'\n",
      " '/media/cocoan-gpu1/wani_8T/data/SEMIC/model02_FIR_SPM_SINGLE_TRIAL/sub-semic046'\n",
      " '/media/cocoan-gpu1/wani_8T/data/SEMIC/model02_FIR_SPM_SINGLE_TRIAL/sub-semic047'\n",
      " '/media/cocoan-gpu1/wani_8T/data/SEMIC/model02_FIR_SPM_SINGLE_TRIAL/sub-semic048'\n",
      " '/media/cocoan-gpu1/wani_8T/data/SEMIC/model02_FIR_SPM_SINGLE_TRIAL/sub-semic049'\n",
      " '/media/cocoan-gpu1/wani_8T/data/SEMIC/model02_FIR_SPM_SINGLE_TRIAL/sub-semic050'\n",
      " '/media/cocoan-gpu1/wani_8T/data/SEMIC/model02_FIR_SPM_SINGLE_TRIAL/sub-semic051'\n",
      " '/media/cocoan-gpu1/wani_8T/data/SEMIC/model02_FIR_SPM_SINGLE_TRIAL/sub-semic052'\n",
      " '/media/cocoan-gpu1/wani_8T/data/SEMIC/model02_FIR_SPM_SINGLE_TRIAL/sub-semic053'\n",
      " '/media/cocoan-gpu1/wani_8T/data/SEMIC/model02_FIR_SPM_SINGLE_TRIAL/sub-semic054'\n",
      " '/media/cocoan-gpu1/wani_8T/data/SEMIC/model02_FIR_SPM_SINGLE_TRIAL/sub-semic055'\n",
      " '/media/cocoan-gpu1/wani_8T/data/SEMIC/model02_FIR_SPM_SINGLE_TRIAL/sub-semic056'\n",
      " '/media/cocoan-gpu1/wani_8T/data/SEMIC/model02_FIR_SPM_SINGLE_TRIAL/sub-semic057'\n",
      " '/media/cocoan-gpu1/wani_8T/data/SEMIC/model02_FIR_SPM_SINGLE_TRIAL/sub-semic058'\n",
      " '/media/cocoan-gpu1/wani_8T/data/SEMIC/model02_FIR_SPM_SINGLE_TRIAL/sub-semic059'\n",
      " '/media/cocoan-gpu1/wani_8T/data/SEMIC/model02_Overall_FIR_SPM_SINGLE_TRIAL/sub-semic001'\n",
      " '/media/cocoan-gpu1/wani_8T/data/SEMIC/model02_Overall_FIR_SPM_SINGLE_TRIAL/sub-semic002'\n",
      " '/media/cocoan-gpu1/wani_8T/data/SEMIC/model02_Overall_FIR_SPM_SINGLE_TRIAL/sub-semic003'\n",
      " '/media/cocoan-gpu1/wani_8T/data/SEMIC/model02_Overall_FIR_SPM_SINGLE_TRIAL/sub-semic004'\n",
      " '/media/cocoan-gpu1/wani_8T/data/SEMIC/model02_Overall_FIR_SPM_SINGLE_TRIAL/sub-semic005'\n",
      " '/media/cocoan-gpu1/wani_8T/data/SEMIC/model02_Overall_FIR_SPM_SINGLE_TRIAL/sub-semic006'\n",
      " '/media/cocoan-gpu1/wani_8T/data/SEMIC/model02_Overall_FIR_SPM_SINGLE_TRIAL/sub-semic007'\n",
      " '/media/cocoan-gpu1/wani_8T/data/SEMIC/model02_Overall_FIR_SPM_SINGLE_TRIAL/sub-semic008'\n",
      " '/media/cocoan-gpu1/wani_8T/data/SEMIC/model02_Overall_FIR_SPM_SINGLE_TRIAL/sub-semic009'\n",
      " '/media/cocoan-gpu1/wani_8T/data/SEMIC/model02_Overall_FIR_SPM_SINGLE_TRIAL/sub-semic010'\n",
      " '/media/cocoan-gpu1/wani_8T/data/SEMIC/model02_Overall_FIR_SPM_SINGLE_TRIAL/sub-semic011'\n",
      " '/media/cocoan-gpu1/wani_8T/data/SEMIC/model02_Overall_FIR_SPM_SINGLE_TRIAL/sub-semic012'\n",
      " '/media/cocoan-gpu1/wani_8T/data/SEMIC/model02_Overall_FIR_SPM_SINGLE_TRIAL/sub-semic013'\n",
      " '/media/cocoan-gpu1/wani_8T/data/SEMIC/model02_Overall_FIR_SPM_SINGLE_TRIAL/sub-semic014'\n",
      " '/media/cocoan-gpu1/wani_8T/data/SEMIC/model02_Overall_FIR_SPM_SINGLE_TRIAL/sub-semic015'\n",
      " '/media/cocoan-gpu1/wani_8T/data/SEMIC/model02_Overall_FIR_SPM_SINGLE_TRIAL/sub-semic016'\n",
      " '/media/cocoan-gpu1/wani_8T/data/SEMIC/model02_Overall_FIR_SPM_SINGLE_TRIAL/sub-semic017'\n",
      " '/media/cocoan-gpu1/wani_8T/data/SEMIC/model02_Overall_FIR_SPM_SINGLE_TRIAL/sub-semic018'\n",
      " '/media/cocoan-gpu1/wani_8T/data/SEMIC/model02_Overall_FIR_SPM_SINGLE_TRIAL/sub-semic019'\n",
      " '/media/cocoan-gpu1/wani_8T/data/SEMIC/model02_Overall_FIR_SPM_SINGLE_TRIAL/sub-semic020'\n",
      " '/media/cocoan-gpu1/wani_8T/data/SEMIC/model02_Overall_FIR_SPM_SINGLE_TRIAL/sub-semic021'\n",
      " '/media/cocoan-gpu1/wani_8T/data/SEMIC/model02_Overall_FIR_SPM_SINGLE_TRIAL/sub-semic022'\n",
      " '/media/cocoan-gpu1/wani_8T/data/SEMIC/model02_Overall_FIR_SPM_SINGLE_TRIAL/sub-semic023'\n",
      " '/media/cocoan-gpu1/wani_8T/data/SEMIC/model02_Overall_FIR_SPM_SINGLE_TRIAL/sub-semic024'\n",
      " '/media/cocoan-gpu1/wani_8T/data/SEMIC/model02_Overall_FIR_SPM_SINGLE_TRIAL/sub-semic025'\n",
      " '/media/cocoan-gpu1/wani_8T/data/SEMIC/model02_Overall_FIR_SPM_SINGLE_TRIAL/sub-semic026'\n",
      " '/media/cocoan-gpu1/wani_8T/data/SEMIC/model02_Overall_FIR_SPM_SINGLE_TRIAL/sub-semic027'\n",
      " '/media/cocoan-gpu1/wani_8T/data/SEMIC/model02_Overall_FIR_SPM_SINGLE_TRIAL/sub-semic028'\n",
      " '/media/cocoan-gpu1/wani_8T/data/SEMIC/model02_Overall_FIR_SPM_SINGLE_TRIAL/sub-semic029'\n",
      " '/media/cocoan-gpu1/wani_8T/data/SEMIC/model02_Overall_FIR_SPM_SINGLE_TRIAL/sub-semic030'\n",
      " '/media/cocoan-gpu1/wani_8T/data/SEMIC/model02_Overall_FIR_SPM_SINGLE_TRIAL/sub-semic031'\n",
      " '/media/cocoan-gpu1/wani_8T/data/SEMIC/model02_Overall_FIR_SPM_SINGLE_TRIAL/sub-semic032'\n",
      " '/media/cocoan-gpu1/wani_8T/data/SEMIC/model02_Overall_FIR_SPM_SINGLE_TRIAL/sub-semic033'\n",
      " '/media/cocoan-gpu1/wani_8T/data/SEMIC/model02_Overall_FIR_SPM_SINGLE_TRIAL/sub-semic034'\n",
      " '/media/cocoan-gpu1/wani_8T/data/SEMIC/model02_Overall_FIR_SPM_SINGLE_TRIAL/sub-semic035'\n",
      " '/media/cocoan-gpu1/wani_8T/data/SEMIC/model02_Overall_FIR_SPM_SINGLE_TRIAL/sub-semic036'\n",
      " '/media/cocoan-gpu1/wani_8T/data/SEMIC/model02_Overall_FIR_SPM_SINGLE_TRIAL/sub-semic037'\n",
      " '/media/cocoan-gpu1/wani_8T/data/SEMIC/model02_Overall_FIR_SPM_SINGLE_TRIAL/sub-semic038'\n",
      " '/media/cocoan-gpu1/wani_8T/data/SEMIC/model02_Overall_FIR_SPM_SINGLE_TRIAL/sub-semic039'\n",
      " '/media/cocoan-gpu1/wani_8T/data/SEMIC/model02_Overall_FIR_SPM_SINGLE_TRIAL/sub-semic040'\n",
      " '/media/cocoan-gpu1/wani_8T/data/SEMIC/model02_Overall_FIR_SPM_SINGLE_TRIAL/sub-semic041'\n",
      " '/media/cocoan-gpu1/wani_8T/data/SEMIC/model02_Overall_FIR_SPM_SINGLE_TRIAL/sub-semic042'\n",
      " '/media/cocoan-gpu1/wani_8T/data/SEMIC/model02_Overall_FIR_SPM_SINGLE_TRIAL/sub-semic043'\n",
      " '/media/cocoan-gpu1/wani_8T/data/SEMIC/model02_Overall_FIR_SPM_SINGLE_TRIAL/sub-semic044'\n",
      " '/media/cocoan-gpu1/wani_8T/data/SEMIC/model02_Overall_FIR_SPM_SINGLE_TRIAL/sub-semic045'\n",
      " '/media/cocoan-gpu1/wani_8T/data/SEMIC/model02_Overall_FIR_SPM_SINGLE_TRIAL/sub-semic046'\n",
      " '/media/cocoan-gpu1/wani_8T/data/SEMIC/model02_Overall_FIR_SPM_SINGLE_TRIAL/sub-semic047'\n",
      " '/media/cocoan-gpu1/wani_8T/data/SEMIC/model02_Overall_FIR_SPM_SINGLE_TRIAL/sub-semic048'\n",
      " '/media/cocoan-gpu1/wani_8T/data/SEMIC/model02_Overall_FIR_SPM_SINGLE_TRIAL/sub-semic049'\n",
      " '/media/cocoan-gpu1/wani_8T/data/SEMIC/model02_Overall_FIR_SPM_SINGLE_TRIAL/sub-semic050'\n",
      " '/media/cocoan-gpu1/wani_8T/data/SEMIC/model02_Overall_FIR_SPM_SINGLE_TRIAL/sub-semic051'\n",
      " '/media/cocoan-gpu1/wani_8T/data/SEMIC/model02_Overall_FIR_SPM_SINGLE_TRIAL/sub-semic052'\n",
      " '/media/cocoan-gpu1/wani_8T/data/SEMIC/model02_Overall_FIR_SPM_SINGLE_TRIAL/sub-semic053'\n",
      " '/media/cocoan-gpu1/wani_8T/data/SEMIC/model02_Overall_FIR_SPM_SINGLE_TRIAL/sub-semic054'\n",
      " '/media/cocoan-gpu1/wani_8T/data/SEMIC/model02_Overall_FIR_SPM_SINGLE_TRIAL/sub-semic055'\n",
      " '/media/cocoan-gpu1/wani_8T/data/SEMIC/model02_Overall_FIR_SPM_SINGLE_TRIAL/sub-semic056'\n",
      " '/media/cocoan-gpu1/wani_8T/data/SEMIC/model02_Overall_FIR_SPM_SINGLE_TRIAL/sub-semic057'\n",
      " '/media/cocoan-gpu1/wani_8T/data/SEMIC/model02_Overall_FIR_SPM_SINGLE_TRIAL/sub-semic058'\n",
      " '/media/cocoan-gpu1/wani_8T/data/SEMIC/model02_Overall_FIR_SPM_SINGLE_TRIAL/sub-semic059']\n"
     ]
    }
   ],
   "source": [
    "print(dir_path_list.shape)\n",
    "print(dir_path_list)"
   ]
  },
  {
   "cell_type": "code",
   "execution_count": 5,
   "metadata": {},
   "outputs": [
    {
     "name": "stdout",
     "output_type": "stream",
     "text": [
      "2271\n"
     ]
    }
   ],
   "source": [
    "print(len(filenames_list[59]))"
   ]
  },
  {
   "cell_type": "code",
   "execution_count": 6,
   "metadata": {},
   "outputs": [],
   "source": [
    "full_path_list = making_full_path_list(dir_path_list, filenames_list)"
   ]
  },
  {
   "cell_type": "code",
   "execution_count": 7,
   "metadata": {},
   "outputs": [
    {
     "name": "stdout",
     "output_type": "stream",
     "text": [
      "6051\n"
     ]
    }
   ],
   "source": [
    "print(len(full_path_list[10]))"
   ]
  },
  {
   "cell_type": "code",
   "execution_count": 8,
   "metadata": {},
   "outputs": [
    {
     "data": {
      "text/plain": [
       "array([  0,   1,   2,   3,   4,   5,   6,   7,   8,   9,  10,  11,  12,\n",
       "        13,  14,  15,  16,  17,  18,  19,  20,  21,  22,  23,  24,  25,\n",
       "        26,  27,  28,  29,  30,  31,  32,  33,  34,  35,  36,  37,  38,\n",
       "        39,  40,  41,  42,  43,  44,  45,  46,  47,  48,  49,  50,  51,\n",
       "        52,  53,  54,  55,  56,  57,  58,  59,  60,  61,  62,  63,  64,\n",
       "        65,  66,  67,  68,  69,  70,  71,  72,  73,  74,  75,  76,  77,\n",
       "        78,  79,  80,  81,  82,  83,  84,  85,  86,  87,  88,  89,  90,\n",
       "        91,  92,  93,  94,  95,  96,  97,  98,  99, 100, 101, 102, 103,\n",
       "       104, 105, 106, 107, 108, 109, 110, 111, 112, 113, 114, 115, 116,\n",
       "       117])"
      ]
     },
     "execution_count": 8,
     "metadata": {},
     "output_type": "execute_result"
    }
   ],
   "source": [
    "total_index = np.arange(0,118)\n",
    "total_index"
   ]
  },
  {
   "cell_type": "code",
   "execution_count": 9,
   "metadata": {},
   "outputs": [
    {
     "data": {
      "text/plain": [
       "array([  0,   1,   2,   3,   4,   5,   6,   7,   8,   9,  10,  11,  12,\n",
       "        13,  14,  15,  16,  17,  18,  19,  20,  21,  22,  23,  24,  25,\n",
       "        26,  27,  28,  29,  30,  31,  32,  33,  34,  35,  36,  37,  38,\n",
       "        39,  40,  41,  42,  43,  44,  45,  46,  47,  48,  49,  50,  51,\n",
       "        52,  53,  54,  59,  60,  61,  62,  63,  64,  65,  66,  67,  68,\n",
       "        69,  70,  71,  72,  73,  74,  75,  76,  77,  78,  79,  80,  81,\n",
       "        82,  83,  84,  85,  86,  87,  88,  89,  90,  91,  92,  93,  94,\n",
       "        95,  96,  97,  98,  99, 100, 101, 102, 103, 104, 105, 106, 107,\n",
       "       108, 109, 110, 111, 112, 113])"
      ]
     },
     "execution_count": 9,
     "metadata": {},
     "output_type": "execute_result"
    }
   ],
   "source": [
    "load_index = np.delete(total_index, [55,56,57,58,114,115,116,117])\n",
    "load_index"
   ]
  },
  {
   "cell_type": "code",
   "execution_count": null,
   "metadata": {},
   "outputs": [
    {
     "name": "stdout",
     "output_type": "stream",
     "text": [
      "***  Finished Loading 1th Nii File In /media/cocoan-gpu1/wani_8T/data/SEMIC/model02_FIR_SPM_SINGLE_TRIAL/sub-semic001  ***\n",
      "\n",
      "\n",
      "##########################################\n",
      "###  Excecuted Time : 2.027630318996671  ###\n",
      "##########################################\n",
      "\n",
      "\n",
      "***  Finished Loading 1th Nii File In /media/cocoan-gpu1/wani_8T/data/SEMIC/model02_FIR_SPM_SINGLE_TRIAL/sub-semic002  ***\n",
      "\n",
      "\n",
      "##########################################\n",
      "###  Excecuted Time : 4.875505666997924  ###\n",
      "##########################################\n",
      "\n",
      "\n",
      "***  Finished Loading 1th Nii File In /media/cocoan-gpu1/wani_8T/data/SEMIC/model02_FIR_SPM_SINGLE_TRIAL/sub-semic003  ***\n",
      "\n",
      "\n",
      "##########################################\n",
      "###  Excecuted Time : 9.547852561001491  ###\n",
      "##########################################\n",
      "\n",
      "\n",
      "***  Finished Loading 1th Nii File In /media/cocoan-gpu1/wani_8T/data/SEMIC/model02_FIR_SPM_SINGLE_TRIAL/sub-semic004  ***\n",
      "\n",
      "\n",
      "##########################################\n",
      "###  Excecuted Time : 16.076888306997716  ###\n",
      "##########################################\n",
      "\n",
      "\n",
      "***  Finished Loading 1th Nii File In /media/cocoan-gpu1/wani_8T/data/SEMIC/model02_FIR_SPM_SINGLE_TRIAL/sub-semic005  ***\n",
      "\n",
      "\n",
      "##########################################\n",
      "###  Excecuted Time : 24.440702487001545  ###\n",
      "##########################################\n",
      "\n",
      "\n",
      "***  Finished Loading 1th Nii File In /media/cocoan-gpu1/wani_8T/data/SEMIC/model02_FIR_SPM_SINGLE_TRIAL/sub-semic006  ***\n",
      "\n",
      "\n",
      "##########################################\n",
      "###  Excecuted Time : 34.606927884997276  ###\n",
      "##########################################\n",
      "\n",
      "\n",
      "***  Finished Loading 1th Nii File In /media/cocoan-gpu1/wani_8T/data/SEMIC/model02_FIR_SPM_SINGLE_TRIAL/sub-semic007  ***\n",
      "\n",
      "\n",
      "##########################################\n",
      "###  Excecuted Time : 46.5971180580018  ###\n",
      "##########################################\n",
      "\n",
      "\n",
      "***  Finished Loading 1th Nii File In /media/cocoan-gpu1/wani_8T/data/SEMIC/model02_FIR_SPM_SINGLE_TRIAL/sub-semic008  ***\n",
      "\n",
      "\n",
      "##########################################\n",
      "###  Excecuted Time : 62.70886425700155  ###\n",
      "##########################################\n",
      "\n",
      "\n",
      "***  Finished Loading 1th Nii File In /media/cocoan-gpu1/wani_8T/data/SEMIC/model02_FIR_SPM_SINGLE_TRIAL/sub-semic009  ***\n",
      "\n",
      "\n",
      "##########################################\n",
      "###  Excecuted Time : 80.7143974119972  ###\n",
      "##########################################\n",
      "\n",
      "\n",
      "***  Finished Loading 1th Nii File In /media/cocoan-gpu1/wani_8T/data/SEMIC/model02_FIR_SPM_SINGLE_TRIAL/sub-semic010  ***\n",
      "\n",
      "\n",
      "##########################################\n",
      "###  Excecuted Time : 100.46072842300055  ###\n",
      "##########################################\n",
      "\n",
      "\n",
      "***  Finished Loading 1th Nii File In /media/cocoan-gpu1/wani_8T/data/SEMIC/model02_FIR_SPM_SINGLE_TRIAL/sub-semic011  ***\n",
      "\n",
      "\n",
      "##########################################\n",
      "###  Excecuted Time : 122.21673299199756  ###\n",
      "##########################################\n",
      "\n",
      "\n",
      "***  Finished Loading 1th Nii File In /media/cocoan-gpu1/wani_8T/data/SEMIC/model02_FIR_SPM_SINGLE_TRIAL/sub-semic012  ***\n",
      "\n",
      "\n",
      "##########################################\n",
      "###  Excecuted Time : 145.9962948129978  ###\n",
      "##########################################\n",
      "\n",
      "\n",
      "***  Finished Loading 1th Nii File In /media/cocoan-gpu1/wani_8T/data/SEMIC/model02_FIR_SPM_SINGLE_TRIAL/sub-semic013  ***\n",
      "\n",
      "\n",
      "##########################################\n",
      "###  Excecuted Time : 171.97254939699633  ###\n",
      "##########################################\n",
      "\n",
      "\n",
      "***  Finished Loading 1th Nii File In /media/cocoan-gpu1/wani_8T/data/SEMIC/model02_FIR_SPM_SINGLE_TRIAL/sub-semic014  ***\n",
      "\n",
      "\n",
      "##########################################\n",
      "###  Excecuted Time : 200.17159087600157  ###\n",
      "##########################################\n",
      "\n",
      "\n",
      "***  Finished Loading 1th Nii File In /media/cocoan-gpu1/wani_8T/data/SEMIC/model02_FIR_SPM_SINGLE_TRIAL/sub-semic015  ***\n",
      "\n",
      "\n",
      "##########################################\n",
      "###  Excecuted Time : 230.1866014210027  ###\n",
      "##########################################\n",
      "\n",
      "\n",
      "***  Finished Loading 1th Nii File In /media/cocoan-gpu1/wani_8T/data/SEMIC/model02_FIR_SPM_SINGLE_TRIAL/sub-semic016  ***\n",
      "\n",
      "\n",
      "##########################################\n",
      "###  Excecuted Time : 261.764984595  ###\n",
      "##########################################\n",
      "\n",
      "\n",
      "***  Finished Loading 1th Nii File In /media/cocoan-gpu1/wani_8T/data/SEMIC/model02_FIR_SPM_SINGLE_TRIAL/sub-semic017  ***\n"
     ]
    }
   ],
   "source": [
    "X, Y = load_nii(load_index, full_path_list, 50)"
   ]
  },
  {
   "cell_type": "code",
   "execution_count": 19,
   "metadata": {},
   "outputs": [
    {
     "name": "stdout",
     "output_type": "stream",
     "text": [
      "***  Finished Flatten 1th Data  ***\n",
      "###  Excecuted Time : 0.002350657006900292  ###\n",
      "\n",
      "\n",
      "***  Finished Flatten 101th Data  ***\n",
      "###  Excecuted Time : 4.3276903750011115  ###\n",
      "\n",
      "\n",
      "***  Finished Flatten 201th Data  ***\n",
      "###  Excecuted Time : 17.153620166005567  ###\n",
      "\n",
      "\n",
      "(300, 592895)\n"
     ]
    }
   ],
   "source": [
    "X = flatten_nii(X)"
   ]
  },
  {
   "cell_type": "code",
   "execution_count": null,
   "metadata": {},
   "outputs": [],
   "source": [
    "y = pd.DataFrame(data=Y, dtype=np.float32)"
   ]
  },
  {
   "cell_type": "markdown",
   "metadata": {},
   "source": [
    "# Logistic Regression Model"
   ]
  },
  {
   "cell_type": "code",
   "execution_count": null,
   "metadata": {},
   "outputs": [],
   "source": [
    "X_train, X_test, y_train, y_test = train_test_split(X, y, test_size=0.3, random_state=101)"
   ]
  },
  {
   "cell_type": "code",
   "execution_count": null,
   "metadata": {},
   "outputs": [],
   "source": [
    "logmodel = LogisticRegression()\n",
    "logmodel.fit(X_train,y_train)\n",
    "predictions = logmodel.predict(X_test)\n",
    "print(classification_report(y_test, predictions))"
   ]
  },
  {
   "cell_type": "code",
   "execution_count": null,
   "metadata": {},
   "outputs": [],
   "source": [
    "conf_mat = confusion_matrix(y_test, predictions)\n",
    "print(conf_mat)\n",
    "acc = (conf_mat[0,0]+conf_mat[1,1])/conf_mat.sum()\n",
    "print(acc)"
   ]
  },
  {
   "cell_type": "markdown",
   "metadata": {},
   "source": [
    "# Load new data"
   ]
  },
  {
   "cell_type": "code",
   "execution_count": null,
   "metadata": {},
   "outputs": [],
   "source": [
    "load_new_index=[5,14]\n",
    "new_X, new_Y = load_nii(load_new_index, full_path_list, 100)\n",
    "new_X = flatten_nii(new_X)"
   ]
  },
  {
   "cell_type": "code",
   "execution_count": null,
   "metadata": {},
   "outputs": [],
   "source": [
    "new_Y = pd.DataFrame(data=new_Y, dtype=np.float32)"
   ]
  },
  {
   "cell_type": "code",
   "execution_count": null,
   "metadata": {},
   "outputs": [],
   "source": [
    "predictions_new = logmodel.predict(new_X)\n",
    "print(classification_report(y_new, predictions_new))"
   ]
  },
  {
   "cell_type": "code",
   "execution_count": null,
   "metadata": {},
   "outputs": [],
   "source": [
    "conf_mat_new = confusion_matrix(y_new, predictions_new)\n",
    "print(conf_mat_new)"
   ]
  },
  {
   "cell_type": "code",
   "execution_count": null,
   "metadata": {},
   "outputs": [],
   "source": [
    "acc_new = (conf_mat_new[0,0]+conf_mat_new[1,1])/conf_mat_new.sum()\n",
    "print(acc_new)"
   ]
  }
 ],
 "metadata": {
  "kernelspec": {
   "display_name": "tf3",
   "language": "python",
   "name": "tf3"
  },
  "language_info": {
   "codemirror_mode": {
    "name": "ipython",
    "version": 3
   },
   "file_extension": ".py",
   "mimetype": "text/x-python",
   "name": "python",
   "nbconvert_exporter": "python",
   "pygments_lexer": "ipython3",
   "version": "3.6.8"
  }
 },
 "nbformat": 4,
 "nbformat_minor": 2
}
