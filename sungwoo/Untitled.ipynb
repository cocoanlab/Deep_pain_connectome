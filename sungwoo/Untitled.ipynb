{
 "cells": [
  {
   "cell_type": "code",
   "execution_count": 1,
   "metadata": {},
   "outputs": [],
   "source": [
    "from tools.SEMIC import *"
   ]
  },
  {
   "cell_type": "code",
   "execution_count": 2,
   "metadata": {},
   "outputs": [],
   "source": [
    "base_path = '/media/cocoan-gpu1/wani8T/data/SEMIC_npy/'"
   ]
  },
  {
   "cell_type": "code",
   "execution_count": 3,
   "metadata": {},
   "outputs": [
    {
     "name": "stdout",
     "output_type": "stream",
     "text": [
      "Train dataset Subject list : 019, 059, 039, 029, 049, 018, 058, 009, 038, 048, 028, 037, 008, 027, 056, 036, 016, 046, 055, 025, 035, 045, 015, 006, 024, 044, 034, 014, 053, 023, 033, 043, 004, 052, 042, 022, 032, 003, 051, 031, 011, 002, 021, 050, 020, 010, 001\n",
      "\n",
      "Validation dataset Subject list : 054, 005, 041, 026, 030, 057, 013, 007, 012, 040, 047, 047\n",
      "\n"
     ]
    }
   ],
   "source": [
    "loading = load_dataset(dataset_path=base_path, subj_group_size=1, workers=12)"
   ]
  },
  {
   "cell_type": "code",
   "execution_count": 4,
   "metadata": {},
   "outputs": [],
   "source": [
    "from tqdm import tqdm"
   ]
  },
  {
   "cell_type": "code",
   "execution_count": null,
   "metadata": {},
   "outputs": [
    {
     "name": "stderr",
     "output_type": "stream",
     "text": [
      "loading:   0%|          | 0/10 [00:00<?, ?it/s]"
     ]
    }
   ],
   "source": [
    "with tqdm(total=10) as pbar:\n",
    "    pbar.set_description('loading')\n",
    "    for _ in range(10):\n",
    "        loading.load('train')\n",
    "        pbar.update(1)\n",
    "        print('\\n')"
   ]
  },
  {
   "cell_type": "code",
   "execution_count": 13,
   "metadata": {},
   "outputs": [],
   "source": [
    "del loading.batchset"
   ]
  },
  {
   "cell_type": "code",
   "execution_count": 14,
   "metadata": {},
   "outputs": [],
   "source": [
    "import gc"
   ]
  },
  {
   "cell_type": "code",
   "execution_count": 16,
   "metadata": {},
   "outputs": [
    {
     "data": {
      "text/plain": [
       "0"
      ]
     },
     "execution_count": 16,
     "metadata": {},
     "output_type": "execute_result"
    }
   ],
   "source": [
    "gc.collect()"
   ]
  },
  {
   "cell_type": "code",
   "execution_count": null,
   "metadata": {},
   "outputs": [],
   "source": [
    "import numpy as np\n",
    "import pandas as pd\n",
    "import matplotlib.pyplot as plt\n",
    "import seaborn as sns\n",
    "import tensorflow as tf\n",
    "import nibabel as nib\n",
    "import cv2\n",
    "from mlxtend.preprocessing import one_hot\n",
    "import timeit\n",
    "from random import shuffle\n",
    "from MPC_tools import *\n",
    "from layers import *\n",
    "\n",
    "from sklearn.model_selection import train_test_split\n",
    "from sklearn.metrics import classification_report\n",
    "from sklearn.metrics import confusion_matrix\n",
    "\n",
    "\n",
    "%matplotlib inline"
   ]
  },
  {
   "cell_type": "code",
   "execution_count": null,
   "metadata": {},
   "outputs": [],
   "source": [
    "def batch_norm(data, is_train, name=None):\n",
    "    return tf.layers.batch_normalization(data, training=is_train, name=name)"
   ]
  },
  {
   "cell_type": "code",
   "execution_count": null,
   "metadata": {},
   "outputs": [],
   "source": [
    "num_classes = 2 "
   ]
  },
  {
   "cell_type": "code",
   "execution_count": null,
   "metadata": {},
   "outputs": [],
   "source": [
    "x = tf.placeholder(tf.float32,shape=[None, 592895])\n",
    "y_true = tf.placeholder(tf.float32,shape=[None,num_classes])\n",
    "is_train = tf.placeholder(tf.bool)\n",
    "hold_prob = tf.placeholder(tf.float32)"
   ]
  },
  {
   "cell_type": "code",
   "execution_count": null,
   "metadata": {},
   "outputs": [],
   "source": [
    "layer_1 = tf.layers.dense(x, 512)\n",
    "layer_1_bath_norm = batch_norm(layer_1, is_train, name=None)\n",
    "layer_1_relu = tf.nn.relu(layer_1_bath_norm)"
   ]
  },
  {
   "cell_type": "code",
   "execution_count": null,
   "metadata": {},
   "outputs": [],
   "source": [
    "layer_2 = tf.layers.dense(layer_1_bath_norm, 256)\n",
    "layer_2_bath_norm = batch_norm(layer_2, is_train, name=None)\n",
    "layer_2_relu = tf.nn.relu(layer_2_bath_norm)"
   ]
  },
  {
   "cell_type": "code",
   "execution_count": null,
   "metadata": {},
   "outputs": [],
   "source": [
    "layer_3 = tf.layers.dense(layer_2_bath_norm, 128)\n",
    "layer_3_bath_norm = batch_norm(layer_3, is_train, name=None)\n",
    "layer_3_relu = tf.nn.relu(layer_3_bath_norm)"
   ]
  },
  {
   "cell_type": "code",
   "execution_count": null,
   "metadata": {},
   "outputs": [],
   "source": [
    "layer_4 = tf.layers.dense(layer_3_relu, 2)\n",
    "layer_4 = tf.nn.sigmoid(layer_4)"
   ]
  },
  {
   "cell_type": "code",
   "execution_count": null,
   "metadata": {},
   "outputs": [],
   "source": [
    "y_pred = layer_4"
   ]
  },
  {
   "cell_type": "code",
   "execution_count": null,
   "metadata": {},
   "outputs": [],
   "source": [
    "cross_entropy = tf.reduce_mean(tf.nn.softmax_cross_entropy_with_logits(labels=y_true,logits=y_pred))\n",
    "learning_rate = 1e-5\n",
    "optimizer = tf.train.AdamOptimizer(learning_rate)\n",
    "\n",
    "update_ops = tf.get_collection(tf.GraphKeys.UPDATE_OPS)\n",
    "with tf.control_dependencies(update_ops):\n",
    "    train = optimizer.minimize(cross_entropy)"
   ]
  },
  {
   "cell_type": "code",
   "execution_count": null,
   "metadata": {},
   "outputs": [],
   "source": [
    "step_size = 100"
   ]
  },
  {
   "cell_type": "code",
   "execution_count": null,
   "metadata": {},
   "outputs": [],
   "source": [
    "train_acc_list = []\n",
    "train_entrop_list = []\n",
    "\n",
    "test_acc_list = []\n",
    "test_entrop_list = []\n",
    "\n",
    "validation_acc_list = []\n",
    "validataion_entrop_list = []\n",
    "\n",
    "step_list = []\n",
    "\n",
    "lowest_loss = None\n",
    "\n",
    "X = []\n",
    "Y = []\n",
    "\n",
    "with tf.Session() as sess:\n",
    "    sess.run(tf.global_variables_initializer())\n",
    "    saver = tf.train.Saver()\n",
    "    \n",
    "    subject_num = 1\n",
    "    start = timeit.default_timer()\n",
    "\n",
    "    for i in range(step_size):\n",
    "        \n",
    "        #Loading training and validation data sets\n",
    "        if i%36 == 0 and i < step_size-44:\n",
    "            del X\n",
    "            del Y\n",
    "            \n",
    "            X, Y = load_data(subject_num, shuffle=True, nan_to_num=True, one_hot_y=True, flatten_X=True)\n",
    "            \n",
    "            if subject_num<57:\n",
    "                subject_num +=1   \n",
    "            \n",
    "            elif subject_num>=57:\n",
    "                subject_num =1    \n",
    "\n",
    "        #Load test data sets\n",
    "        elif i == step_size-44:    \n",
    "            validate_subjec_num = 58\n",
    "            X, Y = load_data(validate_subjec_num, shuffle=True, nan_to_num=True, one_hot_y=True, flatten_X=True)\n",
    "\n",
    "        matches = tf.equal(tf.argmax(y_pred,1),tf.argmax(y_true,1))\n",
    "        acc = tf.reduce_mean(tf.cast(matches,tf.float32))\n",
    "        \n",
    "        #training model\n",
    "        if i < step_size-44:\n",
    "            j = i%44\n",
    "            _, train_entropy, train_accuracy = sess.run([train, cross_entropy, acc], \n",
    "                                                        feed_dict={x: X[j*100:j*100+100], \n",
    "                                                                   y_true: Y[j*100:j*100+100], \n",
    "                                                                   hold_prob: 0.5, is_train:True})\n",
    "\n",
    "            validation_entropy, validation_accuracy= sess.run([cross_entropy, acc],\n",
    "                                                  feed_dict={x: X[4400:4500], \n",
    "                                                             y_true: Y[4400:4500], \n",
    "                                                             hold_prob:1.0, is_train:False})\n",
    "            if i%10 == 0:\n",
    "                print(\"* * * * * * * * * * * * *\")\n",
    "                print('Currently on step {}'.format(i))\n",
    "                print('##Train Cross entropy is: {}'.format(train_entropy))\n",
    "                print('##Train Accuracy is: {}'.format(train_accuracy))\n",
    "                print('\\n')\n",
    "                print('##Validation Cross entropy is: {}'.format(validation_entropy))\n",
    "                print('##Validation Accuracy is: {}'.format(validation_accuracy))\n",
    "\n",
    "                print(\"* * * * * * * * * * * * *\")\n",
    "                print('\\n')\n",
    "                \n",
    "            train_acc_list.append(train_accuracy)\n",
    "            train_entrop_list.append(train_entropy)\n",
    "            \n",
    "            validation_acc_list.append(validation_accuracy)\n",
    "            validataion_entrop_list.append(validation_entropy)\n",
    "            \n",
    "            step_list.append(i)\n",
    "\n",
    "        #testing model\n",
    "        elif i > step_size-44:\n",
    "            j = i%44\n",
    "            test_entropy, test_accuracy= sess.run([cross_entropy, acc],\n",
    "                                                  feed_dict={x:X[j*100:j*100+100], \n",
    "                                                             y_true:Y[j*100:j*100+100], \n",
    "                                                             hold_prob:1.0, is_train:False})\n",
    "\n",
    "            test_acc_list.append(test_accuracy)\n",
    "            test_entrop_list.append(test_entropy)\n",
    "            \n",
    "            step_list.append(i)\n",
    "            \n",
    "            if i%1 == 0:\n",
    "                print(\"* * * * * * * * * * * * *\")\n",
    "                print('Currently on step {}'.format(i))\n",
    "                print('##Test Cross entropy is: {}'.format(test_entropy))\n",
    "                print('##Test Accuracy is: {}'.format(test_accuracy))\n",
    "\n",
    "                print(\"* * * * * * * * * * * * *\")\n",
    "                print('\\n')\n",
    "                \n",
    "\n",
    "        if lowest_loss == None or lowest_loss > validation_entropy:\n",
    "            lowest_loss = validation_entropy\n",
    "            saver.save(sess, \"./model/MPC_dnn_basic_SEMIC_binary_classification_ver4.ckpt\")\n",
    "\n",
    "\n",
    "train_acc_list = np.array(train_acc_list)\n",
    "train_entrop_list = np.array(train_entrop_list)\n",
    "\n",
    "test_entrop_list = np.array(test_entrop_list)\n",
    "test_acc_list = np.array(test_acc_list)\n",
    "\n",
    "validation_acc_list = np.array(validation_acc_list)\n",
    "validataion_entrop_list = np.array(validataion_entrop_list)\n",
    "\n",
    "step_list = np.array(step_list)\n",
    "\n",
    "stop = timeit.default_timer()\n",
    "check_time = stop-start\n",
    "now = datetime.datetime.now()\n",
    "\n",
    "print(\"!!!!Finished!!!!\")\n",
    "print(\"###  Duration Time  : {} minutes   {} seconds      ###\".format(int(check_time)//60, int(check_time)%60))\n",
    "print(\"###  Excecuted Time : {}     ###\".format(now))"
   ]
  },
  {
   "cell_type": "code",
   "execution_count": null,
   "metadata": {},
   "outputs": [],
   "source": [
    "from tqdm import tqdm_notebook\n",
    "import time\n",
    "\n",
    "total = tqdm_notebook(range(100))\n",
    "\n",
    "for n in total:\n",
    "    time.sleep(0.1)"
   ]
  }
 ],
 "metadata": {
  "kernelspec": {
   "display_name": "tf3",
   "language": "python",
   "name": "tf3"
  },
  "language_info": {
   "codemirror_mode": {
    "name": "ipython",
    "version": 3
   },
   "file_extension": ".py",
   "mimetype": "text/x-python",
   "name": "python",
   "nbconvert_exporter": "python",
   "pygments_lexer": "ipython3",
   "version": "3.6.8"
  }
 },
 "nbformat": 4,
 "nbformat_minor": 2
}
