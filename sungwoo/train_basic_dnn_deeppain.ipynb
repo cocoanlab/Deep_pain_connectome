{
 "cells": [
  {
   "cell_type": "code",
   "execution_count": 1,
   "metadata": {},
   "outputs": [],
   "source": [
    "import sys\n",
    "sys.path.append('..')\n",
    "\n",
    "from models import basic_dnn_regression\n",
    "from develop.file_listing import *\n",
    "\n",
    "from sklearn import metrics\n",
    "import tensorflow as tf\n",
    "import numpy as np"
   ]
  },
  {
   "cell_type": "code",
   "execution_count": 2,
   "metadata": {},
   "outputs": [],
   "source": [
    "ckpt_path = \"./out/deeppain/\"\n",
    "basedir = '/media/cocoan-gpu1/wani8T/data/deeppain'"
   ]
  },
  {
   "cell_type": "markdown",
   "metadata": {},
   "source": [
    "# Making Beta list"
   ]
  },
  {
   "cell_type": "code",
   "execution_count": 3,
   "metadata": {},
   "outputs": [],
   "source": [
    "in_condition_1 = ['study01_bmrk3', 'study02_bmrk4', 'study03_nsf', 'study04_ie', 'study05_exp', 'study06_ilcp']\n",
    "in_condition_2 = ['subject']\n",
    "out_conidtion = ['nopain']"
   ]
  },
  {
   "cell_type": "code",
   "execution_count": 4,
   "metadata": {},
   "outputs": [],
   "source": [
    "search_list = dir_search(basedir=basedir, in_condition_1=in_condition_1, \n",
    "                         in_condition_2 = in_condition_2, \n",
    "                         out_conidtion=out_conidtion)"
   ]
  },
  {
   "cell_type": "code",
   "execution_count": 5,
   "metadata": {},
   "outputs": [
    {
     "data": {
      "text/plain": [
       "array(['/media/cocoan-gpu1/wani8T/data/deeppain/study01_bmrk3/subject001/beta0037.npy',\n",
       "       '/media/cocoan-gpu1/wani8T/data/deeppain/study01_bmrk3/subject001/beta0015.npy',\n",
       "       '/media/cocoan-gpu1/wani8T/data/deeppain/study01_bmrk3/subject001/beta0042.npy',\n",
       "       '/media/cocoan-gpu1/wani8T/data/deeppain/study01_bmrk3/subject001/beta0044.npy',\n",
       "       '/media/cocoan-gpu1/wani8T/data/deeppain/study01_bmrk3/subject001/beta0024.npy',\n",
       "       '/media/cocoan-gpu1/wani8T/data/deeppain/study01_bmrk3/subject001/beta0029.npy',\n",
       "       '/media/cocoan-gpu1/wani8T/data/deeppain/study01_bmrk3/subject001/beta0006.npy',\n",
       "       '/media/cocoan-gpu1/wani8T/data/deeppain/study01_bmrk3/subject001/beta0033.npy',\n",
       "       '/media/cocoan-gpu1/wani8T/data/deeppain/study01_bmrk3/subject001/beta0058.npy',\n",
       "       '/media/cocoan-gpu1/wani8T/data/deeppain/study01_bmrk3/subject001/beta0018.npy'],\n",
       "      dtype='<U77')"
      ]
     },
     "execution_count": 5,
     "metadata": {},
     "output_type": "execute_result"
    }
   ],
   "source": [
    "beta_full_path_list = beta_file_list(search_list, 15)\n",
    "beta_full_path_list[:10]"
   ]
  },
  {
   "cell_type": "code",
   "execution_count": 6,
   "metadata": {},
   "outputs": [
    {
     "data": {
      "text/plain": [
       "(2745,)"
      ]
     },
     "execution_count": 6,
     "metadata": {},
     "output_type": "execute_result"
    }
   ],
   "source": [
    "beta_full_path_list.shape"
   ]
  },
  {
   "cell_type": "code",
   "execution_count": 7,
   "metadata": {},
   "outputs": [
    {
     "data": {
      "text/plain": [
       "['/media/cocoan-gpu1/wani8T/data/deeppain/study01_bmrk3/subject001/beta0037.npy',\n",
       " '/media/cocoan-gpu1/wani8T/data/deeppain/study01_bmrk3/subject001/beta0037.npy',\n",
       " '/media/cocoan-gpu1/wani8T/data/deeppain/study01_bmrk3/subject001/beta0015.npy',\n",
       " '/media/cocoan-gpu1/wani8T/data/deeppain/study01_bmrk3/subject001/beta0042.npy',\n",
       " '/media/cocoan-gpu1/wani8T/data/deeppain/study01_bmrk3/subject001/beta0044.npy',\n",
       " '/media/cocoan-gpu1/wani8T/data/deeppain/study01_bmrk3/subject001/beta0024.npy',\n",
       " '/media/cocoan-gpu1/wani8T/data/deeppain/study01_bmrk3/subject001/beta0029.npy',\n",
       " '/media/cocoan-gpu1/wani8T/data/deeppain/study01_bmrk3/subject001/beta0006.npy',\n",
       " '/media/cocoan-gpu1/wani8T/data/deeppain/study01_bmrk3/subject001/beta0033.npy',\n",
       " '/media/cocoan-gpu1/wani8T/data/deeppain/study01_bmrk3/subject001/beta0058.npy',\n",
       " '/media/cocoan-gpu1/wani8T/data/deeppain/study01_bmrk3/subject001/beta0018.npy',\n",
       " '/media/cocoan-gpu1/wani8T/data/deeppain/study01_bmrk3/subject001/beta0053.npy',\n",
       " '/media/cocoan-gpu1/wani8T/data/deeppain/study01_bmrk3/subject001/beta0022.npy',\n",
       " '/media/cocoan-gpu1/wani8T/data/deeppain/study01_bmrk3/subject001/beta0014.npy',\n",
       " '/media/cocoan-gpu1/wani8T/data/deeppain/study01_bmrk3/subject001/beta0060.npy',\n",
       " '/media/cocoan-gpu1/wani8T/data/deeppain/study01_bmrk3/subject001/beta0047.npy']"
      ]
     },
     "execution_count": 7,
     "metadata": {},
     "output_type": "execute_result"
    }
   ],
   "source": [
    "file_dict = beta_file_dict(beta_full_path_list)\n",
    "file_dict['subject001']"
   ]
  },
  {
   "cell_type": "markdown",
   "metadata": {},
   "source": [
    "# Making Rating list"
   ]
  },
  {
   "cell_type": "code",
   "execution_count": 8,
   "metadata": {},
   "outputs": [],
   "source": [
    "in_condition_1 = ['study01_bmrk3', 'study02_bmrk4', 'study03_nsf', 'study04_ie', 'study05_exp', 'study06_ilcp']\n",
    "in_condition_2 = ['rating_standard']\n",
    "out_conidtion = ['nopain']"
   ]
  },
  {
   "cell_type": "code",
   "execution_count": 9,
   "metadata": {},
   "outputs": [],
   "source": [
    "rating_full_path_list = rating_file_list(basedir, in_condition_1, \n",
    "                                    in_condition_2, out_conidtion=out_conidtion)"
   ]
  },
  {
   "cell_type": "code",
   "execution_count": 10,
   "metadata": {},
   "outputs": [
    {
     "data": {
      "text/plain": [
       "array(['/media/cocoan-gpu1/wani8T/data/deeppain/study01_bmrk3/rating_standard/study01_bmrk3_subject001_dat.npy',\n",
       "       '/media/cocoan-gpu1/wani8T/data/deeppain/study01_bmrk3/rating_standard/study01_bmrk3_subject002_dat.npy',\n",
       "       '/media/cocoan-gpu1/wani8T/data/deeppain/study01_bmrk3/rating_standard/study01_bmrk3_subject003_dat.npy',\n",
       "       '/media/cocoan-gpu1/wani8T/data/deeppain/study01_bmrk3/rating_standard/study01_bmrk3_subject004_dat.npy',\n",
       "       '/media/cocoan-gpu1/wani8T/data/deeppain/study01_bmrk3/rating_standard/study01_bmrk3_subject005_dat.npy',\n",
       "       '/media/cocoan-gpu1/wani8T/data/deeppain/study01_bmrk3/rating_standard/study01_bmrk3_subject006_dat.npy',\n",
       "       '/media/cocoan-gpu1/wani8T/data/deeppain/study01_bmrk3/rating_standard/study01_bmrk3_subject007_dat.npy',\n",
       "       '/media/cocoan-gpu1/wani8T/data/deeppain/study01_bmrk3/rating_standard/study01_bmrk3_subject008_dat.npy',\n",
       "       '/media/cocoan-gpu1/wani8T/data/deeppain/study01_bmrk3/rating_standard/study01_bmrk3_subject009_dat.npy',\n",
       "       '/media/cocoan-gpu1/wani8T/data/deeppain/study01_bmrk3/rating_standard/study01_bmrk3_subject010_dat.npy'],\n",
       "      dtype='<U102')"
      ]
     },
     "execution_count": 10,
     "metadata": {},
     "output_type": "execute_result"
    }
   ],
   "source": [
    "rating_full_path_list[:10]"
   ]
  },
  {
   "cell_type": "code",
   "execution_count": 11,
   "metadata": {},
   "outputs": [],
   "source": [
    "index_dict = rating_index_dict(beta_full_path_list, rating_full_path_list)"
   ]
  },
  {
   "cell_type": "code",
   "execution_count": 12,
   "metadata": {},
   "outputs": [
    {
     "data": {
      "text/plain": [
       "{'beta_full_path_list': array(['/media/cocoan-gpu1/wani8T/data/deeppain/study01_bmrk3/subject001/beta0037.npy',\n",
       "        '/media/cocoan-gpu1/wani8T/data/deeppain/study01_bmrk3/subject001/beta0015.npy',\n",
       "        '/media/cocoan-gpu1/wani8T/data/deeppain/study01_bmrk3/subject001/beta0042.npy',\n",
       "        ...,\n",
       "        '/media/cocoan-gpu1/wani8T/data/deeppain/study06_ilcp/subject183/beta0059.npy',\n",
       "        '/media/cocoan-gpu1/wani8T/data/deeppain/study06_ilcp/subject183/beta0025.npy',\n",
       "        '/media/cocoan-gpu1/wani8T/data/deeppain/study06_ilcp/subject183/beta0057.npy'],\n",
       "       dtype='<U77'), 'index_list_np': array([36, 14, 41, ..., 58, 24, 56])}"
      ]
     },
     "execution_count": 12,
     "metadata": {},
     "output_type": "execute_result"
    }
   ],
   "source": [
    "index_dict"
   ]
  },
  {
   "cell_type": "code",
   "execution_count": 13,
   "metadata": {},
   "outputs": [],
   "source": [
    "rating_list = rating_value_list(rating_full_path_list, index_dict)"
   ]
  },
  {
   "cell_type": "code",
   "execution_count": 14,
   "metadata": {},
   "outputs": [
    {
     "data": {
      "text/plain": [
       "(2745,)"
      ]
     },
     "execution_count": 14,
     "metadata": {},
     "output_type": "execute_result"
    }
   ],
   "source": [
    "rating_list.shape"
   ]
  },
  {
   "cell_type": "code",
   "execution_count": 15,
   "metadata": {},
   "outputs": [],
   "source": [
    "from tqdm import tqdm_notebook"
   ]
  },
  {
   "cell_type": "code",
   "execution_count": 16,
   "metadata": {},
   "outputs": [
    {
     "data": {
      "application/vnd.jupyter.widget-view+json": {
       "model_id": "6b5fa81d362b4359b648d724d4280d6b",
       "version_major": 2,
       "version_minor": 0
      },
      "text/plain": [
       "HBox(children=(IntProgress(value=0, max=2745), HTML(value='')))"
      ]
     },
     "metadata": {},
     "output_type": "display_data"
    },
    {
     "name": "stdout",
     "output_type": "stream",
     "text": [
      "\n"
     ]
    }
   ],
   "source": [
    "data_shape = np.load(beta_full_path_list[0]).flatten().shape\n",
    "X = np.empty((len(beta_full_path_list),data_shape[0]))\n",
    "\n",
    "for i in tqdm_notebook(range(len(beta_full_path_list))):\n",
    "    temp_data = np.load(beta_full_path_list[i]).flatten()\n",
    "    X[i] = temp_data"
   ]
  },
  {
   "cell_type": "code",
   "execution_count": 17,
   "metadata": {},
   "outputs": [
    {
     "data": {
      "text/plain": [
       "dtype('float32')"
      ]
     },
     "execution_count": 17,
     "metadata": {},
     "output_type": "execute_result"
    }
   ],
   "source": [
    "X = X.astype('f4')\n",
    "X.dtype"
   ]
  },
  {
   "cell_type": "code",
   "execution_count": 18,
   "metadata": {},
   "outputs": [
    {
     "data": {
      "text/plain": [
       "dtype('float32')"
      ]
     },
     "execution_count": 18,
     "metadata": {},
     "output_type": "execute_result"
    }
   ],
   "source": [
    "y = rating_list\n",
    "y = y[:,np.newaxis]\n",
    "y = y.astype('f4')\n",
    "y.dtype"
   ]
  },
  {
   "cell_type": "code",
   "execution_count": 19,
   "metadata": {},
   "outputs": [],
   "source": [
    "from sklearn.model_selection import train_test_split"
   ]
  },
  {
   "cell_type": "code",
   "execution_count": 20,
   "metadata": {},
   "outputs": [],
   "source": [
    "X_train, X_test, y_train, y_test = train_test_split(X, y, test_size=0.3, random_state=101)"
   ]
  },
  {
   "cell_type": "markdown",
   "metadata": {},
   "source": [
    "# Making DNN graph"
   ]
  },
  {
   "cell_type": "code",
   "execution_count": 21,
   "metadata": {},
   "outputs": [],
   "source": [
    "def batch_norm(data, is_train, name=None):\n",
    "    return tf.layers.batch_normalization(data, training=is_train, name=name)\n",
    "\n",
    "def R_squared(y, y_pred):\n",
    "    residual = tf.reduce_sum(tf.square(tf.subtract(y, y_pred)))\n",
    "    total = tf.reduce_sum(tf.square(tf.subtract(y, tf.reduce_mean(y))))\n",
    "    r2 = tf.subtract(1.0, tf.div(residual, total))\n",
    "    return r2"
   ]
  },
  {
   "cell_type": "code",
   "execution_count": 22,
   "metadata": {},
   "outputs": [],
   "source": [
    "num_classes = 1"
   ]
  },
  {
   "cell_type": "code",
   "execution_count": 23,
   "metadata": {},
   "outputs": [],
   "source": [
    "#Graph reset\n",
    "tf.reset_default_graph()\n",
    "\n",
    "x = tf.placeholder(tf.float32,shape=[None, data_shape[0]])\n",
    "y_true = tf.placeholder(tf.float32,shape=[None,num_classes])\n",
    "is_train = tf.placeholder(tf.bool)\n",
    "hold_prob = tf.placeholder(tf.float32)\n",
    "\n",
    "layer_1 = tf.layers.dense(x, 256)\n",
    "layer_1_bath_norm = batch_norm(layer_1, is_train, name=None)\n",
    "layer_1_relu = tf.nn.relu(layer_1_bath_norm)\n",
    "\n",
    "layer_2 = tf.layers.dense(layer_1_bath_norm, 128)\n",
    "layer_2_bath_norm = batch_norm(layer_2, is_train, name=None)\n",
    "layer_2_relu = tf.nn.relu(layer_2_bath_norm)\n",
    "\n",
    "layer_3 = tf.layers.dense(layer_2_bath_norm, 64)\n",
    "layer_3_bath_norm = batch_norm(layer_3, is_train, name=None)\n",
    "layer_3_relu = tf.nn.relu(layer_3_bath_norm)\n",
    "\n",
    "layer_4 = tf.layers.dense(layer_3_relu, 1)\n",
    "layer_4 = tf.nn.sigmoid(layer_4)\n",
    "\n",
    "y_pred = layer_4\n",
    "\n",
    "mse = tf.losses.mean_squared_error(y_true, y_pred)\n",
    "learning_rate = 1e-5\n",
    "optimizer = tf.train.AdamOptimizer(learning_rate)\n",
    "\n",
    "update_ops = tf.get_collection(tf.GraphKeys.UPDATE_OPS)\n",
    "with tf.control_dependencies(update_ops):\n",
    "    train = optimizer.minimize(mse)"
   ]
  },
  {
   "cell_type": "code",
   "execution_count": 24,
   "metadata": {},
   "outputs": [],
   "source": [
    "#Learning Steps\n",
    "step_size = 100\n",
    "\n",
    "#Data number counts\n",
    "train_data_num = int(X_train.shape[0])\n",
    "train_data_num = int(X_test.shape[0])\n",
    "\n",
    "step_data_num = 3\n",
    "\n",
    "j_cut = int(train_data_num/step_data_num)\n",
    "t_cut = int(train_data_num/step_data_num)"
   ]
  },
  {
   "cell_type": "code",
   "execution_count": 25,
   "metadata": {},
   "outputs": [
    {
     "name": "stdout",
     "output_type": "stream",
     "text": [
      "Currently on step 0\n",
      "##Train mse is: 1.4651397466659546\n",
      "##Train r2 is: -0.7417789697647095\n",
      "##Test mse is: 0.370363712310791\n",
      "##Test r2 is: 0.4754081964492798\n",
      "\n",
      "\n",
      "Currently on step 1\n",
      "##Train mse is: 0.7561703324317932\n",
      "##Train r2 is: -1.4036896228790283\n",
      "##Test mse is: 1.5340198278427124\n",
      "##Test r2 is: -1.7825813293457031\n",
      "\n",
      "\n",
      "Currently on step 2\n",
      "##Train mse is: 2.1116273403167725\n",
      "##Train r2 is: -15.287500381469727\n",
      "##Test mse is: 1.0381914377212524\n",
      "##Test r2 is: -4.5639448165893555\n",
      "\n",
      "\n",
      "Currently on step 3\n",
      "##Train mse is: 2.264472723007202\n",
      "##Train r2 is: -39.29047775268555\n",
      "##Test mse is: 1.2051010131835938\n",
      "##Test r2 is: -0.27022218704223633\n",
      "\n",
      "\n",
      "Currently on step 4\n",
      "##Train mse is: 0.848831832408905\n",
      "##Train r2 is: -1.3779449462890625\n",
      "##Test mse is: 0.7082636952400208\n",
      "##Test r2 is: -0.0029317140579223633\n",
      "\n",
      "\n",
      "Currently on step 5\n",
      "##Train mse is: 0.6065365672111511\n",
      "##Train r2 is: -0.11568772792816162\n",
      "##Test mse is: 1.8057136535644531\n",
      "##Test r2 is: -2.832853317260742\n",
      "\n",
      "\n",
      "Currently on step 6\n",
      "##Train mse is: 0.8907246589660645\n",
      "##Train r2 is: -11.132081031799316\n",
      "##Test mse is: 1.0008254051208496\n",
      "##Test r2 is: -0.27251720428466797\n",
      "\n",
      "\n",
      "Currently on step 7\n",
      "##Train mse is: 0.9978501200675964\n",
      "##Train r2 is: 0.13415944576263428\n",
      "##Test mse is: 0.23583365976810455\n",
      "##Test r2 is: 0.08323472738265991\n",
      "\n",
      "\n",
      "Currently on step 8\n",
      "##Train mse is: 1.5809531211853027\n",
      "##Train r2 is: -0.02229940891265869\n",
      "##Test mse is: 3.145360231399536\n",
      "##Test r2 is: -0.29195261001586914\n",
      "\n",
      "\n",
      "Currently on step 9\n",
      "##Train mse is: 1.07118558883667\n",
      "##Train r2 is: -0.8800293207168579\n",
      "##Test mse is: 1.0112550258636475\n",
      "##Test r2 is: 0.1794087290763855\n",
      "\n",
      "\n",
      "Currently on step 10\n",
      "##Train mse is: 2.0588183403015137\n",
      "##Train r2 is: 0.11228394508361816\n",
      "##Test mse is: 1.3865646123886108\n",
      "##Test r2 is: -1.1631858348846436\n",
      "\n",
      "\n",
      "Currently on step 11\n",
      "##Train mse is: 1.3522247076034546\n",
      "##Train r2 is: -0.17080771923065186\n",
      "##Test mse is: 0.36350810527801514\n",
      "##Test r2 is: -0.3733327388763428\n",
      "\n",
      "\n",
      "Currently on step 12\n",
      "##Train mse is: 1.0960851907730103\n",
      "##Train r2 is: -1.8384513854980469\n",
      "##Test mse is: 1.4196821451187134\n",
      "##Test r2 is: -0.9728623628616333\n",
      "\n",
      "\n",
      "Currently on step 13\n",
      "##Train mse is: 1.263381838798523\n",
      "##Train r2 is: 0.1489378809928894\n",
      "##Test mse is: 0.9331405162811279\n",
      "##Test r2 is: -6.690594673156738\n",
      "\n",
      "\n",
      "Currently on step 14\n",
      "##Train mse is: 1.6486295461654663\n",
      "##Train r2 is: -683.2877807617188\n",
      "##Test mse is: 2.620033025741577\n",
      "##Test r2 is: -0.21730148792266846\n",
      "\n",
      "\n",
      "Currently on step 15\n",
      "##Train mse is: 0.37421345710754395\n",
      "##Train r2 is: -0.031028151512145996\n",
      "##Test mse is: 2.1222028732299805\n",
      "##Test r2 is: -1.0226528644561768\n",
      "\n",
      "\n",
      "Currently on step 16\n",
      "##Train mse is: 0.615102231502533\n",
      "##Train r2 is: -1.5614211559295654\n",
      "##Test mse is: 3.6782875061035156\n",
      "##Test r2 is: -5.691653251647949\n",
      "\n",
      "\n"
     ]
    },
    {
     "ename": "ResourceExhaustedError",
     "evalue": "OOM when allocating tensor with shape[510340,256] and type float on /job:localhost/replica:0/task:0/device:GPU:0 by allocator GPU_0_bfc\n\t [[Node: dense/kernel/Initializer/random_uniform/RandomUniform = RandomUniform[T=DT_INT32, _class=[\"loc:@dense/kernel/Assign\"], dtype=DT_FLOAT, seed=0, seed2=0, _device=\"/job:localhost/replica:0/task:0/device:GPU:0\"](dense/kernel/Initializer/random_uniform/shape)]]\nHint: If you want to see a list of allocated tensors when OOM happens, add report_tensor_allocations_upon_oom to RunOptions for current allocation info.\n\n\nCaused by op 'dense/kernel/Initializer/random_uniform/RandomUniform', defined at:\n  File \"/home/cocoan-gpu1/anaconda3/envs/tf3/lib/python3.6/runpy.py\", line 193, in _run_module_as_main\n    \"__main__\", mod_spec)\n  File \"/home/cocoan-gpu1/anaconda3/envs/tf3/lib/python3.6/runpy.py\", line 85, in _run_code\n    exec(code, run_globals)\n  File \"/home/cocoan-gpu1/anaconda3/envs/tf3/lib/python3.6/site-packages/ipykernel_launcher.py\", line 16, in <module>\n    app.launch_new_instance()\n  File \"/home/cocoan-gpu1/anaconda3/envs/tf3/lib/python3.6/site-packages/traitlets/config/application.py\", line 658, in launch_instance\n    app.start()\n  File \"/home/cocoan-gpu1/anaconda3/envs/tf3/lib/python3.6/site-packages/ipykernel/kernelapp.py\", line 505, in start\n    self.io_loop.start()\n  File \"/home/cocoan-gpu1/anaconda3/envs/tf3/lib/python3.6/site-packages/tornado/platform/asyncio.py\", line 148, in start\n    self.asyncio_loop.run_forever()\n  File \"/home/cocoan-gpu1/anaconda3/envs/tf3/lib/python3.6/asyncio/base_events.py\", line 438, in run_forever\n    self._run_once()\n  File \"/home/cocoan-gpu1/anaconda3/envs/tf3/lib/python3.6/asyncio/base_events.py\", line 1451, in _run_once\n    handle._run()\n  File \"/home/cocoan-gpu1/anaconda3/envs/tf3/lib/python3.6/asyncio/events.py\", line 145, in _run\n    self._callback(*self._args)\n  File \"/home/cocoan-gpu1/anaconda3/envs/tf3/lib/python3.6/site-packages/tornado/ioloop.py\", line 690, in <lambda>\n    lambda f: self._run_callback(functools.partial(callback, future))\n  File \"/home/cocoan-gpu1/anaconda3/envs/tf3/lib/python3.6/site-packages/tornado/ioloop.py\", line 743, in _run_callback\n    ret = callback()\n  File \"/home/cocoan-gpu1/anaconda3/envs/tf3/lib/python3.6/site-packages/tornado/gen.py\", line 781, in inner\n    self.run()\n  File \"/home/cocoan-gpu1/anaconda3/envs/tf3/lib/python3.6/site-packages/tornado/gen.py\", line 742, in run\n    yielded = self.gen.send(value)\n  File \"/home/cocoan-gpu1/anaconda3/envs/tf3/lib/python3.6/site-packages/ipykernel/kernelbase.py\", line 357, in process_one\n    yield gen.maybe_future(dispatch(*args))\n  File \"/home/cocoan-gpu1/anaconda3/envs/tf3/lib/python3.6/site-packages/tornado/gen.py\", line 209, in wrapper\n    yielded = next(result)\n  File \"/home/cocoan-gpu1/anaconda3/envs/tf3/lib/python3.6/site-packages/ipykernel/kernelbase.py\", line 267, in dispatch_shell\n    yield gen.maybe_future(handler(stream, idents, msg))\n  File \"/home/cocoan-gpu1/anaconda3/envs/tf3/lib/python3.6/site-packages/tornado/gen.py\", line 209, in wrapper\n    yielded = next(result)\n  File \"/home/cocoan-gpu1/anaconda3/envs/tf3/lib/python3.6/site-packages/ipykernel/kernelbase.py\", line 534, in execute_request\n    user_expressions, allow_stdin,\n  File \"/home/cocoan-gpu1/anaconda3/envs/tf3/lib/python3.6/site-packages/tornado/gen.py\", line 209, in wrapper\n    yielded = next(result)\n  File \"/home/cocoan-gpu1/anaconda3/envs/tf3/lib/python3.6/site-packages/ipykernel/ipkernel.py\", line 294, in do_execute\n    res = shell.run_cell(code, store_history=store_history, silent=silent)\n  File \"/home/cocoan-gpu1/anaconda3/envs/tf3/lib/python3.6/site-packages/ipykernel/zmqshell.py\", line 536, in run_cell\n    return super(ZMQInteractiveShell, self).run_cell(*args, **kwargs)\n  File \"/home/cocoan-gpu1/anaconda3/envs/tf3/lib/python3.6/site-packages/IPython/core/interactiveshell.py\", line 2843, in run_cell\n    raw_cell, store_history, silent, shell_futures)\n  File \"/home/cocoan-gpu1/anaconda3/envs/tf3/lib/python3.6/site-packages/IPython/core/interactiveshell.py\", line 2869, in _run_cell\n    return runner(coro)\n  File \"/home/cocoan-gpu1/anaconda3/envs/tf3/lib/python3.6/site-packages/IPython/core/async_helpers.py\", line 67, in _pseudo_sync_runner\n    coro.send(None)\n  File \"/home/cocoan-gpu1/anaconda3/envs/tf3/lib/python3.6/site-packages/IPython/core/interactiveshell.py\", line 3044, in run_cell_async\n    interactivity=interactivity, compiler=compiler, result=result)\n  File \"/home/cocoan-gpu1/anaconda3/envs/tf3/lib/python3.6/site-packages/IPython/core/interactiveshell.py\", line 3209, in run_ast_nodes\n    if (yield from self.run_code(code, result)):\n  File \"/home/cocoan-gpu1/anaconda3/envs/tf3/lib/python3.6/site-packages/IPython/core/interactiveshell.py\", line 3291, in run_code\n    exec(code_obj, self.user_global_ns, self.user_ns)\n  File \"<ipython-input-23-dc719941a9fb>\", line 9, in <module>\n    layer_1 = tf.layers.dense(x, 256)\n  File \"/home/cocoan-gpu1/anaconda3/envs/tf3/lib/python3.6/site-packages/tensorflow/python/layers/core.py\", line 189, in dense\n    return layer.apply(inputs)\n  File \"/home/cocoan-gpu1/anaconda3/envs/tf3/lib/python3.6/site-packages/tensorflow/python/keras/engine/base_layer.py\", line 805, in apply\n    return self.__call__(inputs, *args, **kwargs)\n  File \"/home/cocoan-gpu1/anaconda3/envs/tf3/lib/python3.6/site-packages/tensorflow/python/layers/base.py\", line 362, in __call__\n    outputs = super(Layer, self).__call__(inputs, *args, **kwargs)\n  File \"/home/cocoan-gpu1/anaconda3/envs/tf3/lib/python3.6/site-packages/tensorflow/python/keras/engine/base_layer.py\", line 728, in __call__\n    self.build(input_shapes)\n  File \"/home/cocoan-gpu1/anaconda3/envs/tf3/lib/python3.6/site-packages/tensorflow/python/keras/layers/core.py\", line 917, in build\n    trainable=True)\n  File \"/home/cocoan-gpu1/anaconda3/envs/tf3/lib/python3.6/site-packages/tensorflow/python/layers/base.py\", line 276, in add_weight\n    getter=vs.get_variable)\n  File \"/home/cocoan-gpu1/anaconda3/envs/tf3/lib/python3.6/site-packages/tensorflow/python/keras/engine/base_layer.py\", line 565, in add_weight\n    aggregation=aggregation)\n  File \"/home/cocoan-gpu1/anaconda3/envs/tf3/lib/python3.6/site-packages/tensorflow/python/training/checkpointable/base.py\", line 535, in _add_variable_with_custom_getter\n    **kwargs_for_getter)\n  File \"/home/cocoan-gpu1/anaconda3/envs/tf3/lib/python3.6/site-packages/tensorflow/python/ops/variable_scope.py\", line 1467, in get_variable\n    aggregation=aggregation)\n  File \"/home/cocoan-gpu1/anaconda3/envs/tf3/lib/python3.6/site-packages/tensorflow/python/ops/variable_scope.py\", line 1217, in get_variable\n    aggregation=aggregation)\n  File \"/home/cocoan-gpu1/anaconda3/envs/tf3/lib/python3.6/site-packages/tensorflow/python/ops/variable_scope.py\", line 527, in get_variable\n    aggregation=aggregation)\n  File \"/home/cocoan-gpu1/anaconda3/envs/tf3/lib/python3.6/site-packages/tensorflow/python/ops/variable_scope.py\", line 481, in _true_getter\n    aggregation=aggregation)\n  File \"/home/cocoan-gpu1/anaconda3/envs/tf3/lib/python3.6/site-packages/tensorflow/python/ops/variable_scope.py\", line 903, in _get_single_variable\n    aggregation=aggregation)\n  File \"/home/cocoan-gpu1/anaconda3/envs/tf3/lib/python3.6/site-packages/tensorflow/python/ops/variable_scope.py\", line 2443, in variable\n    aggregation=aggregation)\n  File \"/home/cocoan-gpu1/anaconda3/envs/tf3/lib/python3.6/site-packages/tensorflow/python/ops/variable_scope.py\", line 2425, in <lambda>\n    previous_getter = lambda **kwargs: default_variable_creator(None, **kwargs)\n  File \"/home/cocoan-gpu1/anaconda3/envs/tf3/lib/python3.6/site-packages/tensorflow/python/ops/variable_scope.py\", line 2406, in default_variable_creator\n    constraint=constraint)\n  File \"/home/cocoan-gpu1/anaconda3/envs/tf3/lib/python3.6/site-packages/tensorflow/python/ops/variables.py\", line 259, in __init__\n    constraint=constraint)\n  File \"/home/cocoan-gpu1/anaconda3/envs/tf3/lib/python3.6/site-packages/tensorflow/python/ops/variables.py\", line 368, in _init_from_args\n    initial_value(), name=\"initial_value\", dtype=dtype)\n  File \"/home/cocoan-gpu1/anaconda3/envs/tf3/lib/python3.6/site-packages/tensorflow/python/ops/variable_scope.py\", line 885, in <lambda>\n    shape.as_list(), dtype=dtype, partition_info=partition_info)\n  File \"/home/cocoan-gpu1/anaconda3/envs/tf3/lib/python3.6/site-packages/tensorflow/python/ops/init_ops.py\", line 489, in __call__\n    shape, -limit, limit, dtype, seed=self.seed)\n  File \"/home/cocoan-gpu1/anaconda3/envs/tf3/lib/python3.6/site-packages/tensorflow/python/ops/random_ops.py\", line 242, in random_uniform\n    rnd = gen_random_ops.random_uniform(shape, dtype, seed=seed1, seed2=seed2)\n  File \"/home/cocoan-gpu1/anaconda3/envs/tf3/lib/python3.6/site-packages/tensorflow/python/ops/gen_random_ops.py\", line 732, in random_uniform\n    name=name)\n  File \"/home/cocoan-gpu1/anaconda3/envs/tf3/lib/python3.6/site-packages/tensorflow/python/framework/op_def_library.py\", line 787, in _apply_op_helper\n    op_def=op_def)\n  File \"/home/cocoan-gpu1/anaconda3/envs/tf3/lib/python3.6/site-packages/tensorflow/python/util/deprecation.py\", line 454, in new_func\n    return func(*args, **kwargs)\n  File \"/home/cocoan-gpu1/anaconda3/envs/tf3/lib/python3.6/site-packages/tensorflow/python/framework/ops.py\", line 3155, in create_op\n    op_def=op_def)\n  File \"/home/cocoan-gpu1/anaconda3/envs/tf3/lib/python3.6/site-packages/tensorflow/python/framework/ops.py\", line 1717, in __init__\n    self._traceback = tf_stack.extract_stack()\n\nResourceExhaustedError (see above for traceback): OOM when allocating tensor with shape[510340,256] and type float on /job:localhost/replica:0/task:0/device:GPU:0 by allocator GPU_0_bfc\n\t [[Node: dense/kernel/Initializer/random_uniform/RandomUniform = RandomUniform[T=DT_INT32, _class=[\"loc:@dense/kernel/Assign\"], dtype=DT_FLOAT, seed=0, seed2=0, _device=\"/job:localhost/replica:0/task:0/device:GPU:0\"](dense/kernel/Initializer/random_uniform/shape)]]\nHint: If you want to see a list of allocated tensors when OOM happens, add report_tensor_allocations_upon_oom to RunOptions for current allocation info.\n\n",
     "output_type": "error",
     "traceback": [
      "\u001b[0;31m---------------------------------------------------------------------------\u001b[0m",
      "\u001b[0;31mResourceExhaustedError\u001b[0m                    Traceback (most recent call last)",
      "\u001b[0;32m~/anaconda3/envs/tf3/lib/python3.6/site-packages/tensorflow/python/client/session.py\u001b[0m in \u001b[0;36m_do_call\u001b[0;34m(self, fn, *args)\u001b[0m\n\u001b[1;32m   1277\u001b[0m     \u001b[0;32mtry\u001b[0m\u001b[0;34m:\u001b[0m\u001b[0;34m\u001b[0m\u001b[0;34m\u001b[0m\u001b[0m\n\u001b[0;32m-> 1278\u001b[0;31m       \u001b[0;32mreturn\u001b[0m \u001b[0mfn\u001b[0m\u001b[0;34m(\u001b[0m\u001b[0;34m*\u001b[0m\u001b[0margs\u001b[0m\u001b[0;34m)\u001b[0m\u001b[0;34m\u001b[0m\u001b[0;34m\u001b[0m\u001b[0m\n\u001b[0m\u001b[1;32m   1279\u001b[0m     \u001b[0;32mexcept\u001b[0m \u001b[0merrors\u001b[0m\u001b[0;34m.\u001b[0m\u001b[0mOpError\u001b[0m \u001b[0;32mas\u001b[0m \u001b[0me\u001b[0m\u001b[0;34m:\u001b[0m\u001b[0;34m\u001b[0m\u001b[0;34m\u001b[0m\u001b[0m\n",
      "\u001b[0;32m~/anaconda3/envs/tf3/lib/python3.6/site-packages/tensorflow/python/client/session.py\u001b[0m in \u001b[0;36m_run_fn\u001b[0;34m(feed_dict, fetch_list, target_list, options, run_metadata)\u001b[0m\n\u001b[1;32m   1262\u001b[0m       return self._call_tf_sessionrun(\n\u001b[0;32m-> 1263\u001b[0;31m           options, feed_dict, fetch_list, target_list, run_metadata)\n\u001b[0m\u001b[1;32m   1264\u001b[0m \u001b[0;34m\u001b[0m\u001b[0m\n",
      "\u001b[0;32m~/anaconda3/envs/tf3/lib/python3.6/site-packages/tensorflow/python/client/session.py\u001b[0m in \u001b[0;36m_call_tf_sessionrun\u001b[0;34m(self, options, feed_dict, fetch_list, target_list, run_metadata)\u001b[0m\n\u001b[1;32m   1349\u001b[0m         \u001b[0mself\u001b[0m\u001b[0;34m.\u001b[0m\u001b[0m_session\u001b[0m\u001b[0;34m,\u001b[0m \u001b[0moptions\u001b[0m\u001b[0;34m,\u001b[0m \u001b[0mfeed_dict\u001b[0m\u001b[0;34m,\u001b[0m \u001b[0mfetch_list\u001b[0m\u001b[0;34m,\u001b[0m \u001b[0mtarget_list\u001b[0m\u001b[0;34m,\u001b[0m\u001b[0;34m\u001b[0m\u001b[0;34m\u001b[0m\u001b[0m\n\u001b[0;32m-> 1350\u001b[0;31m         run_metadata)\n\u001b[0m\u001b[1;32m   1351\u001b[0m \u001b[0;34m\u001b[0m\u001b[0m\n",
      "\u001b[0;31mResourceExhaustedError\u001b[0m: OOM when allocating tensor with shape[510340,256] and type float on /job:localhost/replica:0/task:0/device:GPU:0 by allocator GPU_0_bfc\n\t [[Node: dense/kernel/Initializer/random_uniform/RandomUniform = RandomUniform[T=DT_INT32, _class=[\"loc:@dense/kernel/Assign\"], dtype=DT_FLOAT, seed=0, seed2=0, _device=\"/job:localhost/replica:0/task:0/device:GPU:0\"](dense/kernel/Initializer/random_uniform/shape)]]\nHint: If you want to see a list of allocated tensors when OOM happens, add report_tensor_allocations_upon_oom to RunOptions for current allocation info.\n",
      "\nDuring handling of the above exception, another exception occurred:\n",
      "\u001b[0;31mResourceExhaustedError\u001b[0m                    Traceback (most recent call last)",
      "\u001b[0;32m<ipython-input-25-04e0c01cde22>\u001b[0m in \u001b[0;36m<module>\u001b[0;34m\u001b[0m\n\u001b[1;32m      5\u001b[0m         \u001b[0mt\u001b[0m \u001b[0;34m=\u001b[0m \u001b[0mi\u001b[0m\u001b[0;34m%\u001b[0m\u001b[0mt_cut\u001b[0m\u001b[0;34m\u001b[0m\u001b[0;34m\u001b[0m\u001b[0m\n\u001b[1;32m      6\u001b[0m \u001b[0;34m\u001b[0m\u001b[0m\n\u001b[0;32m----> 7\u001b[0;31m         \u001b[0msess\u001b[0m\u001b[0;34m.\u001b[0m\u001b[0mrun\u001b[0m\u001b[0;34m(\u001b[0m\u001b[0mtf\u001b[0m\u001b[0;34m.\u001b[0m\u001b[0mglobal_variables_initializer\u001b[0m\u001b[0;34m(\u001b[0m\u001b[0;34m)\u001b[0m\u001b[0;34m)\u001b[0m\u001b[0;34m\u001b[0m\u001b[0;34m\u001b[0m\u001b[0m\n\u001b[0m\u001b[1;32m      8\u001b[0m         \u001b[0msaver\u001b[0m \u001b[0;34m=\u001b[0m \u001b[0mtf\u001b[0m\u001b[0;34m.\u001b[0m\u001b[0mtrain\u001b[0m\u001b[0;34m.\u001b[0m\u001b[0mSaver\u001b[0m\u001b[0;34m(\u001b[0m\u001b[0;34m)\u001b[0m\u001b[0;34m\u001b[0m\u001b[0;34m\u001b[0m\u001b[0m\n\u001b[1;32m      9\u001b[0m \u001b[0;34m\u001b[0m\u001b[0m\n",
      "\u001b[0;32m~/anaconda3/envs/tf3/lib/python3.6/site-packages/tensorflow/python/client/session.py\u001b[0m in \u001b[0;36mrun\u001b[0;34m(self, fetches, feed_dict, options, run_metadata)\u001b[0m\n\u001b[1;32m    875\u001b[0m     \u001b[0;32mtry\u001b[0m\u001b[0;34m:\u001b[0m\u001b[0;34m\u001b[0m\u001b[0;34m\u001b[0m\u001b[0m\n\u001b[1;32m    876\u001b[0m       result = self._run(None, fetches, feed_dict, options_ptr,\n\u001b[0;32m--> 877\u001b[0;31m                          run_metadata_ptr)\n\u001b[0m\u001b[1;32m    878\u001b[0m       \u001b[0;32mif\u001b[0m \u001b[0mrun_metadata\u001b[0m\u001b[0;34m:\u001b[0m\u001b[0;34m\u001b[0m\u001b[0;34m\u001b[0m\u001b[0m\n\u001b[1;32m    879\u001b[0m         \u001b[0mproto_data\u001b[0m \u001b[0;34m=\u001b[0m \u001b[0mtf_session\u001b[0m\u001b[0;34m.\u001b[0m\u001b[0mTF_GetBuffer\u001b[0m\u001b[0;34m(\u001b[0m\u001b[0mrun_metadata_ptr\u001b[0m\u001b[0;34m)\u001b[0m\u001b[0;34m\u001b[0m\u001b[0;34m\u001b[0m\u001b[0m\n",
      "\u001b[0;32m~/anaconda3/envs/tf3/lib/python3.6/site-packages/tensorflow/python/client/session.py\u001b[0m in \u001b[0;36m_run\u001b[0;34m(self, handle, fetches, feed_dict, options, run_metadata)\u001b[0m\n\u001b[1;32m   1098\u001b[0m     \u001b[0;32mif\u001b[0m \u001b[0mfinal_fetches\u001b[0m \u001b[0;32mor\u001b[0m \u001b[0mfinal_targets\u001b[0m \u001b[0;32mor\u001b[0m \u001b[0;34m(\u001b[0m\u001b[0mhandle\u001b[0m \u001b[0;32mand\u001b[0m \u001b[0mfeed_dict_tensor\u001b[0m\u001b[0;34m)\u001b[0m\u001b[0;34m:\u001b[0m\u001b[0;34m\u001b[0m\u001b[0;34m\u001b[0m\u001b[0m\n\u001b[1;32m   1099\u001b[0m       results = self._do_run(handle, final_targets, final_fetches,\n\u001b[0;32m-> 1100\u001b[0;31m                              feed_dict_tensor, options, run_metadata)\n\u001b[0m\u001b[1;32m   1101\u001b[0m     \u001b[0;32melse\u001b[0m\u001b[0;34m:\u001b[0m\u001b[0;34m\u001b[0m\u001b[0;34m\u001b[0m\u001b[0m\n\u001b[1;32m   1102\u001b[0m       \u001b[0mresults\u001b[0m \u001b[0;34m=\u001b[0m \u001b[0;34m[\u001b[0m\u001b[0;34m]\u001b[0m\u001b[0;34m\u001b[0m\u001b[0;34m\u001b[0m\u001b[0m\n",
      "\u001b[0;32m~/anaconda3/envs/tf3/lib/python3.6/site-packages/tensorflow/python/client/session.py\u001b[0m in \u001b[0;36m_do_run\u001b[0;34m(self, handle, target_list, fetch_list, feed_dict, options, run_metadata)\u001b[0m\n\u001b[1;32m   1270\u001b[0m     \u001b[0;32mif\u001b[0m \u001b[0mhandle\u001b[0m \u001b[0;32mis\u001b[0m \u001b[0;32mNone\u001b[0m\u001b[0;34m:\u001b[0m\u001b[0;34m\u001b[0m\u001b[0;34m\u001b[0m\u001b[0m\n\u001b[1;32m   1271\u001b[0m       return self._do_call(_run_fn, feeds, fetches, targets, options,\n\u001b[0;32m-> 1272\u001b[0;31m                            run_metadata)\n\u001b[0m\u001b[1;32m   1273\u001b[0m     \u001b[0;32melse\u001b[0m\u001b[0;34m:\u001b[0m\u001b[0;34m\u001b[0m\u001b[0;34m\u001b[0m\u001b[0m\n\u001b[1;32m   1274\u001b[0m       \u001b[0;32mreturn\u001b[0m \u001b[0mself\u001b[0m\u001b[0;34m.\u001b[0m\u001b[0m_do_call\u001b[0m\u001b[0;34m(\u001b[0m\u001b[0m_prun_fn\u001b[0m\u001b[0;34m,\u001b[0m \u001b[0mhandle\u001b[0m\u001b[0;34m,\u001b[0m \u001b[0mfeeds\u001b[0m\u001b[0;34m,\u001b[0m \u001b[0mfetches\u001b[0m\u001b[0;34m)\u001b[0m\u001b[0;34m\u001b[0m\u001b[0;34m\u001b[0m\u001b[0m\n",
      "\u001b[0;32m~/anaconda3/envs/tf3/lib/python3.6/site-packages/tensorflow/python/client/session.py\u001b[0m in \u001b[0;36m_do_call\u001b[0;34m(self, fn, *args)\u001b[0m\n\u001b[1;32m   1289\u001b[0m         \u001b[0;32mexcept\u001b[0m \u001b[0mKeyError\u001b[0m\u001b[0;34m:\u001b[0m\u001b[0;34m\u001b[0m\u001b[0;34m\u001b[0m\u001b[0m\n\u001b[1;32m   1290\u001b[0m           \u001b[0;32mpass\u001b[0m\u001b[0;34m\u001b[0m\u001b[0;34m\u001b[0m\u001b[0m\n\u001b[0;32m-> 1291\u001b[0;31m       \u001b[0;32mraise\u001b[0m \u001b[0mtype\u001b[0m\u001b[0;34m(\u001b[0m\u001b[0me\u001b[0m\u001b[0;34m)\u001b[0m\u001b[0;34m(\u001b[0m\u001b[0mnode_def\u001b[0m\u001b[0;34m,\u001b[0m \u001b[0mop\u001b[0m\u001b[0;34m,\u001b[0m \u001b[0mmessage\u001b[0m\u001b[0;34m)\u001b[0m\u001b[0;34m\u001b[0m\u001b[0;34m\u001b[0m\u001b[0m\n\u001b[0m\u001b[1;32m   1292\u001b[0m \u001b[0;34m\u001b[0m\u001b[0m\n\u001b[1;32m   1293\u001b[0m   \u001b[0;32mdef\u001b[0m \u001b[0m_extend_graph\u001b[0m\u001b[0;34m(\u001b[0m\u001b[0mself\u001b[0m\u001b[0;34m)\u001b[0m\u001b[0;34m:\u001b[0m\u001b[0;34m\u001b[0m\u001b[0;34m\u001b[0m\u001b[0m\n",
      "\u001b[0;31mResourceExhaustedError\u001b[0m: OOM when allocating tensor with shape[510340,256] and type float on /job:localhost/replica:0/task:0/device:GPU:0 by allocator GPU_0_bfc\n\t [[Node: dense/kernel/Initializer/random_uniform/RandomUniform = RandomUniform[T=DT_INT32, _class=[\"loc:@dense/kernel/Assign\"], dtype=DT_FLOAT, seed=0, seed2=0, _device=\"/job:localhost/replica:0/task:0/device:GPU:0\"](dense/kernel/Initializer/random_uniform/shape)]]\nHint: If you want to see a list of allocated tensors when OOM happens, add report_tensor_allocations_upon_oom to RunOptions for current allocation info.\n\n\nCaused by op 'dense/kernel/Initializer/random_uniform/RandomUniform', defined at:\n  File \"/home/cocoan-gpu1/anaconda3/envs/tf3/lib/python3.6/runpy.py\", line 193, in _run_module_as_main\n    \"__main__\", mod_spec)\n  File \"/home/cocoan-gpu1/anaconda3/envs/tf3/lib/python3.6/runpy.py\", line 85, in _run_code\n    exec(code, run_globals)\n  File \"/home/cocoan-gpu1/anaconda3/envs/tf3/lib/python3.6/site-packages/ipykernel_launcher.py\", line 16, in <module>\n    app.launch_new_instance()\n  File \"/home/cocoan-gpu1/anaconda3/envs/tf3/lib/python3.6/site-packages/traitlets/config/application.py\", line 658, in launch_instance\n    app.start()\n  File \"/home/cocoan-gpu1/anaconda3/envs/tf3/lib/python3.6/site-packages/ipykernel/kernelapp.py\", line 505, in start\n    self.io_loop.start()\n  File \"/home/cocoan-gpu1/anaconda3/envs/tf3/lib/python3.6/site-packages/tornado/platform/asyncio.py\", line 148, in start\n    self.asyncio_loop.run_forever()\n  File \"/home/cocoan-gpu1/anaconda3/envs/tf3/lib/python3.6/asyncio/base_events.py\", line 438, in run_forever\n    self._run_once()\n  File \"/home/cocoan-gpu1/anaconda3/envs/tf3/lib/python3.6/asyncio/base_events.py\", line 1451, in _run_once\n    handle._run()\n  File \"/home/cocoan-gpu1/anaconda3/envs/tf3/lib/python3.6/asyncio/events.py\", line 145, in _run\n    self._callback(*self._args)\n  File \"/home/cocoan-gpu1/anaconda3/envs/tf3/lib/python3.6/site-packages/tornado/ioloop.py\", line 690, in <lambda>\n    lambda f: self._run_callback(functools.partial(callback, future))\n  File \"/home/cocoan-gpu1/anaconda3/envs/tf3/lib/python3.6/site-packages/tornado/ioloop.py\", line 743, in _run_callback\n    ret = callback()\n  File \"/home/cocoan-gpu1/anaconda3/envs/tf3/lib/python3.6/site-packages/tornado/gen.py\", line 781, in inner\n    self.run()\n  File \"/home/cocoan-gpu1/anaconda3/envs/tf3/lib/python3.6/site-packages/tornado/gen.py\", line 742, in run\n    yielded = self.gen.send(value)\n  File \"/home/cocoan-gpu1/anaconda3/envs/tf3/lib/python3.6/site-packages/ipykernel/kernelbase.py\", line 357, in process_one\n    yield gen.maybe_future(dispatch(*args))\n  File \"/home/cocoan-gpu1/anaconda3/envs/tf3/lib/python3.6/site-packages/tornado/gen.py\", line 209, in wrapper\n    yielded = next(result)\n  File \"/home/cocoan-gpu1/anaconda3/envs/tf3/lib/python3.6/site-packages/ipykernel/kernelbase.py\", line 267, in dispatch_shell\n    yield gen.maybe_future(handler(stream, idents, msg))\n  File \"/home/cocoan-gpu1/anaconda3/envs/tf3/lib/python3.6/site-packages/tornado/gen.py\", line 209, in wrapper\n    yielded = next(result)\n  File \"/home/cocoan-gpu1/anaconda3/envs/tf3/lib/python3.6/site-packages/ipykernel/kernelbase.py\", line 534, in execute_request\n    user_expressions, allow_stdin,\n  File \"/home/cocoan-gpu1/anaconda3/envs/tf3/lib/python3.6/site-packages/tornado/gen.py\", line 209, in wrapper\n    yielded = next(result)\n  File \"/home/cocoan-gpu1/anaconda3/envs/tf3/lib/python3.6/site-packages/ipykernel/ipkernel.py\", line 294, in do_execute\n    res = shell.run_cell(code, store_history=store_history, silent=silent)\n  File \"/home/cocoan-gpu1/anaconda3/envs/tf3/lib/python3.6/site-packages/ipykernel/zmqshell.py\", line 536, in run_cell\n    return super(ZMQInteractiveShell, self).run_cell(*args, **kwargs)\n  File \"/home/cocoan-gpu1/anaconda3/envs/tf3/lib/python3.6/site-packages/IPython/core/interactiveshell.py\", line 2843, in run_cell\n    raw_cell, store_history, silent, shell_futures)\n  File \"/home/cocoan-gpu1/anaconda3/envs/tf3/lib/python3.6/site-packages/IPython/core/interactiveshell.py\", line 2869, in _run_cell\n    return runner(coro)\n  File \"/home/cocoan-gpu1/anaconda3/envs/tf3/lib/python3.6/site-packages/IPython/core/async_helpers.py\", line 67, in _pseudo_sync_runner\n    coro.send(None)\n  File \"/home/cocoan-gpu1/anaconda3/envs/tf3/lib/python3.6/site-packages/IPython/core/interactiveshell.py\", line 3044, in run_cell_async\n    interactivity=interactivity, compiler=compiler, result=result)\n  File \"/home/cocoan-gpu1/anaconda3/envs/tf3/lib/python3.6/site-packages/IPython/core/interactiveshell.py\", line 3209, in run_ast_nodes\n    if (yield from self.run_code(code, result)):\n  File \"/home/cocoan-gpu1/anaconda3/envs/tf3/lib/python3.6/site-packages/IPython/core/interactiveshell.py\", line 3291, in run_code\n    exec(code_obj, self.user_global_ns, self.user_ns)\n  File \"<ipython-input-23-dc719941a9fb>\", line 9, in <module>\n    layer_1 = tf.layers.dense(x, 256)\n  File \"/home/cocoan-gpu1/anaconda3/envs/tf3/lib/python3.6/site-packages/tensorflow/python/layers/core.py\", line 189, in dense\n    return layer.apply(inputs)\n  File \"/home/cocoan-gpu1/anaconda3/envs/tf3/lib/python3.6/site-packages/tensorflow/python/keras/engine/base_layer.py\", line 805, in apply\n    return self.__call__(inputs, *args, **kwargs)\n  File \"/home/cocoan-gpu1/anaconda3/envs/tf3/lib/python3.6/site-packages/tensorflow/python/layers/base.py\", line 362, in __call__\n    outputs = super(Layer, self).__call__(inputs, *args, **kwargs)\n  File \"/home/cocoan-gpu1/anaconda3/envs/tf3/lib/python3.6/site-packages/tensorflow/python/keras/engine/base_layer.py\", line 728, in __call__\n    self.build(input_shapes)\n  File \"/home/cocoan-gpu1/anaconda3/envs/tf3/lib/python3.6/site-packages/tensorflow/python/keras/layers/core.py\", line 917, in build\n    trainable=True)\n  File \"/home/cocoan-gpu1/anaconda3/envs/tf3/lib/python3.6/site-packages/tensorflow/python/layers/base.py\", line 276, in add_weight\n    getter=vs.get_variable)\n  File \"/home/cocoan-gpu1/anaconda3/envs/tf3/lib/python3.6/site-packages/tensorflow/python/keras/engine/base_layer.py\", line 565, in add_weight\n    aggregation=aggregation)\n  File \"/home/cocoan-gpu1/anaconda3/envs/tf3/lib/python3.6/site-packages/tensorflow/python/training/checkpointable/base.py\", line 535, in _add_variable_with_custom_getter\n    **kwargs_for_getter)\n  File \"/home/cocoan-gpu1/anaconda3/envs/tf3/lib/python3.6/site-packages/tensorflow/python/ops/variable_scope.py\", line 1467, in get_variable\n    aggregation=aggregation)\n  File \"/home/cocoan-gpu1/anaconda3/envs/tf3/lib/python3.6/site-packages/tensorflow/python/ops/variable_scope.py\", line 1217, in get_variable\n    aggregation=aggregation)\n  File \"/home/cocoan-gpu1/anaconda3/envs/tf3/lib/python3.6/site-packages/tensorflow/python/ops/variable_scope.py\", line 527, in get_variable\n    aggregation=aggregation)\n  File \"/home/cocoan-gpu1/anaconda3/envs/tf3/lib/python3.6/site-packages/tensorflow/python/ops/variable_scope.py\", line 481, in _true_getter\n    aggregation=aggregation)\n  File \"/home/cocoan-gpu1/anaconda3/envs/tf3/lib/python3.6/site-packages/tensorflow/python/ops/variable_scope.py\", line 903, in _get_single_variable\n    aggregation=aggregation)\n  File \"/home/cocoan-gpu1/anaconda3/envs/tf3/lib/python3.6/site-packages/tensorflow/python/ops/variable_scope.py\", line 2443, in variable\n    aggregation=aggregation)\n  File \"/home/cocoan-gpu1/anaconda3/envs/tf3/lib/python3.6/site-packages/tensorflow/python/ops/variable_scope.py\", line 2425, in <lambda>\n    previous_getter = lambda **kwargs: default_variable_creator(None, **kwargs)\n  File \"/home/cocoan-gpu1/anaconda3/envs/tf3/lib/python3.6/site-packages/tensorflow/python/ops/variable_scope.py\", line 2406, in default_variable_creator\n    constraint=constraint)\n  File \"/home/cocoan-gpu1/anaconda3/envs/tf3/lib/python3.6/site-packages/tensorflow/python/ops/variables.py\", line 259, in __init__\n    constraint=constraint)\n  File \"/home/cocoan-gpu1/anaconda3/envs/tf3/lib/python3.6/site-packages/tensorflow/python/ops/variables.py\", line 368, in _init_from_args\n    initial_value(), name=\"initial_value\", dtype=dtype)\n  File \"/home/cocoan-gpu1/anaconda3/envs/tf3/lib/python3.6/site-packages/tensorflow/python/ops/variable_scope.py\", line 885, in <lambda>\n    shape.as_list(), dtype=dtype, partition_info=partition_info)\n  File \"/home/cocoan-gpu1/anaconda3/envs/tf3/lib/python3.6/site-packages/tensorflow/python/ops/init_ops.py\", line 489, in __call__\n    shape, -limit, limit, dtype, seed=self.seed)\n  File \"/home/cocoan-gpu1/anaconda3/envs/tf3/lib/python3.6/site-packages/tensorflow/python/ops/random_ops.py\", line 242, in random_uniform\n    rnd = gen_random_ops.random_uniform(shape, dtype, seed=seed1, seed2=seed2)\n  File \"/home/cocoan-gpu1/anaconda3/envs/tf3/lib/python3.6/site-packages/tensorflow/python/ops/gen_random_ops.py\", line 732, in random_uniform\n    name=name)\n  File \"/home/cocoan-gpu1/anaconda3/envs/tf3/lib/python3.6/site-packages/tensorflow/python/framework/op_def_library.py\", line 787, in _apply_op_helper\n    op_def=op_def)\n  File \"/home/cocoan-gpu1/anaconda3/envs/tf3/lib/python3.6/site-packages/tensorflow/python/util/deprecation.py\", line 454, in new_func\n    return func(*args, **kwargs)\n  File \"/home/cocoan-gpu1/anaconda3/envs/tf3/lib/python3.6/site-packages/tensorflow/python/framework/ops.py\", line 3155, in create_op\n    op_def=op_def)\n  File \"/home/cocoan-gpu1/anaconda3/envs/tf3/lib/python3.6/site-packages/tensorflow/python/framework/ops.py\", line 1717, in __init__\n    self._traceback = tf_stack.extract_stack()\n\nResourceExhaustedError (see above for traceback): OOM when allocating tensor with shape[510340,256] and type float on /job:localhost/replica:0/task:0/device:GPU:0 by allocator GPU_0_bfc\n\t [[Node: dense/kernel/Initializer/random_uniform/RandomUniform = RandomUniform[T=DT_INT32, _class=[\"loc:@dense/kernel/Assign\"], dtype=DT_FLOAT, seed=0, seed2=0, _device=\"/job:localhost/replica:0/task:0/device:GPU:0\"](dense/kernel/Initializer/random_uniform/shape)]]\nHint: If you want to see a list of allocated tensors when OOM happens, add report_tensor_allocations_upon_oom to RunOptions for current allocation info.\n\n"
     ]
    }
   ],
   "source": [
    "with tf.Session() as sess:\n",
    "    \n",
    "    for i in range(step_size):\n",
    "        j = i%j_cut\n",
    "        t = i%t_cut\n",
    "        \n",
    "        sess.run(tf.global_variables_initializer())\n",
    "        saver = tf.train.Saver()\n",
    "\n",
    "        r2 = R_squared(y_true, y_pred)\n",
    "        _, train_mse, train_r2 = sess.run([train, mse, r2], feed_dict={x: X_train[j*step_data_num:j*step_data_num+step_data_num], \n",
    "                                                           y_true: y_train[j*step_data_num:j*step_data_num+step_data_num], \n",
    "                                                           hold_prob: 0.5, is_train:True})\n",
    "\n",
    "        test_mse, test_r2= sess.run([mse, r2], feed_dict={x: X_test[t*step_data_num:t*step_data_num+step_data_num], y_true: y_test[t*step_data_num:t*step_data_num+step_data_num], is_train:False})\n",
    "\n",
    "        print('Currently on step {}'.format(i))\n",
    "        print('##Train mse is: {}'.format(train_mse))\n",
    "        print('##Train r2 is: {}'.format(train_r2))\n",
    "\n",
    "        print('##Test mse is: {}'.format(test_mse))\n",
    "        print('##Test r2 is: {}'.format(test_r2))\n",
    "        print('\\n')      "
   ]
  },
  {
   "cell_type": "code",
   "execution_count": null,
   "metadata": {},
   "outputs": [],
   "source": []
  },
  {
   "cell_type": "code",
   "execution_count": null,
   "metadata": {},
   "outputs": [],
   "source": []
  }
 ],
 "metadata": {
  "kernelspec": {
   "display_name": "tf3",
   "language": "python",
   "name": "tf3"
  },
  "language_info": {
   "codemirror_mode": {
    "name": "ipython",
    "version": 3
   },
   "file_extension": ".py",
   "mimetype": "text/x-python",
   "name": "python",
   "nbconvert_exporter": "python",
   "pygments_lexer": "ipython3",
   "version": "3.6.8"
  }
 },
 "nbformat": 4,
 "nbformat_minor": 2
}
