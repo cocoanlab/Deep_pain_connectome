{
 "cells": [
  {
   "cell_type": "code",
   "execution_count": 1,
   "metadata": {},
   "outputs": [],
   "source": [
    "import numpy as np\n",
    "import pandas as pd\n",
    "import matplotlib.pyplot as plt\n",
    "import seaborn as sns\n",
    "import tensorflow as tf\n",
    "import nibabel as nib\n",
    "import cv2\n",
    "from mlxtend.preprocessing import one_hot\n",
    "import timeit\n",
    "from random import shuffle\n",
    "from MPC_tools import *\n",
    "from layers import *\n",
    "\n",
    "from sklearn.model_selection import train_test_split\n",
    "from sklearn.metrics import classification_report\n",
    "from sklearn.metrics import confusion_matrix\n",
    "\n",
    "\n",
    "%matplotlib inline"
   ]
  },
  {
   "cell_type": "code",
   "execution_count": 2,
   "metadata": {},
   "outputs": [],
   "source": [
    "X_train_dir = '/home/cocoan-gpu1/D_drive/MPC/data/SEMIC/SEMIC_sub1to55_num1to50_stim_control_flatten.npy'\n",
    "Y_train_dir = '/home/cocoan-gpu1/D_drive/MPC/data/SEMIC/SEMIC_sub1to55_num1to50_stim_control_pandas.csv'\n",
    "X_test_dir = '/home/cocoan-gpu1/D_drive/MPC/data/SEMIC/SEMIC_sub56to59_num1to50_stim_control_flatten.npy'\n",
    "Y_test_dir = '/home/cocoan-gpu1/D_drive/MPC/data/SEMIC/SEMIC_sub56to59_num1to50_stim_control_pandas.csv'"
   ]
  },
  {
   "cell_type": "code",
   "execution_count": 3,
   "metadata": {},
   "outputs": [
    {
     "name": "stdout",
     "output_type": "stream",
     "text": [
      "Loading /home/cocoan-gpu1/D_drive/MPC/data/SEMIC/SEMIC_sub1to55_num1to50_stim_control_flatten.npy data started ... \n",
      "###  Duration Time  : 0 minutes   3 seconds      ###\n",
      "###  Excecuted Time : 2019-04-18 18:15:38.490173     ###\n",
      "X shape is (5500, 592895)\n",
      "\n",
      "\n"
     ]
    }
   ],
   "source": [
    "print(\"Loading {} data started ... \".format(X_train_dir))\n",
    "\n",
    "start = timeit.default_timer()\n",
    "\n",
    "X = np.load(X_train_dir)\n",
    "\n",
    "stop = timeit.default_timer()\n",
    "check_time = stop-start\n",
    "now = datetime.datetime.now()\n",
    "print(\"###  Duration Time  : {} minutes   {} seconds      ###\".format(int(check_time)//60, int(check_time)%60))\n",
    "print(\"###  Excecuted Time : {}     ###\".format(now))\n",
    "print(\"X shape is {}\".format(X.shape))\n",
    "print('\\n')"
   ]
  },
  {
   "cell_type": "code",
   "execution_count": 4,
   "metadata": {},
   "outputs": [
    {
     "name": "stdout",
     "output_type": "stream",
     "text": [
      "Loading /home/cocoan-gpu1/D_drive/MPC/data/SEMIC/SEMIC_sub56to59_num1to50_stim_control_flatten.npy data started ... \n",
      "###  Duration Time  : 0 minutes   0 seconds      ###\n",
      "###  Excecuted Time : 2019-04-18 18:15:38.756359     ###\n",
      "X shape is (400, 592895)\n",
      "\n",
      "\n"
     ]
    }
   ],
   "source": [
    "print(\"Loading {} data started ... \".format(X_test_dir))\n",
    "\n",
    "start = timeit.default_timer()\n",
    "\n",
    "X_test = np.load(X_test_dir)\n",
    "\n",
    "stop = timeit.default_timer()\n",
    "check_time = stop-start\n",
    "now = datetime.datetime.now()\n",
    "print(\"###  Duration Time  : {} minutes   {} seconds      ###\".format(int(check_time)//60, int(check_time)%60))\n",
    "print(\"###  Excecuted Time : {}     ###\".format(now))\n",
    "print(\"X shape is {}\".format(X_test.shape))\n",
    "print('\\n')"
   ]
  },
  {
   "cell_type": "code",
   "execution_count": 5,
   "metadata": {},
   "outputs": [
    {
     "data": {
      "text/plain": [
       "(400, 592895)"
      ]
     },
     "execution_count": 5,
     "metadata": {},
     "output_type": "execute_result"
    }
   ],
   "source": [
    "X_test.shape"
   ]
  },
  {
   "cell_type": "code",
   "execution_count": 6,
   "metadata": {},
   "outputs": [
    {
     "data": {
      "text/plain": [
       "(5500, 2)"
      ]
     },
     "execution_count": 6,
     "metadata": {},
     "output_type": "execute_result"
    }
   ],
   "source": [
    "Y = pd.read_csv(Y_train_dir)\n",
    "Y = Y['0']\n",
    "Y = np.array(Y, dtype='i4')\n",
    "Y = one_hot(Y)\n",
    "Y.shape"
   ]
  },
  {
   "cell_type": "code",
   "execution_count": 7,
   "metadata": {},
   "outputs": [
    {
     "data": {
      "text/plain": [
       "(400, 2)"
      ]
     },
     "execution_count": 7,
     "metadata": {},
     "output_type": "execute_result"
    }
   ],
   "source": [
    "Y_test = pd.read_csv(Y_test_dir)\n",
    "Y_test = Y_test['0']\n",
    "Y_test = np.array(Y_test, dtype='i4')\n",
    "Y_test = one_hot(Y_test)\n",
    "Y_test.shape"
   ]
  },
  {
   "cell_type": "code",
   "execution_count": 8,
   "metadata": {},
   "outputs": [],
   "source": [
    "index = np.arange(0,X.shape[0])\n",
    "np.random.shuffle(index)"
   ]
  },
  {
   "cell_type": "code",
   "execution_count": 9,
   "metadata": {},
   "outputs": [],
   "source": [
    "X = X[index,:]\n",
    "Y = Y[index,:]"
   ]
  },
  {
   "cell_type": "code",
   "execution_count": 10,
   "metadata": {},
   "outputs": [
    {
     "data": {
      "text/plain": [
       "(5500, 592895)"
      ]
     },
     "execution_count": 10,
     "metadata": {},
     "output_type": "execute_result"
    }
   ],
   "source": [
    "X.shape"
   ]
  },
  {
   "cell_type": "code",
   "execution_count": 11,
   "metadata": {},
   "outputs": [],
   "source": [
    "index_test = np.arange(0,X_test.shape[0])\n",
    "np.random.shuffle(index_test)"
   ]
  },
  {
   "cell_type": "code",
   "execution_count": 12,
   "metadata": {},
   "outputs": [],
   "source": [
    "X_test = X_test[index_test,:]\n",
    "Y_test = Y_test[index_test,:]"
   ]
  },
  {
   "cell_type": "code",
   "execution_count": 14,
   "metadata": {},
   "outputs": [
    {
     "data": {
      "text/plain": [
       "(5500, 79, 95, 79)"
      ]
     },
     "execution_count": 14,
     "metadata": {},
     "output_type": "execute_result"
    }
   ],
   "source": [
    "X = X.reshape((5500, 79, 95, 79))\n",
    "X.shape"
   ]
  },
  {
   "cell_type": "code",
   "execution_count": 16,
   "metadata": {},
   "outputs": [
    {
     "data": {
      "text/plain": [
       "(400, 79, 95, 79)"
      ]
     },
     "execution_count": 16,
     "metadata": {},
     "output_type": "execute_result"
    }
   ],
   "source": [
    "X_test = X_test.reshape((400, 79, 95, 79))\n",
    "X_test.shape"
   ]
  },
  {
   "cell_type": "code",
   "execution_count": 17,
   "metadata": {},
   "outputs": [],
   "source": [
    "X = X[:,:,:,:,np.newaxis]"
   ]
  },
  {
   "cell_type": "code",
   "execution_count": 18,
   "metadata": {},
   "outputs": [],
   "source": [
    "X_test = X_test[:,:,:,:,np.newaxis]"
   ]
  },
  {
   "cell_type": "code",
   "execution_count": 70,
   "metadata": {},
   "outputs": [
    {
     "data": {
      "text/plain": [
       "(5500, 79, 95, 79, 1)"
      ]
     },
     "execution_count": 70,
     "metadata": {},
     "output_type": "execute_result"
    }
   ],
   "source": [
    "X.shape"
   ]
  },
  {
   "cell_type": "code",
   "execution_count": 71,
   "metadata": {},
   "outputs": [
    {
     "data": {
      "text/plain": [
       "(400, 79, 95, 79, 1)"
      ]
     },
     "execution_count": 71,
     "metadata": {},
     "output_type": "execute_result"
    }
   ],
   "source": [
    "X_test.shape"
   ]
  },
  {
   "cell_type": "markdown",
   "metadata": {},
   "source": [
    "# Making tensorflow graph"
   ]
  },
  {
   "cell_type": "code",
   "execution_count": 72,
   "metadata": {},
   "outputs": [],
   "source": [
    "def init_weights(shape):\n",
    "    init_random_dist = tf.truncated_normal(shape, stddev=0.1)\n",
    "    return tf.Variable(init_random_dist)\n",
    "\n",
    "def init_bias(shape):\n",
    "    init_bias_vals = tf.constant(0.1, shape=shape)\n",
    "    return tf.Variable(init_bias_vals)\n",
    "\n",
    "def conv3d(x, W, strides=[1, 1, 1, 1, 1]):\n",
    "    return tf.nn.conv3d(x, W, strides, padding='SAME')\n",
    "\n",
    "def max_pool_2by2(x):\n",
    "    return tf.nn.max_pool3d(x, ksize=[1, 2, 2, 2, 1],\n",
    "                          strides=[1, 2, 2, 2, 1], padding='SAME')\n",
    "\n",
    "def convolutional_layer(input_x, strides, shape):\n",
    "    W = init_weights(shape)\n",
    "    b = init_bias([shape[4]])\n",
    "    return tf.nn.relu(conv3d(input_x, W, strides) + b)\n",
    "\n",
    "\n",
    "def normal_full_layer(input_layer, size):\n",
    "    input_size = int(input_layer.get_shape()[1])\n",
    "    W = init_weights([input_size, size])\n",
    "    b = init_bias([size])\n",
    "    return tf.matmul(input_layer, W) + b\n",
    "\n",
    "def batch_norm(data, is_train, name=None):\n",
    "    return tf.layers.batch_normalization(data, training=is_train, name=name)"
   ]
  },
  {
   "cell_type": "code",
   "execution_count": 89,
   "metadata": {},
   "outputs": [],
   "source": [
    "x = tf.placeholder(tf.float32,shape=[None, 79,95,79,1])\n",
    "y_true = tf.placeholder(tf.float32,shape=[None,2])\n",
    "is_train = tf.placeholder(tf.bool)\n",
    "hold_prob = tf.placeholder(tf.float32)"
   ]
  },
  {
   "cell_type": "code",
   "execution_count": 90,
   "metadata": {},
   "outputs": [],
   "source": [
    "convo_1 = convolutional_layer(x,strides = [1, 2, 2, 2, 1], shape=[4,4,4,1,16])\n",
    "convo_1 = convolutional_layer(convo_1,strides = [1, 2, 2, 2, 1], shape=[4,4,4,16,32])\n",
    "convo_1_bath_norm = batch_norm(convo_1, is_train, name=None)"
   ]
  },
  {
   "cell_type": "code",
   "execution_count": 91,
   "metadata": {},
   "outputs": [],
   "source": [
    "convo_2 = convolutional_layer(convo_1_bath_norm, strides = [1, 1, 1, 1, 1], shape=[4,4,4,32,64])\n",
    "convo_2_pooling = max_pool_2by2(convo_2)\n",
    "convo_2_bath_norm = batch_norm(convo_2_pooling, is_train, name=None)"
   ]
  },
  {
   "cell_type": "code",
   "execution_count": 92,
   "metadata": {},
   "outputs": [],
   "source": [
    "convo_2_flat = tf.reshape(convo_2_bath_norm,[-1,10*12*10*64])\n",
    "full_layer_1 = tf.layers.dense(convo_2_flat, 512)\n",
    "full_layer_1_relu = tf.nn.relu(full_layer_1)"
   ]
  },
  {
   "cell_type": "code",
   "execution_count": 93,
   "metadata": {},
   "outputs": [],
   "source": [
    "full_layer_2 = tf.layers.dense(full_layer_1_relu, 2)\n",
    "full_layer_2_sigmoid = tf.nn.sigmoid(full_layer_2)"
   ]
  },
  {
   "cell_type": "code",
   "execution_count": 94,
   "metadata": {},
   "outputs": [],
   "source": [
    "y_pred = full_layer_2_sigmoid"
   ]
  },
  {
   "cell_type": "code",
   "execution_count": 110,
   "metadata": {},
   "outputs": [],
   "source": [
    "cross_entropy = tf.reduce_mean(tf.nn.softmax_cross_entropy_with_logits(labels=y_true,logits=y_pred))\n",
    "#cross_entropy = tf.reduce_mean(tf.losses.softmax_cross_entropy(y_true,y_pred))\n",
    "#cross_entropy = tf.reduce_mean(tf.losses.sigmoid_cross_entropy(y_true,y_pred))\n",
    "#mse = tf.losses.mean_squared_error(y_true, y_pred)\n",
    "learning_rate = 1e-1\n",
    "optimizer = tf.train.AdamOptimizer(learning_rate)\n",
    "train = optimizer.minimize(cross_entropy)\n",
    "#init = tf.global_variables_initializer()"
   ]
  },
  {
   "cell_type": "markdown",
   "metadata": {},
   "source": [
    "# data count\n",
    "\n",
    "total data = 4542\n",
    "\n",
    "train data = 3633\n",
    "\n",
    "validation data = 909"
   ]
  },
  {
   "cell_type": "code",
   "execution_count": 112,
   "metadata": {},
   "outputs": [],
   "source": [
    "step_size = 10000"
   ]
  },
  {
   "cell_type": "code",
   "execution_count": 97,
   "metadata": {},
   "outputs": [
    {
     "name": "stdout",
     "output_type": "stream",
     "text": [
      "* * * * * * * * * * * * *\n",
      "Currently on step 0\n",
      "##Train Cross entropy is: 0.6992686986923218\n",
      "##Train Accuracy is: 0.5799999833106995\n",
      "\n",
      "\n",
      "##Validation Cross entropy is: 0.7698889970779419\n",
      "##Validation Accuracy is: 0.46000000834465027\n",
      "* * * * * * * * * * * * *\n",
      "\n",
      "\n",
      "* * * * * * * * * * * * *\n",
      "Currently on step 10\n",
      "##Train Cross entropy is: 0.46678656339645386\n",
      "##Train Accuracy is: 0.8500000238418579\n",
      "\n",
      "\n",
      "##Validation Cross entropy is: 0.8532071113586426\n",
      "##Validation Accuracy is: 0.46000000834465027\n",
      "* * * * * * * * * * * * *\n",
      "\n",
      "\n",
      "* * * * * * * * * * * * *\n",
      "Currently on step 20\n",
      "##Train Cross entropy is: 0.43953680992126465\n",
      "##Train Accuracy is: 0.8899999856948853\n",
      "\n",
      "\n",
      "##Validation Cross entropy is: 0.8532311916351318\n",
      "##Validation Accuracy is: 0.46000000834465027\n",
      "* * * * * * * * * * * * *\n",
      "\n",
      "\n",
      "* * * * * * * * * * * * *\n",
      "Currently on step 30\n",
      "##Train Cross entropy is: 0.4376499056816101\n",
      "##Train Accuracy is: 0.8700000047683716\n",
      "\n",
      "\n",
      "##Validation Cross entropy is: 0.853210985660553\n",
      "##Validation Accuracy is: 0.46000000834465027\n",
      "* * * * * * * * * * * * *\n",
      "\n",
      "\n",
      "* * * * * * * * * * * * *\n",
      "Currently on step 40\n",
      "##Train Cross entropy is: 0.3836018443107605\n",
      "##Train Accuracy is: 0.9200000166893005\n",
      "\n",
      "\n",
      "##Validation Cross entropy is: 0.8529930114746094\n",
      "##Validation Accuracy is: 0.46000000834465027\n",
      "* * * * * * * * * * * * *\n",
      "\n",
      "\n",
      "* * * * * * * * * * * * *\n",
      "Currently on step 50\n",
      "##Train Cross entropy is: 0.4052581787109375\n",
      "##Train Accuracy is: 0.9100000262260437\n",
      "\n",
      "\n",
      "##Validation Cross entropy is: 0.8524044752120972\n",
      "##Validation Accuracy is: 0.46000000834465027\n",
      "* * * * * * * * * * * * *\n",
      "\n",
      "\n",
      "* * * * * * * * * * * * *\n",
      "Currently on step 60\n",
      "##Train Cross entropy is: 0.4228440821170807\n",
      "##Train Accuracy is: 0.9200000166893005\n",
      "\n",
      "\n",
      "##Validation Cross entropy is: 0.8517526388168335\n",
      "##Validation Accuracy is: 0.46000000834465027\n",
      "* * * * * * * * * * * * *\n",
      "\n",
      "\n",
      "* * * * * * * * * * * * *\n",
      "Currently on step 70\n",
      "##Train Cross entropy is: 0.4073267877101898\n",
      "##Train Accuracy is: 0.9300000071525574\n",
      "\n",
      "\n",
      "##Validation Cross entropy is: 0.8505086302757263\n",
      "##Validation Accuracy is: 0.46000000834465027\n",
      "* * * * * * * * * * * * *\n",
      "\n",
      "\n",
      "* * * * * * * * * * * * *\n",
      "Currently on step 80\n",
      "##Train Cross entropy is: 0.4325614869594574\n",
      "##Train Accuracy is: 0.9300000071525574\n",
      "\n",
      "\n",
      "##Validation Cross entropy is: 0.8493263125419617\n",
      "##Validation Accuracy is: 0.46000000834465027\n",
      "* * * * * * * * * * * * *\n",
      "\n",
      "\n",
      "* * * * * * * * * * * * *\n",
      "Currently on step 90\n",
      "##Train Cross entropy is: 0.3846707046031952\n",
      "##Train Accuracy is: 0.9100000262260437\n",
      "\n",
      "\n",
      "##Validation Cross entropy is: 0.8482859134674072\n",
      "##Validation Accuracy is: 0.46000000834465027\n",
      "* * * * * * * * * * * * *\n",
      "\n",
      "\n",
      "* * * * * * * * * * * * *\n",
      "Currently on step 96\n",
      "##Test Cross entropy is: 0.8296298980712891\n",
      "##Test Accuracy is: 0.47999998927116394\n",
      "* * * * * * * * * * * * *\n",
      "\n",
      "\n",
      "* * * * * * * * * * * * *\n",
      "Currently on step 97\n",
      "##Test Cross entropy is: 0.8690273761749268\n",
      "##Test Accuracy is: 0.4399999976158142\n",
      "* * * * * * * * * * * * *\n",
      "\n",
      "\n",
      "* * * * * * * * * * * * *\n",
      "Currently on step 98\n",
      "##Test Cross entropy is: 0.7205621600151062\n",
      "##Test Accuracy is: 0.5899999737739563\n",
      "* * * * * * * * * * * * *\n",
      "\n",
      "\n",
      "* * * * * * * * * * * * *\n",
      "Currently on step 99\n",
      "##Test Cross entropy is: 0.8196936249732971\n",
      "##Test Accuracy is: 0.49000000953674316\n",
      "* * * * * * * * * * * * *\n",
      "\n",
      "\n",
      "!!!!Finished!!!!\n",
      "###  Duration Time  : 1 minutes   8 seconds      ###\n",
      "###  Excecuted Time : 2019-04-18 18:32:11.151099     ###\n"
     ]
    }
   ],
   "source": [
    "train_acc_list = []\n",
    "train_entrop_list = []\n",
    "\n",
    "test_acc_list = []\n",
    "test_entrop_list = []\n",
    "\n",
    "validation_acc_list = []\n",
    "validataion_entrop_list = []\n",
    "\n",
    "step_list = []\n",
    "test_step_list = []\n",
    "\n",
    "lowest_loss = None\n",
    "\n",
    "with tf.Session() as sess:\n",
    "    sess.run(tf.global_variables_initializer())\n",
    "    saver = tf.train.Saver()\n",
    "    \n",
    "    subject_num = 1\n",
    "    start = timeit.default_timer()\n",
    "\n",
    "    for i in range(step_size):\n",
    "        matches = tf.equal(tf.argmax(y_pred,1),tf.argmax(y_true,1))\n",
    "        acc = tf.reduce_mean(tf.cast(matches,tf.float32))\n",
    "        \n",
    "        #training model\n",
    "        if i < step_size-4:\n",
    "            j = i%44\n",
    "            _, train_entropy, train_accuracy = sess.run([train, cross_entropy, acc], \n",
    "                                                        feed_dict={x: X[j*100:j*100+100], \n",
    "                                                        y_true: Y[j*100:j*100+100], \n",
    "                                                        is_train:True})\n",
    "\n",
    "            validation_entropy, validation_accuracy= sess.run([cross_entropy, acc],\n",
    "                                                              feed_dict={x: X[4400:4500], \n",
    "                                                              y_true: Y[4400:4500], \n",
    "                                                              is_train:False})\n",
    "            if i%10 == 0:\n",
    "                print(\"* * * * * * * * * * * * *\")\n",
    "                print('Currently on step {}'.format(i))\n",
    "                print('##Train Cross entropy is: {}'.format(train_entropy))\n",
    "                print('##Train Accuracy is: {}'.format(train_accuracy))\n",
    "                print('\\n')\n",
    "                print('##Validation Cross entropy is: {}'.format(validation_entropy))\n",
    "                print('##Validation Accuracy is: {}'.format(validation_accuracy))\n",
    "\n",
    "                print(\"* * * * * * * * * * * * *\")\n",
    "                print('\\n')\n",
    "                \n",
    "            train_acc_list.append(train_accuracy)\n",
    "            train_entrop_list.append(train_entropy)\n",
    "            \n",
    "            validation_acc_list.append(validation_accuracy)\n",
    "            validataion_entrop_list.append(validation_entropy)\n",
    "            \n",
    "            step_list.append(i)\n",
    "\n",
    "        #testing model\n",
    "        elif i >= step_size-4:\n",
    "            j = i%4\n",
    "            test_entropy, test_accuracy= sess.run([cross_entropy, acc],\n",
    "                                                  feed_dict={x:X_test[j*100:j*100+100], \n",
    "                                                             y_true:Y_test[j*100:j*100+100], \n",
    "                                                             is_train:False})\n",
    "\n",
    "            test_acc_list.append(test_accuracy)\n",
    "            test_entrop_list.append(test_entropy)\n",
    "            \n",
    "            test_step_list.append(i)\n",
    "            \n",
    "            if i%1 == 0:\n",
    "                print(\"* * * * * * * * * * * * *\")\n",
    "                print('Currently on step {}'.format(i))\n",
    "                print('##Test Cross entropy is: {}'.format(test_entropy))\n",
    "                print('##Test Accuracy is: {}'.format(test_accuracy))\n",
    "\n",
    "                print(\"* * * * * * * * * * * * *\")\n",
    "                print('\\n')\n",
    "                \n",
    "'''\n",
    "        if lowest_loss == None or lowest_loss > validation_entropy:\n",
    "            lowest_loss = validation_entropy\n",
    "            saver.save(sess, \"./model/MPC_dnn_basic_SEMIC_binary_classification_ver4.ckpt\")\n",
    "'''\n",
    "\n",
    "train_acc_list = np.array(train_acc_list)\n",
    "train_entrop_list = np.array(train_entrop_list)\n",
    "\n",
    "test_entrop_list = np.array(test_entrop_list)\n",
    "test_acc_list = np.array(test_acc_list)\n",
    "\n",
    "validation_acc_list = np.array(validation_acc_list)\n",
    "validataion_entrop_list = np.array(validataion_entrop_list)\n",
    "\n",
    "step_list = np.array(step_list)\n",
    "test_step_list = np.array(test_step_list)\n",
    "\n",
    "\n",
    "stop = timeit.default_timer()\n",
    "check_time = stop-start\n",
    "now = datetime.datetime.now()\n",
    "\n",
    "print(\"!!!!Finished!!!!\")\n",
    "print(\"###  Duration Time  : {} minutes   {} seconds      ###\".format(int(check_time)//60, int(check_time)%60))\n",
    "print(\"###  Excecuted Time : {}     ###\".format(now))"
   ]
  },
  {
   "cell_type": "code",
   "execution_count": null,
   "metadata": {
    "scrolled": true
   },
   "outputs": [],
   "source": []
  },
  {
   "cell_type": "markdown",
   "metadata": {},
   "source": [
    "# Visualize result"
   ]
  },
  {
   "cell_type": "code",
   "execution_count": 98,
   "metadata": {},
   "outputs": [
    {
     "data": {
      "text/html": [
       "<div>\n",
       "<style scoped>\n",
       "    .dataframe tbody tr th:only-of-type {\n",
       "        vertical-align: middle;\n",
       "    }\n",
       "\n",
       "    .dataframe tbody tr th {\n",
       "        vertical-align: top;\n",
       "    }\n",
       "\n",
       "    .dataframe thead th {\n",
       "        text-align: right;\n",
       "    }\n",
       "</style>\n",
       "<table border=\"1\" class=\"dataframe\">\n",
       "  <thead>\n",
       "    <tr style=\"text-align: right;\">\n",
       "      <th></th>\n",
       "      <th>train_acc_list</th>\n",
       "      <th>validation_acc_list</th>\n",
       "      <th>train_entrop_list</th>\n",
       "      <th>validation_entrop_list</th>\n",
       "      <th>step</th>\n",
       "    </tr>\n",
       "  </thead>\n",
       "  <tbody>\n",
       "    <tr>\n",
       "      <th>0</th>\n",
       "      <td>0.58</td>\n",
       "      <td>0.46</td>\n",
       "      <td>0.699269</td>\n",
       "      <td>0.769889</td>\n",
       "      <td>0</td>\n",
       "    </tr>\n",
       "    <tr>\n",
       "      <th>1</th>\n",
       "      <td>0.63</td>\n",
       "      <td>0.46</td>\n",
       "      <td>0.642906</td>\n",
       "      <td>0.833839</td>\n",
       "      <td>1</td>\n",
       "    </tr>\n",
       "    <tr>\n",
       "      <th>2</th>\n",
       "      <td>0.80</td>\n",
       "      <td>0.46</td>\n",
       "      <td>0.543382</td>\n",
       "      <td>0.848624</td>\n",
       "      <td>2</td>\n",
       "    </tr>\n",
       "    <tr>\n",
       "      <th>3</th>\n",
       "      <td>0.86</td>\n",
       "      <td>0.46</td>\n",
       "      <td>0.519691</td>\n",
       "      <td>0.851800</td>\n",
       "      <td>3</td>\n",
       "    </tr>\n",
       "    <tr>\n",
       "      <th>4</th>\n",
       "      <td>0.75</td>\n",
       "      <td>0.46</td>\n",
       "      <td>0.555786</td>\n",
       "      <td>0.852625</td>\n",
       "      <td>4</td>\n",
       "    </tr>\n",
       "  </tbody>\n",
       "</table>\n",
       "</div>"
      ],
      "text/plain": [
       "   train_acc_list  validation_acc_list  train_entrop_list  \\\n",
       "0            0.58                 0.46           0.699269   \n",
       "1            0.63                 0.46           0.642906   \n",
       "2            0.80                 0.46           0.543382   \n",
       "3            0.86                 0.46           0.519691   \n",
       "4            0.75                 0.46           0.555786   \n",
       "\n",
       "   validation_entrop_list  step  \n",
       "0                0.769889     0  \n",
       "1                0.833839     1  \n",
       "2                0.848624     2  \n",
       "3                0.851800     3  \n",
       "4                0.852625     4  "
      ]
     },
     "execution_count": 98,
     "metadata": {},
     "output_type": "execute_result"
    }
   ],
   "source": [
    "result_list = pd.DataFrame({\"train_acc_list\":train_acc_list,\"validation_acc_list\":validation_acc_list,\n",
    "                            \"train_entrop_list\":train_entrop_list,\"validation_entrop_list\":validataion_entrop_list,\n",
    "                            \"step\":step_list})\n",
    "result_list.head()"
   ]
  },
  {
   "cell_type": "code",
   "execution_count": 99,
   "metadata": {},
   "outputs": [
    {
     "data": {
      "text/html": [
       "<div>\n",
       "<style scoped>\n",
       "    .dataframe tbody tr th:only-of-type {\n",
       "        vertical-align: middle;\n",
       "    }\n",
       "\n",
       "    .dataframe tbody tr th {\n",
       "        vertical-align: top;\n",
       "    }\n",
       "\n",
       "    .dataframe thead th {\n",
       "        text-align: right;\n",
       "    }\n",
       "</style>\n",
       "<table border=\"1\" class=\"dataframe\">\n",
       "  <thead>\n",
       "    <tr style=\"text-align: right;\">\n",
       "      <th></th>\n",
       "      <th>test_acc_list</th>\n",
       "      <th>test_entrop_list</th>\n",
       "      <th>test_step</th>\n",
       "    </tr>\n",
       "  </thead>\n",
       "  <tbody>\n",
       "    <tr>\n",
       "      <th>0</th>\n",
       "      <td>0.48</td>\n",
       "      <td>0.829630</td>\n",
       "      <td>96</td>\n",
       "    </tr>\n",
       "    <tr>\n",
       "      <th>1</th>\n",
       "      <td>0.44</td>\n",
       "      <td>0.869027</td>\n",
       "      <td>97</td>\n",
       "    </tr>\n",
       "    <tr>\n",
       "      <th>2</th>\n",
       "      <td>0.59</td>\n",
       "      <td>0.720562</td>\n",
       "      <td>98</td>\n",
       "    </tr>\n",
       "    <tr>\n",
       "      <th>3</th>\n",
       "      <td>0.49</td>\n",
       "      <td>0.819694</td>\n",
       "      <td>99</td>\n",
       "    </tr>\n",
       "  </tbody>\n",
       "</table>\n",
       "</div>"
      ],
      "text/plain": [
       "   test_acc_list  test_entrop_list  test_step\n",
       "0           0.48          0.829630         96\n",
       "1           0.44          0.869027         97\n",
       "2           0.59          0.720562         98\n",
       "3           0.49          0.819694         99"
      ]
     },
     "execution_count": 99,
     "metadata": {},
     "output_type": "execute_result"
    }
   ],
   "source": [
    "test_result_list = pd.DataFrame({\"test_acc_list\":test_acc_list, \"test_entrop_list\":test_entrop_list,\n",
    "                            \"test_step\":test_step_list})\n",
    "test_result_list.head()"
   ]
  },
  {
   "cell_type": "code",
   "execution_count": 100,
   "metadata": {},
   "outputs": [
    {
     "data": {
      "text/plain": [
       "<matplotlib.axes._subplots.AxesSubplot at 0x7f5cd03fb208>"
      ]
     },
     "execution_count": 100,
     "metadata": {},
     "output_type": "execute_result"
    },
    {
     "data": {
      "image/png": "[encoded data removed]",
      "text/plain": [
       "<Figure size 1080x576 with 2 Axes>"
      ]
     },
     "metadata": {
      "needs_background": "light"
     },
     "output_type": "display_data"
    }
   ],
   "source": [
    "plt.figure(figsize=(15,8))\n",
    "\n",
    "plt.subplot(211)\n",
    "plt.xlabel(\"Step\")\n",
    "plt.ylabel(\"Accuracy\")\n",
    "sns.lineplot(x = result_list[\"step\"], y= result_list[\"train_acc_list\"])\n",
    "sns.lineplot(x = result_list[\"step\"], y= result_list[\"validation_acc_list\"])\n",
    "\n",
    "\n",
    "plt.subplot(212)\n",
    "plt.xlabel(\"Step\")\n",
    "plt.ylabel(\"Cross entropy\")\n",
    "sns.lineplot(x = result_list[\"step\"], y = result_list[\"train_entrop_list\"])\n",
    "sns.lineplot(x = result_list[\"step\"], y= result_list[\"validation_entrop_list\"])"
   ]
  },
  {
   "cell_type": "code",
   "execution_count": 101,
   "metadata": {},
   "outputs": [
    {
     "data": {
      "text/plain": [
       "<matplotlib.axes._subplots.AxesSubplot at 0x7f5c99b6b748>"
      ]
     },
     "execution_count": 101,
     "metadata": {},
     "output_type": "execute_result"
    },
    {
     "data": {
      "image/png": "[encoded data removed]",
      "text/plain": [
       "<Figure size 1080x576 with 2 Axes>"
      ]
     },
     "metadata": {
      "needs_background": "light"
     },
     "output_type": "display_data"
    }
   ],
   "source": [
    "plt.figure(figsize=(15,8))\n",
    "\n",
    "plt.subplot(211)\n",
    "plt.xlabel(\"Step\")\n",
    "plt.ylabel(\"Accuracy\")\n",
    "sns.lineplot(x = test_result_list[\"test_step\"], y= test_result_list[\"test_acc_list\"])\n",
    "\n",
    "plt.subplot(212)\n",
    "plt.xlabel(\"Step\")\n",
    "plt.ylabel(\"Cross entropy\")\n",
    "sns.lineplot(x = test_result_list[\"test_step\"], y= test_result_list[\"test_entrop_list\"])"
   ]
  },
  {
   "cell_type": "code",
   "execution_count": null,
   "metadata": {},
   "outputs": [],
   "source": []
  },
  {
   "cell_type": "code",
   "execution_count": null,
   "metadata": {},
   "outputs": [],
   "source": []
  },
  {
   "cell_type": "code",
   "execution_count": null,
   "metadata": {},
   "outputs": [],
   "source": []
  },
  {
   "cell_type": "code",
   "execution_count": null,
   "metadata": {},
   "outputs": [],
   "source": []
  },
  {
   "cell_type": "code",
   "execution_count": null,
   "metadata": {},
   "outputs": [],
   "source": []
  },
  {
   "cell_type": "markdown",
   "metadata": {},
   "source": [
    "# Making files path list"
   ]
  },
  {
   "cell_type": "code",
   "execution_count": 102,
   "metadata": {},
   "outputs": [],
   "source": [
    "base_dir = '/home/cocoan-gpu1/D_drive/MPC/data/SEMIC/numpy_data'"
   ]
  },
  {
   "cell_type": "code",
   "execution_count": 103,
   "metadata": {},
   "outputs": [],
   "source": [
    "dir_path_list = []\n",
    "filenames_list = []\n",
    "\n",
    "for dirpath, dirnames, filenames in os.walk(base_dir):\n",
    "    if 'model' in dirpath:\n",
    "        dir_path_list.append(dirpath)\n",
    "\n",
    "        temp_filenames_list=[]\n",
    "        for i in range(len(filenames)):\n",
    "            if 'sub' and 'npy' in filenames[i]:\n",
    "                temp_filenames_list.append(filenames[i])\n",
    "        filenames_list.append(temp_filenames_list)\n",
    "        \n",
    "dir_path_list = np.array(dir_path_list)\n",
    "filenames_list = np.array(filenames_list)\n",
    "filenames_list = np.sort(filenames_list, axis=1)\n",
    "\n",
    "full_path_list = []\n",
    "\n",
    "for i in range(dir_path_list.shape[0]):\n",
    "    temp_path_list=[]\n",
    "    for j in range(len(filenames_list[i])):\n",
    "        temp_path = os.path.join(dir_path_list[i], filenames_list[i][j])\n",
    "        temp_path_list.append(temp_path)\n",
    "    full_path_list.append(temp_path_list)\n",
    "\n",
    "full_path_list = np.array(full_path_list)"
   ]
  },
  {
   "cell_type": "code",
   "execution_count": 104,
   "metadata": {},
   "outputs": [
    {
     "data": {
      "text/plain": [
       "array(['/home/cocoan-gpu1/D_drive/MPC/data/SEMIC/numpy_data/model02_FIR_SPM_SINGLE_TRIAL',\n",
       "       '/home/cocoan-gpu1/D_drive/MPC/data/SEMIC/numpy_data/model02_Overall_FIR_SPM_SINGLE_TRIAL'],\n",
       "      dtype='<U88')"
      ]
     },
     "execution_count": 104,
     "metadata": {},
     "output_type": "execute_result"
    }
   ],
   "source": [
    "dir_path_list"
   ]
  },
  {
   "cell_type": "code",
   "execution_count": 105,
   "metadata": {},
   "outputs": [
    {
     "data": {
      "text/plain": [
       "(2, 58)"
      ]
     },
     "execution_count": 105,
     "metadata": {},
     "output_type": "execute_result"
    }
   ],
   "source": [
    "filenames_list.shape"
   ]
  },
  {
   "cell_type": "code",
   "execution_count": 106,
   "metadata": {},
   "outputs": [
    {
     "data": {
      "text/plain": [
       "array([['/home/cocoan-gpu1/D_drive/MPC/data/SEMIC/numpy_data/model02_FIR_SPM_SINGLE_TRIAL/model02_FIR_SPM_SINGLE_TRIAL_sub-semic001.npy',\n",
       "        '/home/cocoan-gpu1/D_drive/MPC/data/SEMIC/numpy_data/model02_FIR_SPM_SINGLE_TRIAL/model02_FIR_SPM_SINGLE_TRIAL_sub-semic002.npy',\n",
       "        '/home/cocoan-gpu1/D_drive/MPC/data/SEMIC/numpy_data/model02_FIR_SPM_SINGLE_TRIAL/model02_FIR_SPM_SINGLE_TRIAL_sub-semic003.npy',\n",
       "        '/home/cocoan-gpu1/D_drive/MPC/data/SEMIC/numpy_data/model02_FIR_SPM_SINGLE_TRIAL/model02_FIR_SPM_SINGLE_TRIAL_sub-semic004.npy',\n",
       "        '/home/cocoan-gpu1/D_drive/MPC/data/SEMIC/numpy_data/model02_FIR_SPM_SINGLE_TRIAL/model02_FIR_SPM_SINGLE_TRIAL_sub-semic005.npy',\n",
       "        '/home/cocoan-gpu1/D_drive/MPC/data/SEMIC/numpy_data/model02_FIR_SPM_SINGLE_TRIAL/model02_FIR_SPM_SINGLE_TRIAL_sub-semic006.npy',\n",
       "        '/home/cocoan-gpu1/D_drive/MPC/data/SEMIC/numpy_data/model02_FIR_SPM_SINGLE_TRIAL/model02_FIR_SPM_SINGLE_TRIAL_sub-semic007.npy',\n",
       "        '/home/cocoan-gpu1/D_drive/MPC/data/SEMIC/numpy_data/model02_FIR_SPM_SINGLE_TRIAL/model02_FIR_SPM_SINGLE_TRIAL_sub-semic008.npy',\n",
       "        '/home/cocoan-gpu1/D_drive/MPC/data/SEMIC/numpy_data/model02_FIR_SPM_SINGLE_TRIAL/model02_FIR_SPM_SINGLE_TRIAL_sub-semic009.npy',\n",
       "        '/home/cocoan-gpu1/D_drive/MPC/data/SEMIC/numpy_data/model02_FIR_SPM_SINGLE_TRIAL/model02_FIR_SPM_SINGLE_TRIAL_sub-semic010.npy',\n",
       "        '/home/cocoan-gpu1/D_drive/MPC/data/SEMIC/numpy_data/model02_FIR_SPM_SINGLE_TRIAL/model02_FIR_SPM_SINGLE_TRIAL_sub-semic011.npy',\n",
       "        '/home/cocoan-gpu1/D_drive/MPC/data/SEMIC/numpy_data/model02_FIR_SPM_SINGLE_TRIAL/model02_FIR_SPM_SINGLE_TRIAL_sub-semic012.npy',\n",
       "        '/home/cocoan-gpu1/D_drive/MPC/data/SEMIC/numpy_data/model02_FIR_SPM_SINGLE_TRIAL/model02_FIR_SPM_SINGLE_TRIAL_sub-semic013.npy',\n",
       "        '/home/cocoan-gpu1/D_drive/MPC/data/SEMIC/numpy_data/model02_FIR_SPM_SINGLE_TRIAL/model02_FIR_SPM_SINGLE_TRIAL_sub-semic014.npy',\n",
       "        '/home/cocoan-gpu1/D_drive/MPC/data/SEMIC/numpy_data/model02_FIR_SPM_SINGLE_TRIAL/model02_FIR_SPM_SINGLE_TRIAL_sub-semic015.npy',\n",
       "        '/home/cocoan-gpu1/D_drive/MPC/data/SEMIC/numpy_data/model02_FIR_SPM_SINGLE_TRIAL/model02_FIR_SPM_SINGLE_TRIAL_sub-semic016.npy',\n",
       "        '/home/cocoan-gpu1/D_drive/MPC/data/SEMIC/numpy_data/model02_FIR_SPM_SINGLE_TRIAL/model02_FIR_SPM_SINGLE_TRIAL_sub-semic018.npy',\n",
       "        '/home/cocoan-gpu1/D_drive/MPC/data/SEMIC/numpy_data/model02_FIR_SPM_SINGLE_TRIAL/model02_FIR_SPM_SINGLE_TRIAL_sub-semic019.npy',\n",
       "        '/home/cocoan-gpu1/D_drive/MPC/data/SEMIC/numpy_data/model02_FIR_SPM_SINGLE_TRIAL/model02_FIR_SPM_SINGLE_TRIAL_sub-semic020.npy',\n",
       "        '/home/cocoan-gpu1/D_drive/MPC/data/SEMIC/numpy_data/model02_FIR_SPM_SINGLE_TRIAL/model02_FIR_SPM_SINGLE_TRIAL_sub-semic021.npy',\n",
       "        '/home/cocoan-gpu1/D_drive/MPC/data/SEMIC/numpy_data/model02_FIR_SPM_SINGLE_TRIAL/model02_FIR_SPM_SINGLE_TRIAL_sub-semic022.npy',\n",
       "        '/home/cocoan-gpu1/D_drive/MPC/data/SEMIC/numpy_data/model02_FIR_SPM_SINGLE_TRIAL/model02_FIR_SPM_SINGLE_TRIAL_sub-semic023.npy',\n",
       "        '/home/cocoan-gpu1/D_drive/MPC/data/SEMIC/numpy_data/model02_FIR_SPM_SINGLE_TRIAL/model02_FIR_SPM_SINGLE_TRIAL_sub-semic024.npy',\n",
       "        '/home/cocoan-gpu1/D_drive/MPC/data/SEMIC/numpy_data/model02_FIR_SPM_SINGLE_TRIAL/model02_FIR_SPM_SINGLE_TRIAL_sub-semic025.npy',\n",
       "        '/home/cocoan-gpu1/D_drive/MPC/data/SEMIC/numpy_data/model02_FIR_SPM_SINGLE_TRIAL/model02_FIR_SPM_SINGLE_TRIAL_sub-semic026.npy',\n",
       "        '/home/cocoan-gpu1/D_drive/MPC/data/SEMIC/numpy_data/model02_FIR_SPM_SINGLE_TRIAL/model02_FIR_SPM_SINGLE_TRIAL_sub-semic027.npy',\n",
       "        '/home/cocoan-gpu1/D_drive/MPC/data/SEMIC/numpy_data/model02_FIR_SPM_SINGLE_TRIAL/model02_FIR_SPM_SINGLE_TRIAL_sub-semic028.npy',\n",
       "        '/home/cocoan-gpu1/D_drive/MPC/data/SEMIC/numpy_data/model02_FIR_SPM_SINGLE_TRIAL/model02_FIR_SPM_SINGLE_TRIAL_sub-semic029.npy',\n",
       "        '/home/cocoan-gpu1/D_drive/MPC/data/SEMIC/numpy_data/model02_FIR_SPM_SINGLE_TRIAL/model02_FIR_SPM_SINGLE_TRIAL_sub-semic030.npy',\n",
       "        '/home/cocoan-gpu1/D_drive/MPC/data/SEMIC/numpy_data/model02_FIR_SPM_SINGLE_TRIAL/model02_FIR_SPM_SINGLE_TRIAL_sub-semic031.npy',\n",
       "        '/home/cocoan-gpu1/D_drive/MPC/data/SEMIC/numpy_data/model02_FIR_SPM_SINGLE_TRIAL/model02_FIR_SPM_SINGLE_TRIAL_sub-semic032.npy',\n",
       "        '/home/cocoan-gpu1/D_drive/MPC/data/SEMIC/numpy_data/model02_FIR_SPM_SINGLE_TRIAL/model02_FIR_SPM_SINGLE_TRIAL_sub-semic033.npy',\n",
       "        '/home/cocoan-gpu1/D_drive/MPC/data/SEMIC/numpy_data/model02_FIR_SPM_SINGLE_TRIAL/model02_FIR_SPM_SINGLE_TRIAL_sub-semic034.npy',\n",
       "        '/home/cocoan-gpu1/D_drive/MPC/data/SEMIC/numpy_data/model02_FIR_SPM_SINGLE_TRIAL/model02_FIR_SPM_SINGLE_TRIAL_sub-semic035.npy',\n",
       "        '/home/cocoan-gpu1/D_drive/MPC/data/SEMIC/numpy_data/model02_FIR_SPM_SINGLE_TRIAL/model02_FIR_SPM_SINGLE_TRIAL_sub-semic036.npy',\n",
       "        '/home/cocoan-gpu1/D_drive/MPC/data/SEMIC/numpy_data/model02_FIR_SPM_SINGLE_TRIAL/model02_FIR_SPM_SINGLE_TRIAL_sub-semic037.npy',\n",
       "        '/home/cocoan-gpu1/D_drive/MPC/data/SEMIC/numpy_data/model02_FIR_SPM_SINGLE_TRIAL/model02_FIR_SPM_SINGLE_TRIAL_sub-semic038.npy',\n",
       "        '/home/cocoan-gpu1/D_drive/MPC/data/SEMIC/numpy_data/model02_FIR_SPM_SINGLE_TRIAL/model02_FIR_SPM_SINGLE_TRIAL_sub-semic039.npy',\n",
       "        '/home/cocoan-gpu1/D_drive/MPC/data/SEMIC/numpy_data/model02_FIR_SPM_SINGLE_TRIAL/model02_FIR_SPM_SINGLE_TRIAL_sub-semic040.npy',\n",
       "        '/home/cocoan-gpu1/D_drive/MPC/data/SEMIC/numpy_data/model02_FIR_SPM_SINGLE_TRIAL/model02_FIR_SPM_SINGLE_TRIAL_sub-semic041.npy',\n",
       "        '/home/cocoan-gpu1/D_drive/MPC/data/SEMIC/numpy_data/model02_FIR_SPM_SINGLE_TRIAL/model02_FIR_SPM_SINGLE_TRIAL_sub-semic042.npy',\n",
       "        '/home/cocoan-gpu1/D_drive/MPC/data/SEMIC/numpy_data/model02_FIR_SPM_SINGLE_TRIAL/model02_FIR_SPM_SINGLE_TRIAL_sub-semic043.npy',\n",
       "        '/home/cocoan-gpu1/D_drive/MPC/data/SEMIC/numpy_data/model02_FIR_SPM_SINGLE_TRIAL/model02_FIR_SPM_SINGLE_TRIAL_sub-semic044.npy',\n",
       "        '/home/cocoan-gpu1/D_drive/MPC/data/SEMIC/numpy_data/model02_FIR_SPM_SINGLE_TRIAL/model02_FIR_SPM_SINGLE_TRIAL_sub-semic045.npy',\n",
       "        '/home/cocoan-gpu1/D_drive/MPC/data/SEMIC/numpy_data/model02_FIR_SPM_SINGLE_TRIAL/model02_FIR_SPM_SINGLE_TRIAL_sub-semic046.npy',\n",
       "        '/home/cocoan-gpu1/D_drive/MPC/data/SEMIC/numpy_data/model02_FIR_SPM_SINGLE_TRIAL/model02_FIR_SPM_SINGLE_TRIAL_sub-semic047.npy',\n",
       "        '/home/cocoan-gpu1/D_drive/MPC/data/SEMIC/numpy_data/model02_FIR_SPM_SINGLE_TRIAL/model02_FIR_SPM_SINGLE_TRIAL_sub-semic048.npy',\n",
       "        '/home/cocoan-gpu1/D_drive/MPC/data/SEMIC/numpy_data/model02_FIR_SPM_SINGLE_TRIAL/model02_FIR_SPM_SINGLE_TRIAL_sub-semic049.npy',\n",
       "        '/home/cocoan-gpu1/D_drive/MPC/data/SEMIC/numpy_data/model02_FIR_SPM_SINGLE_TRIAL/model02_FIR_SPM_SINGLE_TRIAL_sub-semic050.npy',\n",
       "        '/home/cocoan-gpu1/D_drive/MPC/data/SEMIC/numpy_data/model02_FIR_SPM_SINGLE_TRIAL/model02_FIR_SPM_SINGLE_TRIAL_sub-semic051.npy',\n",
       "        '/home/cocoan-gpu1/D_drive/MPC/data/SEMIC/numpy_data/model02_FIR_SPM_SINGLE_TRIAL/model02_FIR_SPM_SINGLE_TRIAL_sub-semic052.npy',\n",
       "        '/home/cocoan-gpu1/D_drive/MPC/data/SEMIC/numpy_data/model02_FIR_SPM_SINGLE_TRIAL/model02_FIR_SPM_SINGLE_TRIAL_sub-semic053.npy',\n",
       "        '/home/cocoan-gpu1/D_drive/MPC/data/SEMIC/numpy_data/model02_FIR_SPM_SINGLE_TRIAL/model02_FIR_SPM_SINGLE_TRIAL_sub-semic054.npy',\n",
       "        '/home/cocoan-gpu1/D_drive/MPC/data/SEMIC/numpy_data/model02_FIR_SPM_SINGLE_TRIAL/model02_FIR_SPM_SINGLE_TRIAL_sub-semic055.npy',\n",
       "        '/home/cocoan-gpu1/D_drive/MPC/data/SEMIC/numpy_data/model02_FIR_SPM_SINGLE_TRIAL/model02_FIR_SPM_SINGLE_TRIAL_sub-semic056.npy',\n",
       "        '/home/cocoan-gpu1/D_drive/MPC/data/SEMIC/numpy_data/model02_FIR_SPM_SINGLE_TRIAL/model02_FIR_SPM_SINGLE_TRIAL_sub-semic057.npy',\n",
       "        '/home/cocoan-gpu1/D_drive/MPC/data/SEMIC/numpy_data/model02_FIR_SPM_SINGLE_TRIAL/model02_FIR_SPM_SINGLE_TRIAL_sub-semic058.npy',\n",
       "        '/home/cocoan-gpu1/D_drive/MPC/data/SEMIC/numpy_data/model02_FIR_SPM_SINGLE_TRIAL/model02_FIR_SPM_SINGLE_TRIAL_sub-semic059.npy'],\n",
       "       ['/home/cocoan-gpu1/D_drive/MPC/data/SEMIC/numpy_data/model02_Overall_FIR_SPM_SINGLE_TRIAL/model02_Overall_FIR_SPM_SINGLE_TRIAL_sub-semic001.npy',\n",
       "        '/home/cocoan-gpu1/D_drive/MPC/data/SEMIC/numpy_data/model02_Overall_FIR_SPM_SINGLE_TRIAL/model02_Overall_FIR_SPM_SINGLE_TRIAL_sub-semic002.npy',\n",
       "        '/home/cocoan-gpu1/D_drive/MPC/data/SEMIC/numpy_data/model02_Overall_FIR_SPM_SINGLE_TRIAL/model02_Overall_FIR_SPM_SINGLE_TRIAL_sub-semic003.npy',\n",
       "        '/home/cocoan-gpu1/D_drive/MPC/data/SEMIC/numpy_data/model02_Overall_FIR_SPM_SINGLE_TRIAL/model02_Overall_FIR_SPM_SINGLE_TRIAL_sub-semic004.npy',\n",
       "        '/home/cocoan-gpu1/D_drive/MPC/data/SEMIC/numpy_data/model02_Overall_FIR_SPM_SINGLE_TRIAL/model02_Overall_FIR_SPM_SINGLE_TRIAL_sub-semic005.npy',\n",
       "        '/home/cocoan-gpu1/D_drive/MPC/data/SEMIC/numpy_data/model02_Overall_FIR_SPM_SINGLE_TRIAL/model02_Overall_FIR_SPM_SINGLE_TRIAL_sub-semic006.npy',\n",
       "        '/home/cocoan-gpu1/D_drive/MPC/data/SEMIC/numpy_data/model02_Overall_FIR_SPM_SINGLE_TRIAL/model02_Overall_FIR_SPM_SINGLE_TRIAL_sub-semic007.npy',\n",
       "        '/home/cocoan-gpu1/D_drive/MPC/data/SEMIC/numpy_data/model02_Overall_FIR_SPM_SINGLE_TRIAL/model02_Overall_FIR_SPM_SINGLE_TRIAL_sub-semic008.npy',\n",
       "        '/home/cocoan-gpu1/D_drive/MPC/data/SEMIC/numpy_data/model02_Overall_FIR_SPM_SINGLE_TRIAL/model02_Overall_FIR_SPM_SINGLE_TRIAL_sub-semic009.npy',\n",
       "        '/home/cocoan-gpu1/D_drive/MPC/data/SEMIC/numpy_data/model02_Overall_FIR_SPM_SINGLE_TRIAL/model02_Overall_FIR_SPM_SINGLE_TRIAL_sub-semic010.npy',\n",
       "        '/home/cocoan-gpu1/D_drive/MPC/data/SEMIC/numpy_data/model02_Overall_FIR_SPM_SINGLE_TRIAL/model02_Overall_FIR_SPM_SINGLE_TRIAL_sub-semic011.npy',\n",
       "        '/home/cocoan-gpu1/D_drive/MPC/data/SEMIC/numpy_data/model02_Overall_FIR_SPM_SINGLE_TRIAL/model02_Overall_FIR_SPM_SINGLE_TRIAL_sub-semic012.npy',\n",
       "        '/home/cocoan-gpu1/D_drive/MPC/data/SEMIC/numpy_data/model02_Overall_FIR_SPM_SINGLE_TRIAL/model02_Overall_FIR_SPM_SINGLE_TRIAL_sub-semic013.npy',\n",
       "        '/home/cocoan-gpu1/D_drive/MPC/data/SEMIC/numpy_data/model02_Overall_FIR_SPM_SINGLE_TRIAL/model02_Overall_FIR_SPM_SINGLE_TRIAL_sub-semic014.npy',\n",
       "        '/home/cocoan-gpu1/D_drive/MPC/data/SEMIC/numpy_data/model02_Overall_FIR_SPM_SINGLE_TRIAL/model02_Overall_FIR_SPM_SINGLE_TRIAL_sub-semic015.npy',\n",
       "        '/home/cocoan-gpu1/D_drive/MPC/data/SEMIC/numpy_data/model02_Overall_FIR_SPM_SINGLE_TRIAL/model02_Overall_FIR_SPM_SINGLE_TRIAL_sub-semic016.npy',\n",
       "        '/home/cocoan-gpu1/D_drive/MPC/data/SEMIC/numpy_data/model02_Overall_FIR_SPM_SINGLE_TRIAL/model02_Overall_FIR_SPM_SINGLE_TRIAL_sub-semic018.npy',\n",
       "        '/home/cocoan-gpu1/D_drive/MPC/data/SEMIC/numpy_data/model02_Overall_FIR_SPM_SINGLE_TRIAL/model02_Overall_FIR_SPM_SINGLE_TRIAL_sub-semic019.npy',\n",
       "        '/home/cocoan-gpu1/D_drive/MPC/data/SEMIC/numpy_data/model02_Overall_FIR_SPM_SINGLE_TRIAL/model02_Overall_FIR_SPM_SINGLE_TRIAL_sub-semic020.npy',\n",
       "        '/home/cocoan-gpu1/D_drive/MPC/data/SEMIC/numpy_data/model02_Overall_FIR_SPM_SINGLE_TRIAL/model02_Overall_FIR_SPM_SINGLE_TRIAL_sub-semic021.npy',\n",
       "        '/home/cocoan-gpu1/D_drive/MPC/data/SEMIC/numpy_data/model02_Overall_FIR_SPM_SINGLE_TRIAL/model02_Overall_FIR_SPM_SINGLE_TRIAL_sub-semic022.npy',\n",
       "        '/home/cocoan-gpu1/D_drive/MPC/data/SEMIC/numpy_data/model02_Overall_FIR_SPM_SINGLE_TRIAL/model02_Overall_FIR_SPM_SINGLE_TRIAL_sub-semic023.npy',\n",
       "        '/home/cocoan-gpu1/D_drive/MPC/data/SEMIC/numpy_data/model02_Overall_FIR_SPM_SINGLE_TRIAL/model02_Overall_FIR_SPM_SINGLE_TRIAL_sub-semic024.npy',\n",
       "        '/home/cocoan-gpu1/D_drive/MPC/data/SEMIC/numpy_data/model02_Overall_FIR_SPM_SINGLE_TRIAL/model02_Overall_FIR_SPM_SINGLE_TRIAL_sub-semic025.npy',\n",
       "        '/home/cocoan-gpu1/D_drive/MPC/data/SEMIC/numpy_data/model02_Overall_FIR_SPM_SINGLE_TRIAL/model02_Overall_FIR_SPM_SINGLE_TRIAL_sub-semic026.npy',\n",
       "        '/home/cocoan-gpu1/D_drive/MPC/data/SEMIC/numpy_data/model02_Overall_FIR_SPM_SINGLE_TRIAL/model02_Overall_FIR_SPM_SINGLE_TRIAL_sub-semic027.npy',\n",
       "        '/home/cocoan-gpu1/D_drive/MPC/data/SEMIC/numpy_data/model02_Overall_FIR_SPM_SINGLE_TRIAL/model02_Overall_FIR_SPM_SINGLE_TRIAL_sub-semic028.npy',\n",
       "        '/home/cocoan-gpu1/D_drive/MPC/data/SEMIC/numpy_data/model02_Overall_FIR_SPM_SINGLE_TRIAL/model02_Overall_FIR_SPM_SINGLE_TRIAL_sub-semic029.npy',\n",
       "        '/home/cocoan-gpu1/D_drive/MPC/data/SEMIC/numpy_data/model02_Overall_FIR_SPM_SINGLE_TRIAL/model02_Overall_FIR_SPM_SINGLE_TRIAL_sub-semic030.npy',\n",
       "        '/home/cocoan-gpu1/D_drive/MPC/data/SEMIC/numpy_data/model02_Overall_FIR_SPM_SINGLE_TRIAL/model02_Overall_FIR_SPM_SINGLE_TRIAL_sub-semic031.npy',\n",
       "        '/home/cocoan-gpu1/D_drive/MPC/data/SEMIC/numpy_data/model02_Overall_FIR_SPM_SINGLE_TRIAL/model02_Overall_FIR_SPM_SINGLE_TRIAL_sub-semic032.npy',\n",
       "        '/home/cocoan-gpu1/D_drive/MPC/data/SEMIC/numpy_data/model02_Overall_FIR_SPM_SINGLE_TRIAL/model02_Overall_FIR_SPM_SINGLE_TRIAL_sub-semic033.npy',\n",
       "        '/home/cocoan-gpu1/D_drive/MPC/data/SEMIC/numpy_data/model02_Overall_FIR_SPM_SINGLE_TRIAL/model02_Overall_FIR_SPM_SINGLE_TRIAL_sub-semic034.npy',\n",
       "        '/home/cocoan-gpu1/D_drive/MPC/data/SEMIC/numpy_data/model02_Overall_FIR_SPM_SINGLE_TRIAL/model02_Overall_FIR_SPM_SINGLE_TRIAL_sub-semic035.npy',\n",
       "        '/home/cocoan-gpu1/D_drive/MPC/data/SEMIC/numpy_data/model02_Overall_FIR_SPM_SINGLE_TRIAL/model02_Overall_FIR_SPM_SINGLE_TRIAL_sub-semic036.npy',\n",
       "        '/home/cocoan-gpu1/D_drive/MPC/data/SEMIC/numpy_data/model02_Overall_FIR_SPM_SINGLE_TRIAL/model02_Overall_FIR_SPM_SINGLE_TRIAL_sub-semic037.npy',\n",
       "        '/home/cocoan-gpu1/D_drive/MPC/data/SEMIC/numpy_data/model02_Overall_FIR_SPM_SINGLE_TRIAL/model02_Overall_FIR_SPM_SINGLE_TRIAL_sub-semic038.npy',\n",
       "        '/home/cocoan-gpu1/D_drive/MPC/data/SEMIC/numpy_data/model02_Overall_FIR_SPM_SINGLE_TRIAL/model02_Overall_FIR_SPM_SINGLE_TRIAL_sub-semic039.npy',\n",
       "        '/home/cocoan-gpu1/D_drive/MPC/data/SEMIC/numpy_data/model02_Overall_FIR_SPM_SINGLE_TRIAL/model02_Overall_FIR_SPM_SINGLE_TRIAL_sub-semic040.npy',\n",
       "        '/home/cocoan-gpu1/D_drive/MPC/data/SEMIC/numpy_data/model02_Overall_FIR_SPM_SINGLE_TRIAL/model02_Overall_FIR_SPM_SINGLE_TRIAL_sub-semic041.npy',\n",
       "        '/home/cocoan-gpu1/D_drive/MPC/data/SEMIC/numpy_data/model02_Overall_FIR_SPM_SINGLE_TRIAL/model02_Overall_FIR_SPM_SINGLE_TRIAL_sub-semic042.npy',\n",
       "        '/home/cocoan-gpu1/D_drive/MPC/data/SEMIC/numpy_data/model02_Overall_FIR_SPM_SINGLE_TRIAL/model02_Overall_FIR_SPM_SINGLE_TRIAL_sub-semic043.npy',\n",
       "        '/home/cocoan-gpu1/D_drive/MPC/data/SEMIC/numpy_data/model02_Overall_FIR_SPM_SINGLE_TRIAL/model02_Overall_FIR_SPM_SINGLE_TRIAL_sub-semic044.npy',\n",
       "        '/home/cocoan-gpu1/D_drive/MPC/data/SEMIC/numpy_data/model02_Overall_FIR_SPM_SINGLE_TRIAL/model02_Overall_FIR_SPM_SINGLE_TRIAL_sub-semic045.npy',\n",
       "        '/home/cocoan-gpu1/D_drive/MPC/data/SEMIC/numpy_data/model02_Overall_FIR_SPM_SINGLE_TRIAL/model02_Overall_FIR_SPM_SINGLE_TRIAL_sub-semic046.npy',\n",
       "        '/home/cocoan-gpu1/D_drive/MPC/data/SEMIC/numpy_data/model02_Overall_FIR_SPM_SINGLE_TRIAL/model02_Overall_FIR_SPM_SINGLE_TRIAL_sub-semic047.npy',\n",
       "        '/home/cocoan-gpu1/D_drive/MPC/data/SEMIC/numpy_data/model02_Overall_FIR_SPM_SINGLE_TRIAL/model02_Overall_FIR_SPM_SINGLE_TRIAL_sub-semic048.npy',\n",
       "        '/home/cocoan-gpu1/D_drive/MPC/data/SEMIC/numpy_data/model02_Overall_FIR_SPM_SINGLE_TRIAL/model02_Overall_FIR_SPM_SINGLE_TRIAL_sub-semic049.npy',\n",
       "        '/home/cocoan-gpu1/D_drive/MPC/data/SEMIC/numpy_data/model02_Overall_FIR_SPM_SINGLE_TRIAL/model02_Overall_FIR_SPM_SINGLE_TRIAL_sub-semic050.npy',\n",
       "        '/home/cocoan-gpu1/D_drive/MPC/data/SEMIC/numpy_data/model02_Overall_FIR_SPM_SINGLE_TRIAL/model02_Overall_FIR_SPM_SINGLE_TRIAL_sub-semic051.npy',\n",
       "        '/home/cocoan-gpu1/D_drive/MPC/data/SEMIC/numpy_data/model02_Overall_FIR_SPM_SINGLE_TRIAL/model02_Overall_FIR_SPM_SINGLE_TRIAL_sub-semic052.npy',\n",
       "        '/home/cocoan-gpu1/D_drive/MPC/data/SEMIC/numpy_data/model02_Overall_FIR_SPM_SINGLE_TRIAL/model02_Overall_FIR_SPM_SINGLE_TRIAL_sub-semic053.npy',\n",
       "        '/home/cocoan-gpu1/D_drive/MPC/data/SEMIC/numpy_data/model02_Overall_FIR_SPM_SINGLE_TRIAL/model02_Overall_FIR_SPM_SINGLE_TRIAL_sub-semic054.npy',\n",
       "        '/home/cocoan-gpu1/D_drive/MPC/data/SEMIC/numpy_data/model02_Overall_FIR_SPM_SINGLE_TRIAL/model02_Overall_FIR_SPM_SINGLE_TRIAL_sub-semic055.npy',\n",
       "        '/home/cocoan-gpu1/D_drive/MPC/data/SEMIC/numpy_data/model02_Overall_FIR_SPM_SINGLE_TRIAL/model02_Overall_FIR_SPM_SINGLE_TRIAL_sub-semic056.npy',\n",
       "        '/home/cocoan-gpu1/D_drive/MPC/data/SEMIC/numpy_data/model02_Overall_FIR_SPM_SINGLE_TRIAL/model02_Overall_FIR_SPM_SINGLE_TRIAL_sub-semic057.npy',\n",
       "        '/home/cocoan-gpu1/D_drive/MPC/data/SEMIC/numpy_data/model02_Overall_FIR_SPM_SINGLE_TRIAL/model02_Overall_FIR_SPM_SINGLE_TRIAL_sub-semic058.npy',\n",
       "        '/home/cocoan-gpu1/D_drive/MPC/data/SEMIC/numpy_data/model02_Overall_FIR_SPM_SINGLE_TRIAL/model02_Overall_FIR_SPM_SINGLE_TRIAL_sub-semic059.npy']],\n",
       "      dtype='<U142')"
      ]
     },
     "execution_count": 106,
     "metadata": {},
     "output_type": "execute_result"
    }
   ],
   "source": [
    "full_path_list"
   ]
  },
  {
   "cell_type": "markdown",
   "metadata": {},
   "source": [
    "# Loading the data"
   ]
  },
  {
   "cell_type": "code",
   "execution_count": 113,
   "metadata": {},
   "outputs": [],
   "source": [
    "def load_data(subjec_num, shuffle=False, nan_to_num=False, one_hot_y=False, flatten_X=False):\n",
    "    import gc\n",
    "    gc.collect()\n",
    "\n",
    "    print(\"Loading {} data started ... \".format(filenames_list[0,subjec_num-1]))\n",
    "\n",
    "    start = timeit.default_timer()\n",
    "\n",
    "    X_stim = np.load(full_path_list[0,subjec_num-1])\n",
    "    \n",
    "    if nan_to_num:\n",
    "        np.nan_to_num(X_stim)\n",
    "\n",
    "    stop = timeit.default_timer()\n",
    "    check_time = stop-start\n",
    "    now = datetime.datetime.now()\n",
    "    print(\"###  Duration Time  : {} minutes   {} seconds      ###\".format(int(check_time)//60, int(check_time)%60))\n",
    "    print(\"###  Excecuted Time : {}     ###\".format(now))\n",
    "    print('\\n')\n",
    "\n",
    "    print(\"Loading {} data started ... \".format(filenames_list[1,subjec_num-1]))\n",
    "\n",
    "    start = timeit.default_timer()\n",
    "\n",
    "    X_control = np.load(full_path_list[1,subjec_num-1])\n",
    "    \n",
    "    if nan_to_num:\n",
    "        np.nan_to_num(X_control)\n",
    "    \n",
    "    stop = timeit.default_timer()\n",
    "    check_time = stop-start\n",
    "    now = datetime.datetime.now()\n",
    "    print(\"###  Duration Time  : {} minutes   {} seconds      ###\".format(int(check_time)//60, int(check_time)%60))\n",
    "    print(\"###  Excecuted Time : {}     ###\".format(now))\n",
    "    print('\\n')\n",
    "    \n",
    "    print(\"{} data shape is {}\".format(filenames_list[0,subjec_num-1], X_stim.shape))\n",
    "    print(\"{} data shape is {}\".format(filenames_list[1,subjec_num-1], X_control.shape))\n",
    "    print('\\n')\n",
    "\n",
    "    print(\"Concatenating is started.\")\n",
    "    print(\"Shuffle is {}\".format(shuffle))\n",
    "    print(\"NaN to number is {}\".format(nan_to_num))\n",
    "    print(\"Y One hot transform is {}\".format(one_hot_y))\n",
    "    print(\"flatten X is {}\".format(flatten_X))\n",
    "    print(\"\\n\")\n",
    "\n",
    "    stim_index_list = np.arange(0,X_stim.shape[0])\n",
    "    \n",
    "    if shuffle:\n",
    "        np.random.shuffle(stim_index_list)\n",
    "    \n",
    "    X = np.concatenate((X_stim[stim_index_list[:X_control.shape[0]],:,:,:], X_control), axis=0)\n",
    "    \n",
    "    if shuffle:\n",
    "        index = np.arange(0,X.shape[0])\n",
    "        np.random.shuffle(index)\n",
    "        X = X[index,:,:,:]\n",
    "    \n",
    "    X = X[:,:,:,:,np.newaxis]\n",
    "    \n",
    "    if flatten_X:\n",
    "        X = X.reshape((X.shape[0],-1))\n",
    "    \n",
    "    print(\"Concatenated data shape is : {}\".format(X.shape))\n",
    "    print(\"\\n\")\n",
    "\n",
    "    \n",
    "    Y_stim = np.ones(X_control.shape[0], dtype='i4')\n",
    "    Y_control = np.zeros(X_control.shape[0], dtype='i4')\n",
    "    Y = np.concatenate((Y_stim, Y_control), axis=0)\n",
    "    \n",
    "    if one_hot_y:\n",
    "        from mlxtend.preprocessing import one_hot\n",
    "        Y = one_hot(Y)\n",
    "    \n",
    "    if shuffle:\n",
    "        Y = Y[index,:]\n",
    "    \n",
    "    print(\"Y shape is : {}\".format(Y.shape))\n",
    "    print(\"\\n\")\n",
    "\n",
    "    del X_stim\n",
    "    del X_control\n",
    "    gc.collect()\n",
    "    \n",
    "    return X, Y"
   ]
  },
  {
   "cell_type": "code",
   "execution_count": null,
   "metadata": {},
   "outputs": [
    {
     "name": "stdout",
     "output_type": "stream",
     "text": [
      "Loading model02_FIR_SPM_SINGLE_TRIAL_sub-semic001.npy data started ... \n",
      "###  Duration Time  : 3 minutes   19 seconds      ###\n",
      "###  Excecuted Time : 2019-04-18 18:52:59.933031     ###\n",
      "\n",
      "\n",
      "Loading model02_Overall_FIR_SPM_SINGLE_TRIAL_sub-semic001.npy data started ... \n",
      "###  Duration Time  : 0 minutes   40 seconds      ###\n",
      "###  Excecuted Time : 2019-04-18 18:53:40.062103     ###\n",
      "\n",
      "\n",
      "model02_FIR_SPM_SINGLE_TRIAL_sub-semic001.npy data shape is (6051, 79, 95, 79)\n",
      "model02_Overall_FIR_SPM_SINGLE_TRIAL_sub-semic001.npy data shape is (2271, 79, 95, 79)\n",
      "\n",
      "\n",
      "Concatenating is started.\n",
      "Shuffle is True\n",
      "NaN to number is True\n",
      "Y One hot transform is True\n",
      "flatten X is False\n",
      "\n",
      "\n",
      "Concatenated data shape is : (4542, 79, 95, 79, 1)\n",
      "\n",
      "\n",
      "Y shape is : (4542, 2)\n",
      "\n",
      "\n",
      "* * * * * * * * * * * * *\n",
      "Currently on step 0\n",
      "##Train Cross entropy is: 0.7319921851158142\n",
      "##Train Accuracy is: 0.49000000953674316\n",
      "\n",
      "\n",
      "##Validation Cross entropy is: 0.7337997555732727\n",
      "##Validation Accuracy is: 0.5299999713897705\n",
      "* * * * * * * * * * * * *\n",
      "\n",
      "\n",
      "* * * * * * * * * * * * *\n",
      "Currently on step 10\n",
      "##Train Cross entropy is: 0.6931471824645996\n",
      "##Train Accuracy is: 0.5099999904632568\n",
      "\n",
      "\n",
      "##Validation Cross entropy is: 0.6931471824645996\n",
      "##Validation Accuracy is: 0.5299999713897705\n",
      "* * * * * * * * * * * * *\n",
      "\n",
      "\n",
      "* * * * * * * * * * * * *\n",
      "Currently on step 20\n",
      "##Train Cross entropy is: 0.6931471824645996\n",
      "##Train Accuracy is: 0.5199999809265137\n",
      "\n",
      "\n",
      "##Validation Cross entropy is: 0.6931471824645996\n",
      "##Validation Accuracy is: 0.5299999713897705\n",
      "* * * * * * * * * * * * *\n",
      "\n",
      "\n",
      "* * * * * * * * * * * * *\n",
      "Currently on step 30\n",
      "##Train Cross entropy is: 0.6931471824645996\n",
      "##Train Accuracy is: 0.5600000023841858\n",
      "\n",
      "\n",
      "##Validation Cross entropy is: 0.6931471824645996\n",
      "##Validation Accuracy is: 0.5299999713897705\n",
      "* * * * * * * * * * * * *\n",
      "\n",
      "\n",
      "Loading model02_FIR_SPM_SINGLE_TRIAL_sub-semic002.npy data started ... \n",
      "###  Duration Time  : 1 minutes   32 seconds      ###\n",
      "###  Excecuted Time : 2019-04-18 18:55:49.267349     ###\n",
      "\n",
      "\n",
      "Loading model02_Overall_FIR_SPM_SINGLE_TRIAL_sub-semic002.npy data started ... \n",
      "###  Duration Time  : 0 minutes   40 seconds      ###\n",
      "###  Excecuted Time : 2019-04-18 18:56:29.414952     ###\n",
      "\n",
      "\n",
      "model02_FIR_SPM_SINGLE_TRIAL_sub-semic002.npy data shape is (6051, 79, 95, 79)\n",
      "model02_Overall_FIR_SPM_SINGLE_TRIAL_sub-semic002.npy data shape is (2271, 79, 95, 79)\n",
      "\n",
      "\n",
      "Concatenating is started.\n",
      "Shuffle is True\n",
      "NaN to number is True\n",
      "Y One hot transform is True\n",
      "flatten X is False\n",
      "\n",
      "\n",
      "Concatenated data shape is : (4542, 79, 95, 79, 1)\n",
      "\n",
      "\n",
      "Y shape is : (4542, 2)\n",
      "\n",
      "\n",
      "* * * * * * * * * * * * *\n",
      "Currently on step 40\n",
      "##Train Cross entropy is: 0.6931471824645996\n",
      "##Train Accuracy is: 0.47999998927116394\n",
      "\n",
      "\n",
      "##Validation Cross entropy is: 0.6931471824645996\n",
      "##Validation Accuracy is: 0.6100000143051147\n",
      "* * * * * * * * * * * * *\n",
      "\n",
      "\n",
      "* * * * * * * * * * * * *\n",
      "Currently on step 50\n",
      "##Train Cross entropy is: 0.6931471824645996\n",
      "##Train Accuracy is: 0.4099999964237213\n",
      "\n",
      "\n",
      "##Validation Cross entropy is: 0.6931471824645996\n",
      "##Validation Accuracy is: 0.6100000143051147\n",
      "* * * * * * * * * * * * *\n",
      "\n",
      "\n",
      "Loading model02_FIR_SPM_SINGLE_TRIAL_sub-semic059.npy data started ... \n",
      "###  Duration Time  : 1 minutes   47 seconds      ###\n",
      "###  Excecuted Time : 2019-04-18 18:58:41.384922     ###\n",
      "\n",
      "\n",
      "Loading model02_Overall_FIR_SPM_SINGLE_TRIAL_sub-semic059.npy data started ... \n",
      "###  Duration Time  : 1 minutes   44 seconds      ###\n",
      "###  Excecuted Time : 2019-04-18 19:00:26.118459     ###\n",
      "\n",
      "\n",
      "model02_FIR_SPM_SINGLE_TRIAL_sub-semic059.npy data shape is (6051, 79, 95, 79)\n",
      "model02_Overall_FIR_SPM_SINGLE_TRIAL_sub-semic059.npy data shape is (2271, 79, 95, 79)\n",
      "\n",
      "\n",
      "Concatenating is started.\n",
      "Shuffle is True\n",
      "NaN to number is True\n",
      "Y One hot transform is True\n",
      "flatten X is False\n",
      "\n",
      "\n"
     ]
    }
   ],
   "source": [
    "train_acc_list = []\n",
    "train_entrop_list = []\n",
    "\n",
    "test_acc_list = []\n",
    "test_entrop_list = []\n",
    "\n",
    "validation_acc_list = []\n",
    "validataion_entrop_list = []\n",
    "\n",
    "step_list = []\n",
    "\n",
    "lowest_loss = None\n",
    "\n",
    "X = []\n",
    "Y = []\n",
    "\n",
    "with tf.Session() as sess:\n",
    "    sess.run(tf.global_variables_initializer())\n",
    "    saver = tf.train.Saver()\n",
    "    \n",
    "    subject_num = 1\n",
    "    start = timeit.default_timer()\n",
    "\n",
    "    for i in range(step_size):\n",
    "        \n",
    "        #Loading training and validation data sets\n",
    "        if i%36 == 0 and i < step_size-44:\n",
    "            del X\n",
    "            del Y\n",
    "            \n",
    "            X, Y = load_data(subject_num, shuffle=True, nan_to_num=True, one_hot_y=True, flatten_X=False)\n",
    "            \n",
    "            if subject_num<57:\n",
    "                subject_num +=1   \n",
    "            \n",
    "            elif subject_num>=57:\n",
    "                subject_num =1    \n",
    "\n",
    "        #Load test data sets\n",
    "        elif i == step_size-44:    \n",
    "            validate_subjec_num = 58\n",
    "            X, Y = load_data(validate_subjec_num, shuffle=True, nan_to_num=True, one_hot_y=True, flatten_X=False)\n",
    "\n",
    "        matches = tf.equal(tf.argmax(y_pred,1),tf.argmax(y_true,1))\n",
    "        acc = tf.reduce_mean(tf.cast(matches,tf.float32))\n",
    "        \n",
    "        #training model\n",
    "        if i < step_size-44:\n",
    "            j = i%44\n",
    "            _, train_entropy, train_accuracy = sess.run([train, cross_entropy, acc], \n",
    "                                                        feed_dict={x: X[j*100:j*100+100], \n",
    "                                                                   y_true: Y[j*100:j*100+100], \n",
    "                                                                   hold_prob: 0.5, is_train:True})\n",
    "\n",
    "            validation_entropy, validation_accuracy= sess.run([cross_entropy, acc],\n",
    "                                                  feed_dict={x: X[4400:4500], \n",
    "                                                             y_true: Y[4400:4500], \n",
    "                                                             hold_prob:1.0, is_train:False})\n",
    "            if i%10 == 0:\n",
    "                print(\"* * * * * * * * * * * * *\")\n",
    "                print('Currently on step {}'.format(i))\n",
    "                print('##Train Cross entropy is: {}'.format(train_entropy))\n",
    "                print('##Train Accuracy is: {}'.format(train_accuracy))\n",
    "                print('\\n')\n",
    "                print('##Validation Cross entropy is: {}'.format(validation_entropy))\n",
    "                print('##Validation Accuracy is: {}'.format(validation_accuracy))\n",
    "\n",
    "                print(\"* * * * * * * * * * * * *\")\n",
    "                print('\\n')\n",
    "                \n",
    "            train_acc_list.append(train_accuracy)\n",
    "            train_entrop_list.append(train_entropy)\n",
    "            \n",
    "            validation_acc_list.append(validation_accuracy)\n",
    "            validataion_entrop_list.append(validation_entropy)\n",
    "            \n",
    "            step_list.append(i)\n",
    "\n",
    "        #testing model\n",
    "        elif i > step_size-44:\n",
    "            j = i%44\n",
    "            test_entropy, test_accuracy= sess.run([cross_entropy, acc],\n",
    "                                                  feed_dict={x:X[j*100:j*100+100], \n",
    "                                                             y_true:Y[j*100:j*100+100], \n",
    "                                                             hold_prob:1.0, is_train:False})\n",
    "\n",
    "            test_acc_list.append(test_accuracy)\n",
    "            test_entrop_list.append(test_entropy)\n",
    "            \n",
    "            step_list.append(i)\n",
    "            \n",
    "            if i%1 == 0:\n",
    "                print(\"* * * * * * * * * * * * *\")\n",
    "                print('Currently on step {}'.format(i))\n",
    "                print('##Test Cross entropy is: {}'.format(test_entropy))\n",
    "                print('##Test Accuracy is: {}'.format(test_accuracy))\n",
    "\n",
    "                print(\"* * * * * * * * * * * * *\")\n",
    "                print('\\n')\n",
    "                \n",
    "'''\n",
    "        if lowest_loss == None or lowest_loss > validation_entropy:\n",
    "            lowest_loss = validation_entropy\n",
    "            saver.save(sess, \"./model/MPC_dnn_basic_SEMIC_binary_classification_ver4.ckpt\")\n",
    "'''\n",
    "\n",
    "train_acc_list = np.array(train_acc_list)\n",
    "train_entrop_list = np.array(train_entrop_list)\n",
    "\n",
    "test_entrop_list = np.array(test_entrop_list)\n",
    "test_acc_list = np.array(test_acc_list)\n",
    "\n",
    "validation_acc_list = np.array(validation_acc_list)\n",
    "validataion_entrop_list = np.array(validataion_entrop_list)\n",
    "\n",
    "step_list = np.array(step_list)\n",
    "\n",
    "stop = timeit.default_timer()\n",
    "check_time = stop-start\n",
    "now = datetime.datetime.now()\n",
    "\n",
    "print(\"!!!!Finished!!!!\")\n",
    "print(\"###  Duration Time  : {} minutes   {} seconds      ###\".format(int(check_time)//60, int(check_time)%60))\n",
    "print(\"###  Excecuted Time : {}     ###\".format(now))"
   ]
  },
  {
   "cell_type": "code",
   "execution_count": null,
   "metadata": {},
   "outputs": [],
   "source": []
  }
 ],
 "metadata": {
  "kernelspec": {
   "display_name": "tf3",
   "language": "python",
   "name": "tf3"
  },
  "language_info": {
   "codemirror_mode": {
    "name": "ipython",
    "version": 3
   },
   "file_extension": ".py",
   "mimetype": "text/x-python",
   "name": "python",
   "nbconvert_exporter": "python",
   "pygments_lexer": "ipython3",
   "version": "3.6.8"
  }
 },
 "nbformat": 4,
 "nbformat_minor": 2
}
